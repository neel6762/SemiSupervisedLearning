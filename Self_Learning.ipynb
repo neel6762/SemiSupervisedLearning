{
 "cells": [
  {
   "cell_type": "markdown",
   "id": "0f7a173f",
   "metadata": {},
   "source": [
    "Credits : https://towardsdatascience.com/a-gentle-introduction-to-self-training-and-semi-supervised-learning-ceee73178b38"
   ]
  },
  {
   "cell_type": "code",
   "execution_count": 1,
   "id": "8fae596d",
   "metadata": {},
   "outputs": [],
   "source": [
    "import pandas as pd\n",
    "import numpy as np\n",
    "import matplotlib.pyplot as plt\n",
    "\n",
    "import warnings, time\n",
    "warnings.filterwarnings('ignore')"
   ]
  },
  {
   "cell_type": "markdown",
   "id": "69632a0b",
   "metadata": {},
   "source": [
    "### Heart Disease Dataset"
   ]
  },
  {
   "cell_type": "code",
   "execution_count": 2,
   "id": "3a99bb60",
   "metadata": {},
   "outputs": [
    {
     "data": {
      "text/html": [
       "<div>\n",
       "<style scoped>\n",
       "    .dataframe tbody tr th:only-of-type {\n",
       "        vertical-align: middle;\n",
       "    }\n",
       "\n",
       "    .dataframe tbody tr th {\n",
       "        vertical-align: top;\n",
       "    }\n",
       "\n",
       "    .dataframe thead th {\n",
       "        text-align: right;\n",
       "    }\n",
       "</style>\n",
       "<table border=\"1\" class=\"dataframe\">\n",
       "  <thead>\n",
       "    <tr style=\"text-align: right;\">\n",
       "      <th></th>\n",
       "      <th>major_vessels_num_0</th>\n",
       "      <th>major_vessels_num_1</th>\n",
       "      <th>major_vessels_num_2</th>\n",
       "      <th>major_vessels_num_3</th>\n",
       "      <th>major_vessels_num_4</th>\n",
       "      <th>exercise_induced_angina_0</th>\n",
       "      <th>exercise_induced_angina_1</th>\n",
       "      <th>sex_0</th>\n",
       "      <th>sex_1</th>\n",
       "      <th>slope_st_0</th>\n",
       "      <th>...</th>\n",
       "      <th>thalassemia_1</th>\n",
       "      <th>thalassemia_2</th>\n",
       "      <th>thalassemia_3</th>\n",
       "      <th>maximum_heart_rate</th>\n",
       "      <th>oldpeak</th>\n",
       "      <th>chest_pain_0</th>\n",
       "      <th>chest_pain_1</th>\n",
       "      <th>chest_pain_2</th>\n",
       "      <th>chest_pain_3</th>\n",
       "      <th>target</th>\n",
       "    </tr>\n",
       "  </thead>\n",
       "  <tbody>\n",
       "    <tr>\n",
       "      <th>0</th>\n",
       "      <td>1</td>\n",
       "      <td>0</td>\n",
       "      <td>0</td>\n",
       "      <td>0</td>\n",
       "      <td>0</td>\n",
       "      <td>1</td>\n",
       "      <td>0</td>\n",
       "      <td>0</td>\n",
       "      <td>1</td>\n",
       "      <td>1</td>\n",
       "      <td>...</td>\n",
       "      <td>1</td>\n",
       "      <td>0</td>\n",
       "      <td>0</td>\n",
       "      <td>0.603053</td>\n",
       "      <td>0.370968</td>\n",
       "      <td>0</td>\n",
       "      <td>0</td>\n",
       "      <td>0</td>\n",
       "      <td>1</td>\n",
       "      <td>1</td>\n",
       "    </tr>\n",
       "    <tr>\n",
       "      <th>1</th>\n",
       "      <td>1</td>\n",
       "      <td>0</td>\n",
       "      <td>0</td>\n",
       "      <td>0</td>\n",
       "      <td>0</td>\n",
       "      <td>1</td>\n",
       "      <td>0</td>\n",
       "      <td>0</td>\n",
       "      <td>1</td>\n",
       "      <td>1</td>\n",
       "      <td>...</td>\n",
       "      <td>0</td>\n",
       "      <td>1</td>\n",
       "      <td>0</td>\n",
       "      <td>0.885496</td>\n",
       "      <td>0.564516</td>\n",
       "      <td>0</td>\n",
       "      <td>0</td>\n",
       "      <td>1</td>\n",
       "      <td>0</td>\n",
       "      <td>1</td>\n",
       "    </tr>\n",
       "    <tr>\n",
       "      <th>2</th>\n",
       "      <td>1</td>\n",
       "      <td>0</td>\n",
       "      <td>0</td>\n",
       "      <td>0</td>\n",
       "      <td>0</td>\n",
       "      <td>1</td>\n",
       "      <td>0</td>\n",
       "      <td>1</td>\n",
       "      <td>0</td>\n",
       "      <td>0</td>\n",
       "      <td>...</td>\n",
       "      <td>0</td>\n",
       "      <td>1</td>\n",
       "      <td>0</td>\n",
       "      <td>0.770992</td>\n",
       "      <td>0.225806</td>\n",
       "      <td>0</td>\n",
       "      <td>1</td>\n",
       "      <td>0</td>\n",
       "      <td>0</td>\n",
       "      <td>1</td>\n",
       "    </tr>\n",
       "    <tr>\n",
       "      <th>3</th>\n",
       "      <td>1</td>\n",
       "      <td>0</td>\n",
       "      <td>0</td>\n",
       "      <td>0</td>\n",
       "      <td>0</td>\n",
       "      <td>1</td>\n",
       "      <td>0</td>\n",
       "      <td>0</td>\n",
       "      <td>1</td>\n",
       "      <td>0</td>\n",
       "      <td>...</td>\n",
       "      <td>0</td>\n",
       "      <td>1</td>\n",
       "      <td>0</td>\n",
       "      <td>0.816794</td>\n",
       "      <td>0.129032</td>\n",
       "      <td>0</td>\n",
       "      <td>1</td>\n",
       "      <td>0</td>\n",
       "      <td>0</td>\n",
       "      <td>1</td>\n",
       "    </tr>\n",
       "    <tr>\n",
       "      <th>4</th>\n",
       "      <td>1</td>\n",
       "      <td>0</td>\n",
       "      <td>0</td>\n",
       "      <td>0</td>\n",
       "      <td>0</td>\n",
       "      <td>0</td>\n",
       "      <td>1</td>\n",
       "      <td>1</td>\n",
       "      <td>0</td>\n",
       "      <td>0</td>\n",
       "      <td>...</td>\n",
       "      <td>0</td>\n",
       "      <td>1</td>\n",
       "      <td>0</td>\n",
       "      <td>0.702290</td>\n",
       "      <td>0.096774</td>\n",
       "      <td>1</td>\n",
       "      <td>0</td>\n",
       "      <td>0</td>\n",
       "      <td>0</td>\n",
       "      <td>1</td>\n",
       "    </tr>\n",
       "    <tr>\n",
       "      <th>...</th>\n",
       "      <td>...</td>\n",
       "      <td>...</td>\n",
       "      <td>...</td>\n",
       "      <td>...</td>\n",
       "      <td>...</td>\n",
       "      <td>...</td>\n",
       "      <td>...</td>\n",
       "      <td>...</td>\n",
       "      <td>...</td>\n",
       "      <td>...</td>\n",
       "      <td>...</td>\n",
       "      <td>...</td>\n",
       "      <td>...</td>\n",
       "      <td>...</td>\n",
       "      <td>...</td>\n",
       "      <td>...</td>\n",
       "      <td>...</td>\n",
       "      <td>...</td>\n",
       "      <td>...</td>\n",
       "      <td>...</td>\n",
       "      <td>...</td>\n",
       "    </tr>\n",
       "    <tr>\n",
       "      <th>298</th>\n",
       "      <td>1</td>\n",
       "      <td>0</td>\n",
       "      <td>0</td>\n",
       "      <td>0</td>\n",
       "      <td>0</td>\n",
       "      <td>0</td>\n",
       "      <td>1</td>\n",
       "      <td>1</td>\n",
       "      <td>0</td>\n",
       "      <td>0</td>\n",
       "      <td>...</td>\n",
       "      <td>0</td>\n",
       "      <td>0</td>\n",
       "      <td>1</td>\n",
       "      <td>0.396947</td>\n",
       "      <td>0.032258</td>\n",
       "      <td>1</td>\n",
       "      <td>0</td>\n",
       "      <td>0</td>\n",
       "      <td>0</td>\n",
       "      <td>0</td>\n",
       "    </tr>\n",
       "    <tr>\n",
       "      <th>299</th>\n",
       "      <td>1</td>\n",
       "      <td>0</td>\n",
       "      <td>0</td>\n",
       "      <td>0</td>\n",
       "      <td>0</td>\n",
       "      <td>1</td>\n",
       "      <td>0</td>\n",
       "      <td>0</td>\n",
       "      <td>1</td>\n",
       "      <td>0</td>\n",
       "      <td>...</td>\n",
       "      <td>0</td>\n",
       "      <td>0</td>\n",
       "      <td>1</td>\n",
       "      <td>0.465649</td>\n",
       "      <td>0.193548</td>\n",
       "      <td>0</td>\n",
       "      <td>0</td>\n",
       "      <td>0</td>\n",
       "      <td>1</td>\n",
       "      <td>0</td>\n",
       "    </tr>\n",
       "    <tr>\n",
       "      <th>300</th>\n",
       "      <td>0</td>\n",
       "      <td>0</td>\n",
       "      <td>1</td>\n",
       "      <td>0</td>\n",
       "      <td>0</td>\n",
       "      <td>1</td>\n",
       "      <td>0</td>\n",
       "      <td>0</td>\n",
       "      <td>1</td>\n",
       "      <td>0</td>\n",
       "      <td>...</td>\n",
       "      <td>0</td>\n",
       "      <td>0</td>\n",
       "      <td>1</td>\n",
       "      <td>0.534351</td>\n",
       "      <td>0.548387</td>\n",
       "      <td>1</td>\n",
       "      <td>0</td>\n",
       "      <td>0</td>\n",
       "      <td>0</td>\n",
       "      <td>0</td>\n",
       "    </tr>\n",
       "    <tr>\n",
       "      <th>301</th>\n",
       "      <td>0</td>\n",
       "      <td>1</td>\n",
       "      <td>0</td>\n",
       "      <td>0</td>\n",
       "      <td>0</td>\n",
       "      <td>0</td>\n",
       "      <td>1</td>\n",
       "      <td>0</td>\n",
       "      <td>1</td>\n",
       "      <td>0</td>\n",
       "      <td>...</td>\n",
       "      <td>0</td>\n",
       "      <td>0</td>\n",
       "      <td>1</td>\n",
       "      <td>0.335878</td>\n",
       "      <td>0.193548</td>\n",
       "      <td>1</td>\n",
       "      <td>0</td>\n",
       "      <td>0</td>\n",
       "      <td>0</td>\n",
       "      <td>0</td>\n",
       "    </tr>\n",
       "    <tr>\n",
       "      <th>302</th>\n",
       "      <td>0</td>\n",
       "      <td>1</td>\n",
       "      <td>0</td>\n",
       "      <td>0</td>\n",
       "      <td>0</td>\n",
       "      <td>1</td>\n",
       "      <td>0</td>\n",
       "      <td>1</td>\n",
       "      <td>0</td>\n",
       "      <td>0</td>\n",
       "      <td>...</td>\n",
       "      <td>0</td>\n",
       "      <td>1</td>\n",
       "      <td>0</td>\n",
       "      <td>0.786260</td>\n",
       "      <td>0.000000</td>\n",
       "      <td>0</td>\n",
       "      <td>1</td>\n",
       "      <td>0</td>\n",
       "      <td>0</td>\n",
       "      <td>0</td>\n",
       "    </tr>\n",
       "  </tbody>\n",
       "</table>\n",
       "<p>303 rows × 23 columns</p>\n",
       "</div>"
      ],
      "text/plain": [
       "     major_vessels_num_0  major_vessels_num_1  major_vessels_num_2  \\\n",
       "0                      1                    0                    0   \n",
       "1                      1                    0                    0   \n",
       "2                      1                    0                    0   \n",
       "3                      1                    0                    0   \n",
       "4                      1                    0                    0   \n",
       "..                   ...                  ...                  ...   \n",
       "298                    1                    0                    0   \n",
       "299                    1                    0                    0   \n",
       "300                    0                    0                    1   \n",
       "301                    0                    1                    0   \n",
       "302                    0                    1                    0   \n",
       "\n",
       "     major_vessels_num_3  major_vessels_num_4  exercise_induced_angina_0  \\\n",
       "0                      0                    0                          1   \n",
       "1                      0                    0                          1   \n",
       "2                      0                    0                          1   \n",
       "3                      0                    0                          1   \n",
       "4                      0                    0                          0   \n",
       "..                   ...                  ...                        ...   \n",
       "298                    0                    0                          0   \n",
       "299                    0                    0                          1   \n",
       "300                    0                    0                          1   \n",
       "301                    0                    0                          0   \n",
       "302                    0                    0                          1   \n",
       "\n",
       "     exercise_induced_angina_1  sex_0  sex_1  slope_st_0  ...  thalassemia_1  \\\n",
       "0                            0      0      1           1  ...              1   \n",
       "1                            0      0      1           1  ...              0   \n",
       "2                            0      1      0           0  ...              0   \n",
       "3                            0      0      1           0  ...              0   \n",
       "4                            1      1      0           0  ...              0   \n",
       "..                         ...    ...    ...         ...  ...            ...   \n",
       "298                          1      1      0           0  ...              0   \n",
       "299                          0      0      1           0  ...              0   \n",
       "300                          0      0      1           0  ...              0   \n",
       "301                          1      0      1           0  ...              0   \n",
       "302                          0      1      0           0  ...              0   \n",
       "\n",
       "     thalassemia_2  thalassemia_3  maximum_heart_rate   oldpeak  chest_pain_0  \\\n",
       "0                0              0            0.603053  0.370968             0   \n",
       "1                1              0            0.885496  0.564516             0   \n",
       "2                1              0            0.770992  0.225806             0   \n",
       "3                1              0            0.816794  0.129032             0   \n",
       "4                1              0            0.702290  0.096774             1   \n",
       "..             ...            ...                 ...       ...           ...   \n",
       "298              0              1            0.396947  0.032258             1   \n",
       "299              0              1            0.465649  0.193548             0   \n",
       "300              0              1            0.534351  0.548387             1   \n",
       "301              0              1            0.335878  0.193548             1   \n",
       "302              1              0            0.786260  0.000000             0   \n",
       "\n",
       "     chest_pain_1  chest_pain_2  chest_pain_3  target  \n",
       "0               0             0             1       1  \n",
       "1               0             1             0       1  \n",
       "2               1             0             0       1  \n",
       "3               1             0             0       1  \n",
       "4               0             0             0       1  \n",
       "..            ...           ...           ...     ...  \n",
       "298             0             0             0       0  \n",
       "299             0             0             1       0  \n",
       "300             0             0             0       0  \n",
       "301             0             0             0       0  \n",
       "302             1             0             0       0  \n",
       "\n",
       "[303 rows x 23 columns]"
      ]
     },
     "execution_count": 2,
     "metadata": {},
     "output_type": "execute_result"
    }
   ],
   "source": [
    "data = pd.read_pickle(\"./pickle_files/heart_data_pre_processed.pkl\")\n",
    "data"
   ]
  },
  {
   "cell_type": "code",
   "execution_count": 3,
   "id": "charming-renaissance",
   "metadata": {},
   "outputs": [],
   "source": [
    "X = data.drop(columns=['target'])\n",
    "y = data['target']"
   ]
  },
  {
   "cell_type": "markdown",
   "id": "e8dda9a6",
   "metadata": {},
   "source": [
    "### Applying the Self-training algorithm on the Heart Disease Dataset"
   ]
  },
  {
   "cell_type": "code",
   "execution_count": 4,
   "id": "developmental-growth",
   "metadata": {},
   "outputs": [],
   "source": [
    "from sklearn.metrics import accuracy_score, precision_score, recall_score, f1_score,roc_curve, roc_auc_score,roc_auc_score\n",
    "from sklearn.metrics import plot_confusion_matrix\n",
    "from sklearn.model_selection import GridSearchCV\n",
    "\n",
    "def get_scores(y_test, y_predictions):\n",
    "    \"\"\"returns the accuracy and the F1 score for the following predictions\"\"\"\n",
    "    f1_res = f1_score(y_test, y_predictions)\n",
    "    accuracy = accuracy_score(y_test, y_predictions)\n",
    "    return f1_res, accuracy"
   ]
  },
  {
   "cell_type": "code",
   "execution_count": 5,
   "id": "basic-security",
   "metadata": {},
   "outputs": [],
   "source": [
    "def model(clf,X_train,X_test,y_train,y_test):\n",
    "    \"\"\"\n",
    "    builds the model with the passed classifier,\n",
    "    predicts the test data,\n",
    "    prints the confusion matrix,\n",
    "    returns the f1 and accuracy score,\n",
    "    \"\"\"\n",
    "    \n",
    "    clf.fit(X_train, y_train)\n",
    "    \n",
    "    #predictions\n",
    "    prediction = clf.predict(X_test)\n",
    "    predict_proba_values = clf.predict_proba(X_test)\n",
    "    # f1 and accuracy scores\n",
    "    score_f1, score_acc = get_scores(y_test, prediction)\n",
    "    \n",
    "    print(\"-\"*60)\n",
    "    print(f\"Test Scores : {clf}\\nAccuracy:{score_acc}\\tF1 Score:{score_f1}\")\n",
    "    print(\"-\"*60)\n",
    "    print(plot_confusion_matrix(clf, X_test, y_test, cmap='Blues', normalize='true'))\n",
    "    \n",
    "    return score_acc, score_f1,predict_proba_values"
   ]
  },
  {
   "cell_type": "code",
   "execution_count": 6,
   "id": "empty-danish",
   "metadata": {},
   "outputs": [],
   "source": [
    "def plot_roc(y_test, predict_proba_value):\n",
    "    \"\"\"\n",
    "    plots the roc curve based on y_test and predcit_proba value\n",
    "    \"\"\"\n",
    "    fpr, tpr, _ = roc_curve(y_test, predict_proba_value[:,[1]])\n",
    "    plt.plot(fpr,tpr)\n",
    "    plt.xlabel(\"False Positive Rate\")\n",
    "    plt.ylabel(\"True Positive Rate\")\n",
    "    plt.show()\n",
    "    return fpr, tpr"
   ]
  },
  {
   "cell_type": "markdown",
   "id": "transsexual-aggregate",
   "metadata": {},
   "source": [
    "Dictionary that holds the final results"
   ]
  },
  {
   "cell_type": "code",
   "execution_count": 7,
   "id": "indonesian-madagascar",
   "metadata": {},
   "outputs": [],
   "source": [
    "final_scores = {}\n",
    "time_elapsed = {}"
   ]
  },
  {
   "cell_type": "code",
   "execution_count": 8,
   "id": "378a1ace",
   "metadata": {},
   "outputs": [],
   "source": [
    "# The paramerter grid for Random Forest Algorithm\n",
    "param_grid_rf = { \n",
    "    'n_estimators': [100,150,200],\n",
    "    'max_features': ['auto', 'sqrt', 'log2'],\n",
    "    'max_depth' : [3,5,7,9],\n",
    "    'criterion' :['gini', 'entropy']\n",
    "}"
   ]
  },
  {
   "cell_type": "markdown",
   "id": "fixed-spectacular",
   "metadata": {},
   "source": [
    "#### Fully Supervised"
   ]
  },
  {
   "cell_type": "code",
   "execution_count": 9,
   "id": "traditional-trick",
   "metadata": {},
   "outputs": [],
   "source": [
    "# Train-Test split\n",
    "from sklearn.model_selection import train_test_split\n",
    "X_train, X_test, y_train, y_test = train_test_split(X, y, test_size=0.33, random_state=42)"
   ]
  },
  {
   "cell_type": "code",
   "execution_count": 10,
   "id": "agreed-supplement",
   "metadata": {},
   "outputs": [
    {
     "name": "stdout",
     "output_type": "stream",
     "text": [
      "RandomForestClassifier(criterion='entropy', max_depth=3, n_jobs=-1,\n",
      "                       random_state=55)\n",
      "------------------------------------------------------------\n",
      "Test Scores : RandomForestClassifier(criterion='entropy', max_depth=3, n_jobs=-1,\n",
      "                       random_state=55)\n",
      "Accuracy:0.84\tF1 Score:0.8620689655172413\n",
      "------------------------------------------------------------\n",
      "<sklearn.metrics._plot.confusion_matrix.ConfusionMatrixDisplay object at 0x12d122fa0>\n"
     ]
    },
    {
     "data": {
      "image/png": "[encoded data removed]",
      "text/plain": [
       "<Figure size 432x288 with 2 Axes>"
      ]
     },
     "metadata": {
      "needs_background": "light"
     },
     "output_type": "display_data"
    }
   ],
   "source": [
    "from sklearn.ensemble import RandomForestClassifier\n",
    "\n",
    "start_time = time.time()\n",
    "rf_clf = RandomForestClassifier(random_state=55, n_jobs=-1)\n",
    "grid_rf1 = GridSearchCV(estimator=rf_clf, param_grid=param_grid_rf, n_jobs=-1)\n",
    "grid_rf1.fit(X_train, y_train)\n",
    "print(grid_rf1.best_estimator_)\n",
    "\n",
    "rf_acc, rf_f1, rf_pp = model(grid_rf1.best_estimator_, X_train,X_test,y_train,y_test)\n",
    "end_time = time.time()\n",
    "final_scores[(\"Fully Supervised Accuracy\", \"Fully Supervised F1 Score\")] = (rf_acc,rf_f1)\n"
   ]
  },
  {
   "cell_type": "code",
   "execution_count": 11,
   "id": "dominican-intent",
   "metadata": {},
   "outputs": [
    {
     "data": {
      "image/png": "[encoded data removed]",
      "text/plain": [
       "<Figure size 432x288 with 1 Axes>"
      ]
     },
     "metadata": {
      "needs_background": "light"
     },
     "output_type": "display_data"
    }
   ],
   "source": [
    "rf1_fpr, rf1_tpr = plot_roc(y_test, rf_pp)"
   ]
  },
  {
   "cell_type": "code",
   "execution_count": 12,
   "id": "0faf4f3a",
   "metadata": {},
   "outputs": [
    {
     "name": "stdout",
     "output_type": "stream",
     "text": [
      "Time Elapsed : 100% Supervised Data : 25.82628607749939\n"
     ]
    }
   ],
   "source": [
    "time_elapsed[\"Fully Supervised\"] = end_time-start_time\n",
    "print(f\"Time Elapsed : 100% Supervised Data : {end_time-start_time}\")"
   ]
  },
  {
   "cell_type": "markdown",
   "id": "covered-microwave",
   "metadata": {},
   "source": [
    "#### 10% Unlabelled Data"
   ]
  },
  {
   "cell_type": "code",
   "execution_count": 13,
   "id": "cosmetic-graduation",
   "metadata": {},
   "outputs": [
    {
     "data": {
      "text/html": [
       "<div>\n",
       "<style scoped>\n",
       "    .dataframe tbody tr th:only-of-type {\n",
       "        vertical-align: middle;\n",
       "    }\n",
       "\n",
       "    .dataframe tbody tr th {\n",
       "        vertical-align: top;\n",
       "    }\n",
       "\n",
       "    .dataframe thead th {\n",
       "        text-align: right;\n",
       "    }\n",
       "</style>\n",
       "<table border=\"1\" class=\"dataframe\">\n",
       "  <thead>\n",
       "    <tr style=\"text-align: right;\">\n",
       "      <th></th>\n",
       "      <th>major_vessels_num_0</th>\n",
       "      <th>major_vessels_num_1</th>\n",
       "      <th>major_vessels_num_2</th>\n",
       "      <th>major_vessels_num_3</th>\n",
       "      <th>major_vessels_num_4</th>\n",
       "      <th>exercise_induced_angina_0</th>\n",
       "      <th>exercise_induced_angina_1</th>\n",
       "      <th>sex_0</th>\n",
       "      <th>sex_1</th>\n",
       "      <th>slope_st_0</th>\n",
       "      <th>...</th>\n",
       "      <th>thalassemia_1</th>\n",
       "      <th>thalassemia_2</th>\n",
       "      <th>thalassemia_3</th>\n",
       "      <th>maximum_heart_rate</th>\n",
       "      <th>oldpeak</th>\n",
       "      <th>chest_pain_0</th>\n",
       "      <th>chest_pain_1</th>\n",
       "      <th>chest_pain_2</th>\n",
       "      <th>chest_pain_3</th>\n",
       "      <th>target</th>\n",
       "    </tr>\n",
       "  </thead>\n",
       "  <tbody>\n",
       "    <tr>\n",
       "      <th>112</th>\n",
       "      <td>1</td>\n",
       "      <td>0</td>\n",
       "      <td>0</td>\n",
       "      <td>0</td>\n",
       "      <td>0</td>\n",
       "      <td>1</td>\n",
       "      <td>0</td>\n",
       "      <td>1</td>\n",
       "      <td>0</td>\n",
       "      <td>0</td>\n",
       "      <td>...</td>\n",
       "      <td>0</td>\n",
       "      <td>0</td>\n",
       "      <td>1</td>\n",
       "      <td>0.473282</td>\n",
       "      <td>0.032258</td>\n",
       "      <td>0</td>\n",
       "      <td>0</td>\n",
       "      <td>1</td>\n",
       "      <td>0</td>\n",
       "      <td>1</td>\n",
       "    </tr>\n",
       "    <tr>\n",
       "      <th>63</th>\n",
       "      <td>1</td>\n",
       "      <td>0</td>\n",
       "      <td>0</td>\n",
       "      <td>0</td>\n",
       "      <td>0</td>\n",
       "      <td>1</td>\n",
       "      <td>0</td>\n",
       "      <td>0</td>\n",
       "      <td>1</td>\n",
       "      <td>0</td>\n",
       "      <td>...</td>\n",
       "      <td>1</td>\n",
       "      <td>0</td>\n",
       "      <td>0</td>\n",
       "      <td>0.465649</td>\n",
       "      <td>0.000000</td>\n",
       "      <td>0</td>\n",
       "      <td>1</td>\n",
       "      <td>0</td>\n",
       "      <td>0</td>\n",
       "      <td>1</td>\n",
       "    </tr>\n",
       "    <tr>\n",
       "      <th>270</th>\n",
       "      <td>1</td>\n",
       "      <td>0</td>\n",
       "      <td>0</td>\n",
       "      <td>0</td>\n",
       "      <td>0</td>\n",
       "      <td>1</td>\n",
       "      <td>0</td>\n",
       "      <td>0</td>\n",
       "      <td>1</td>\n",
       "      <td>0</td>\n",
       "      <td>...</td>\n",
       "      <td>0</td>\n",
       "      <td>0</td>\n",
       "      <td>1</td>\n",
       "      <td>0.557252</td>\n",
       "      <td>0.129032</td>\n",
       "      <td>1</td>\n",
       "      <td>0</td>\n",
       "      <td>0</td>\n",
       "      <td>0</td>\n",
       "      <td>0</td>\n",
       "    </tr>\n",
       "    <tr>\n",
       "      <th>39</th>\n",
       "      <td>1</td>\n",
       "      <td>0</td>\n",
       "      <td>0</td>\n",
       "      <td>0</td>\n",
       "      <td>0</td>\n",
       "      <td>1</td>\n",
       "      <td>0</td>\n",
       "      <td>1</td>\n",
       "      <td>0</td>\n",
       "      <td>0</td>\n",
       "      <td>...</td>\n",
       "      <td>0</td>\n",
       "      <td>1</td>\n",
       "      <td>0</td>\n",
       "      <td>0.610687</td>\n",
       "      <td>0.129032</td>\n",
       "      <td>0</td>\n",
       "      <td>0</td>\n",
       "      <td>1</td>\n",
       "      <td>0</td>\n",
       "      <td>1</td>\n",
       "    </tr>\n",
       "    <tr>\n",
       "      <th>277</th>\n",
       "      <td>1</td>\n",
       "      <td>0</td>\n",
       "      <td>0</td>\n",
       "      <td>0</td>\n",
       "      <td>0</td>\n",
       "      <td>1</td>\n",
       "      <td>0</td>\n",
       "      <td>0</td>\n",
       "      <td>1</td>\n",
       "      <td>0</td>\n",
       "      <td>...</td>\n",
       "      <td>0</td>\n",
       "      <td>0</td>\n",
       "      <td>1</td>\n",
       "      <td>0.534351</td>\n",
       "      <td>0.048387</td>\n",
       "      <td>0</td>\n",
       "      <td>1</td>\n",
       "      <td>0</td>\n",
       "      <td>0</td>\n",
       "      <td>0</td>\n",
       "    </tr>\n",
       "  </tbody>\n",
       "</table>\n",
       "<p>5 rows × 23 columns</p>\n",
       "</div>"
      ],
      "text/plain": [
       "     major_vessels_num_0  major_vessels_num_1  major_vessels_num_2  \\\n",
       "112                    1                    0                    0   \n",
       "63                     1                    0                    0   \n",
       "270                    1                    0                    0   \n",
       "39                     1                    0                    0   \n",
       "277                    1                    0                    0   \n",
       "\n",
       "     major_vessels_num_3  major_vessels_num_4  exercise_induced_angina_0  \\\n",
       "112                    0                    0                          1   \n",
       "63                     0                    0                          1   \n",
       "270                    0                    0                          1   \n",
       "39                     0                    0                          1   \n",
       "277                    0                    0                          1   \n",
       "\n",
       "     exercise_induced_angina_1  sex_0  sex_1  slope_st_0  ...  thalassemia_1  \\\n",
       "112                          0      1      0           0  ...              0   \n",
       "63                           0      0      1           0  ...              1   \n",
       "270                          0      0      1           0  ...              0   \n",
       "39                           0      1      0           0  ...              0   \n",
       "277                          0      0      1           0  ...              0   \n",
       "\n",
       "     thalassemia_2  thalassemia_3  maximum_heart_rate   oldpeak  chest_pain_0  \\\n",
       "112              0              1            0.473282  0.032258             0   \n",
       "63               0              0            0.465649  0.000000             0   \n",
       "270              0              1            0.557252  0.129032             1   \n",
       "39               1              0            0.610687  0.129032             0   \n",
       "277              0              1            0.534351  0.048387             0   \n",
       "\n",
       "     chest_pain_1  chest_pain_2  chest_pain_3  target  \n",
       "112             0             1             0       1  \n",
       "63              1             0             0       1  \n",
       "270             0             0             0       0  \n",
       "39              0             1             0       1  \n",
       "277             1             0             0       0  \n",
       "\n",
       "[5 rows x 23 columns]"
      ]
     },
     "execution_count": 13,
     "metadata": {},
     "output_type": "execute_result"
    }
   ],
   "source": [
    "df = data.sample(frac=1, random_state=50)\n",
    "df.head()"
   ]
  },
  {
   "cell_type": "code",
   "execution_count": 14,
   "id": "incorporated-lewis",
   "metadata": {},
   "outputs": [
    {
     "name": "stdout",
     "output_type": "stream",
     "text": [
      "X_train dimensions: (182, 22)\n",
      "y_train dimensions: (182,)\n",
      "\n",
      "X_test dimensions: (91, 22)\n",
      "y_test dimensions: (91,)\n",
      "\n",
      "X_unlabeled dimensions: (30, 22)\n"
     ]
    }
   ],
   "source": [
    "# generating the split indices and partition of data\n",
    "unlabelled_data_ind = round(len(df) * 0.10)\n",
    "train_ind = unlabelled_data_ind + round(len(df) * 0.60)\n",
    "test_ind = train_ind + round(len(df) * 0.30)\n",
    "\n",
    "unlabelled = df.iloc[:unlabelled_data_ind]\n",
    "train = df.iloc[unlabelled_data_ind:train_ind]\n",
    "test = df.iloc[train_ind:]\n",
    "\n",
    "# assigning the data to train, test and unlabelled sets\n",
    "X_train = train.drop('target', axis=1)\n",
    "y_train = train['target']\n",
    "\n",
    "X_test = test.drop('target', axis=1)\n",
    "y_test = test['target']\n",
    "\n",
    "X_unlabeled = unlabelled.drop('target', axis=1)\n",
    "\n",
    "\n",
    "# Check dimensions of data after splitting\n",
    "\n",
    "print(f\"X_train dimensions: {X_train.shape}\")\n",
    "print(f\"y_train dimensions: {y_train.shape}\\n\")\n",
    "\n",
    "print(f\"X_test dimensions: {X_test.shape}\")\n",
    "print(f\"y_test dimensions: {y_test.shape}\\n\")\n",
    "\n",
    "print(f\"X_unlabeled dimensions: {X_unlabeled.shape}\")"
   ]
  },
  {
   "cell_type": "markdown",
   "id": "friendly-elevation",
   "metadata": {},
   "source": [
    "Class Distirbution; almost identical"
   ]
  },
  {
   "cell_type": "code",
   "execution_count": 15,
   "id": "little-representative",
   "metadata": {},
   "outputs": [
    {
     "data": {
      "text/plain": [
       "<AxesSubplot:>"
      ]
     },
     "execution_count": 15,
     "metadata": {},
     "output_type": "execute_result"
    },
    {
     "data": {
      "image/png": "[encoded data removed]",
      "text/plain": [
       "<Figure size 432x288 with 1 Axes>"
      ]
     },
     "metadata": {
      "needs_background": "light"
     },
     "output_type": "display_data"
    }
   ],
   "source": [
    "y_train.value_counts().plot(kind='bar')"
   ]
  },
  {
   "cell_type": "markdown",
   "id": "documented-direction",
   "metadata": {},
   "source": [
    "STEPS followed : \n",
    "- Train a Random Forest Classifier on the labelled data\n",
    "- Use this classifier to predict labels for the unlabelled data, adopt pseudo-lables with prediction probability greater or equal to 95\n",
    "- Concatenate the ‘pseudo-labeled’ data with the labeled training data, and re-train the classifier on the concatenated data.\n",
    "- Use trained classifier to make predictions for the labeled test data, and evaluate the classifier.\n",
    "- Repeat these steps until no more predictions have a probability greater than 98"
   ]
  },
  {
   "cell_type": "code",
   "execution_count": 16,
   "id": "psychological-jumping",
   "metadata": {},
   "outputs": [
    {
     "name": "stdout",
     "output_type": "stream",
     "text": [
      "RandomForestClassifier(max_depth=7, n_jobs=-1, random_state=55)\n",
      "------------------------------------------------------------\n",
      "Test Scores : RandomForestClassifier(max_depth=7, n_jobs=-1, random_state=55)\n",
      "Accuracy:0.8021978021978022\tF1 Score:0.8363636363636364\n",
      "------------------------------------------------------------\n",
      "<sklearn.metrics._plot.confusion_matrix.ConfusionMatrixDisplay object at 0x12d2d8430>\n"
     ]
    },
    {
     "data": {
      "image/png": "[encoded data removed]",
      "text/plain": [
       "<Figure size 432x288 with 2 Axes>"
      ]
     },
     "metadata": {
      "needs_background": "light"
     },
     "output_type": "display_data"
    }
   ],
   "source": [
    "# initial classifier on this data\n",
    "start_time = time.time()\n",
    "grid_rf2 = GridSearchCV(estimator=rf_clf, param_grid=param_grid_rf, n_jobs=-1)\n",
    "grid_rf2.fit(X_train, y_train)\n",
    "print(grid_rf2.best_estimator_)\n",
    "\n",
    "rf2_acc, rf2_f1, rf2_pp = model(grid_rf2.best_estimator_, X_train,X_test,y_train,y_test)"
   ]
  },
  {
   "cell_type": "code",
   "execution_count": 17,
   "id": "capital-reynolds",
   "metadata": {},
   "outputs": [
    {
     "data": {
      "image/png": "[encoded data removed]",
      "text/plain": [
       "<Figure size 432x288 with 1 Axes>"
      ]
     },
     "metadata": {
      "needs_background": "light"
     },
     "output_type": "display_data"
    }
   ],
   "source": [
    "_, _ = plot_roc(y_test, rf2_pp)"
   ]
  },
  {
   "cell_type": "code",
   "execution_count": 18,
   "id": "severe-bonus",
   "metadata": {},
   "outputs": [
    {
     "name": "stdout",
     "output_type": "stream",
     "text": [
      "Iteration 0\n",
      "Accuracy : 0.8021978021978022\tF1 Score ; 0.8363636363636364\n",
      "Now predicting labels for unlabeled data...\n",
      "4 high-probability predictions added to training data.\n",
      "26 unlabeled instances remaining.\n",
      "\n",
      "Iteration 1\n",
      "Accuracy : 0.8131868131868132\tF1 Score ; 0.8468468468468467\n",
      "Now predicting labels for unlabeled data...\n",
      "0 high-probability predictions added to training data.\n",
      "26 unlabeled instances remaining.\n",
      "\n"
     ]
    }
   ],
   "source": [
    "# Initiate iteration counter\n",
    "iterations = 0\n",
    "\n",
    "# Containers to hold f1_scores and # of pseudo-labels\n",
    "train_f1s = []\n",
    "test_f1s = []\n",
    "pseudo_labels = []\n",
    "\n",
    "# Assign value to initiate while loop\n",
    "high_prob = [1] \n",
    "\n",
    "# Loop will run until there are no more high-probability pseudo-labels\n",
    "while len(high_prob) > 0:\n",
    "        \n",
    "    # Fit classifier and make train/test predictions\n",
    "    clf = grid_rf2.best_estimator_\n",
    "    clf.fit(X_train, y_train)\n",
    "    y_pred = clf.predict(X_test)\n",
    "\n",
    "    # Calculate and print iteration # and f1 scores, and store f1 scores\n",
    "    test_f1, test_acc = get_scores(y_test, y_pred)\n",
    "    print(f\"Iteration {iterations}\")\n",
    "    print(f\"Accuracy : {test_acc}\\tF1 Score ; {test_f1}\")\n",
    "    test_f1s.append(test_f1)\n",
    "   \n",
    "    # Generate predictions and probabilities for unlabeled data\n",
    "    print(f\"Now predicting labels for unlabeled data...\")\n",
    "\n",
    "    pred_probs = clf.predict_proba(X_unlabeled)\n",
    "    preds = clf.predict(X_unlabeled)\n",
    "    prob_0 = pred_probs[:,0]\n",
    "    prob_1 = pred_probs[:,1]\n",
    "\n",
    "    # Store predictions and probabilities in dataframe\n",
    "    df_pred_prob = pd.DataFrame([])\n",
    "    df_pred_prob['preds'] = preds\n",
    "    df_pred_prob['prob_0'] = prob_0\n",
    "    df_pred_prob['prob_1'] = prob_1\n",
    "    df_pred_prob.index = X_unlabeled.index\n",
    "    \n",
    "    # Separate predictions with > 95% probability\n",
    "    high_prob = pd.concat([df_pred_prob.loc[df_pred_prob['prob_0'] > 0.98],\n",
    "                           df_pred_prob.loc[df_pred_prob['prob_1'] > 0.98]],\n",
    "                          axis=0)\n",
    "    \n",
    "    print(f\"{len(high_prob)} high-probability predictions added to training data.\")\n",
    "    \n",
    "    pseudo_labels.append(len(high_prob))\n",
    "\n",
    "    # Add pseudo-labeled data to training data\n",
    "    X_train = pd.concat([X_train, X_unlabeled.loc[high_prob.index]], axis=0)\n",
    "    y_train = pd.concat([y_train, high_prob.preds])      \n",
    "    \n",
    "    # Drop pseudo-labeled instances from unlabeled data\n",
    "    X_unlabeled = X_unlabeled.drop(index=high_prob.index)\n",
    "    print(f\"{len(X_unlabeled)} unlabeled instances remaining.\\n\")\n",
    "    \n",
    "    # Update iteration counter\n",
    "    iterations += 1\n",
    "\n",
    "end_time = time.time()"
   ]
  },
  {
   "cell_type": "code",
   "execution_count": 19,
   "id": "expensive-space",
   "metadata": {},
   "outputs": [
    {
     "data": {
      "text/plain": [
       "<sklearn.metrics._plot.confusion_matrix.ConfusionMatrixDisplay at 0x12d439400>"
      ]
     },
     "execution_count": 19,
     "metadata": {},
     "output_type": "execute_result"
    },
    {
     "data": {
      "image/png": "[encoded data removed]",
      "text/plain": [
       "<Figure size 432x288 with 2 Axes>"
      ]
     },
     "metadata": {
      "needs_background": "light"
     },
     "output_type": "display_data"
    }
   ],
   "source": [
    "plot_confusion_matrix(clf, X_test, y_test, cmap='Blues', normalize='true')"
   ]
  },
  {
   "cell_type": "code",
   "execution_count": 20,
   "id": "ethical-compatibility",
   "metadata": {},
   "outputs": [
    {
     "data": {
      "image/png": "[encoded data removed]",
      "text/plain": [
       "<Figure size 432x288 with 1 Axes>"
      ]
     },
     "metadata": {
      "needs_background": "light"
     },
     "output_type": "display_data"
    }
   ],
   "source": [
    "rf2_fpr, rf2_tpr = plot_roc(y_test, clf.predict_proba(X_test))"
   ]
  },
  {
   "cell_type": "code",
   "execution_count": 21,
   "id": "imported-contractor",
   "metadata": {},
   "outputs": [
    {
     "name": "stdout",
     "output_type": "stream",
     "text": [
      "Time Elapsed, 10% Unlabelled Data : 27.506192207336426\n"
     ]
    }
   ],
   "source": [
    "final_scores[('10% Unlabelled Data Accuracy', '10% Unlabelled Data F1 score')] = (test_acc, test_f1)\n",
    "time_elapsed[\"10% Unlabelled\"] = end_time-start_time\n",
    "print(f\"Time Elapsed, 10% Unlabelled Data : {end_time - start_time}\")"
   ]
  },
  {
   "cell_type": "markdown",
   "id": "mysterious-nitrogen",
   "metadata": {},
   "source": [
    "#### 20% unlabelled data"
   ]
  },
  {
   "cell_type": "code",
   "execution_count": 22,
   "id": "drawn-tribute",
   "metadata": {},
   "outputs": [
    {
     "data": {
      "text/html": [
       "<div>\n",
       "<style scoped>\n",
       "    .dataframe tbody tr th:only-of-type {\n",
       "        vertical-align: middle;\n",
       "    }\n",
       "\n",
       "    .dataframe tbody tr th {\n",
       "        vertical-align: top;\n",
       "    }\n",
       "\n",
       "    .dataframe thead th {\n",
       "        text-align: right;\n",
       "    }\n",
       "</style>\n",
       "<table border=\"1\" class=\"dataframe\">\n",
       "  <thead>\n",
       "    <tr style=\"text-align: right;\">\n",
       "      <th></th>\n",
       "      <th>major_vessels_num_0</th>\n",
       "      <th>major_vessels_num_1</th>\n",
       "      <th>major_vessels_num_2</th>\n",
       "      <th>major_vessels_num_3</th>\n",
       "      <th>major_vessels_num_4</th>\n",
       "      <th>exercise_induced_angina_0</th>\n",
       "      <th>exercise_induced_angina_1</th>\n",
       "      <th>sex_0</th>\n",
       "      <th>sex_1</th>\n",
       "      <th>slope_st_0</th>\n",
       "      <th>...</th>\n",
       "      <th>thalassemia_1</th>\n",
       "      <th>thalassemia_2</th>\n",
       "      <th>thalassemia_3</th>\n",
       "      <th>maximum_heart_rate</th>\n",
       "      <th>oldpeak</th>\n",
       "      <th>chest_pain_0</th>\n",
       "      <th>chest_pain_1</th>\n",
       "      <th>chest_pain_2</th>\n",
       "      <th>chest_pain_3</th>\n",
       "      <th>target</th>\n",
       "    </tr>\n",
       "  </thead>\n",
       "  <tbody>\n",
       "    <tr>\n",
       "      <th>112</th>\n",
       "      <td>1</td>\n",
       "      <td>0</td>\n",
       "      <td>0</td>\n",
       "      <td>0</td>\n",
       "      <td>0</td>\n",
       "      <td>1</td>\n",
       "      <td>0</td>\n",
       "      <td>1</td>\n",
       "      <td>0</td>\n",
       "      <td>0</td>\n",
       "      <td>...</td>\n",
       "      <td>0</td>\n",
       "      <td>0</td>\n",
       "      <td>1</td>\n",
       "      <td>0.473282</td>\n",
       "      <td>0.032258</td>\n",
       "      <td>0</td>\n",
       "      <td>0</td>\n",
       "      <td>1</td>\n",
       "      <td>0</td>\n",
       "      <td>1</td>\n",
       "    </tr>\n",
       "    <tr>\n",
       "      <th>63</th>\n",
       "      <td>1</td>\n",
       "      <td>0</td>\n",
       "      <td>0</td>\n",
       "      <td>0</td>\n",
       "      <td>0</td>\n",
       "      <td>1</td>\n",
       "      <td>0</td>\n",
       "      <td>0</td>\n",
       "      <td>1</td>\n",
       "      <td>0</td>\n",
       "      <td>...</td>\n",
       "      <td>1</td>\n",
       "      <td>0</td>\n",
       "      <td>0</td>\n",
       "      <td>0.465649</td>\n",
       "      <td>0.000000</td>\n",
       "      <td>0</td>\n",
       "      <td>1</td>\n",
       "      <td>0</td>\n",
       "      <td>0</td>\n",
       "      <td>1</td>\n",
       "    </tr>\n",
       "    <tr>\n",
       "      <th>270</th>\n",
       "      <td>1</td>\n",
       "      <td>0</td>\n",
       "      <td>0</td>\n",
       "      <td>0</td>\n",
       "      <td>0</td>\n",
       "      <td>1</td>\n",
       "      <td>0</td>\n",
       "      <td>0</td>\n",
       "      <td>1</td>\n",
       "      <td>0</td>\n",
       "      <td>...</td>\n",
       "      <td>0</td>\n",
       "      <td>0</td>\n",
       "      <td>1</td>\n",
       "      <td>0.557252</td>\n",
       "      <td>0.129032</td>\n",
       "      <td>1</td>\n",
       "      <td>0</td>\n",
       "      <td>0</td>\n",
       "      <td>0</td>\n",
       "      <td>0</td>\n",
       "    </tr>\n",
       "    <tr>\n",
       "      <th>39</th>\n",
       "      <td>1</td>\n",
       "      <td>0</td>\n",
       "      <td>0</td>\n",
       "      <td>0</td>\n",
       "      <td>0</td>\n",
       "      <td>1</td>\n",
       "      <td>0</td>\n",
       "      <td>1</td>\n",
       "      <td>0</td>\n",
       "      <td>0</td>\n",
       "      <td>...</td>\n",
       "      <td>0</td>\n",
       "      <td>1</td>\n",
       "      <td>0</td>\n",
       "      <td>0.610687</td>\n",
       "      <td>0.129032</td>\n",
       "      <td>0</td>\n",
       "      <td>0</td>\n",
       "      <td>1</td>\n",
       "      <td>0</td>\n",
       "      <td>1</td>\n",
       "    </tr>\n",
       "    <tr>\n",
       "      <th>277</th>\n",
       "      <td>1</td>\n",
       "      <td>0</td>\n",
       "      <td>0</td>\n",
       "      <td>0</td>\n",
       "      <td>0</td>\n",
       "      <td>1</td>\n",
       "      <td>0</td>\n",
       "      <td>0</td>\n",
       "      <td>1</td>\n",
       "      <td>0</td>\n",
       "      <td>...</td>\n",
       "      <td>0</td>\n",
       "      <td>0</td>\n",
       "      <td>1</td>\n",
       "      <td>0.534351</td>\n",
       "      <td>0.048387</td>\n",
       "      <td>0</td>\n",
       "      <td>1</td>\n",
       "      <td>0</td>\n",
       "      <td>0</td>\n",
       "      <td>0</td>\n",
       "    </tr>\n",
       "  </tbody>\n",
       "</table>\n",
       "<p>5 rows × 23 columns</p>\n",
       "</div>"
      ],
      "text/plain": [
       "     major_vessels_num_0  major_vessels_num_1  major_vessels_num_2  \\\n",
       "112                    1                    0                    0   \n",
       "63                     1                    0                    0   \n",
       "270                    1                    0                    0   \n",
       "39                     1                    0                    0   \n",
       "277                    1                    0                    0   \n",
       "\n",
       "     major_vessels_num_3  major_vessels_num_4  exercise_induced_angina_0  \\\n",
       "112                    0                    0                          1   \n",
       "63                     0                    0                          1   \n",
       "270                    0                    0                          1   \n",
       "39                     0                    0                          1   \n",
       "277                    0                    0                          1   \n",
       "\n",
       "     exercise_induced_angina_1  sex_0  sex_1  slope_st_0  ...  thalassemia_1  \\\n",
       "112                          0      1      0           0  ...              0   \n",
       "63                           0      0      1           0  ...              1   \n",
       "270                          0      0      1           0  ...              0   \n",
       "39                           0      1      0           0  ...              0   \n",
       "277                          0      0      1           0  ...              0   \n",
       "\n",
       "     thalassemia_2  thalassemia_3  maximum_heart_rate   oldpeak  chest_pain_0  \\\n",
       "112              0              1            0.473282  0.032258             0   \n",
       "63               0              0            0.465649  0.000000             0   \n",
       "270              0              1            0.557252  0.129032             1   \n",
       "39               1              0            0.610687  0.129032             0   \n",
       "277              0              1            0.534351  0.048387             0   \n",
       "\n",
       "     chest_pain_1  chest_pain_2  chest_pain_3  target  \n",
       "112             0             1             0       1  \n",
       "63              1             0             0       1  \n",
       "270             0             0             0       0  \n",
       "39              0             1             0       1  \n",
       "277             1             0             0       0  \n",
       "\n",
       "[5 rows x 23 columns]"
      ]
     },
     "execution_count": 22,
     "metadata": {},
     "output_type": "execute_result"
    }
   ],
   "source": [
    "df = data.sample(frac=1, random_state=50)\n",
    "df.head()"
   ]
  },
  {
   "cell_type": "code",
   "execution_count": 23,
   "id": "electrical-anger",
   "metadata": {},
   "outputs": [
    {
     "name": "stdout",
     "output_type": "stream",
     "text": [
      "X_train dimensions: (182, 22)\n",
      "y_train dimensions: (182,)\n",
      "\n",
      "X_test dimensions: (60, 22)\n",
      "y_test dimensions: (60,)\n",
      "\n",
      "X_unlabeled dimensions: (61, 22)\n"
     ]
    }
   ],
   "source": [
    "# generating the split indices and partition of data\n",
    "unlabelled_data_ind = round(len(df) * 0.20)\n",
    "train_ind = unlabelled_data_ind + round(len(df) * 0.60)\n",
    "test_ind = train_ind + round(len(df) * 0.20)\n",
    "\n",
    "unlabelled = df.iloc[:unlabelled_data_ind]\n",
    "train = df.iloc[unlabelled_data_ind:train_ind]\n",
    "test = df.iloc[train_ind:]\n",
    "\n",
    "# assigning the data to train, test and unlabelled sets\n",
    "X_train = train.drop('target', axis=1)\n",
    "y_train = train['target']\n",
    "\n",
    "X_test = test.drop('target', axis=1)\n",
    "y_test = test['target']\n",
    "\n",
    "X_unlabeled = unlabelled.drop('target', axis=1)\n",
    "\n",
    "\n",
    "# Check dimensions of data after splitting\n",
    "\n",
    "print(f\"X_train dimensions: {X_train.shape}\")\n",
    "print(f\"y_train dimensions: {y_train.shape}\\n\")\n",
    "\n",
    "print(f\"X_test dimensions: {X_test.shape}\")\n",
    "print(f\"y_test dimensions: {y_test.shape}\\n\")\n",
    "\n",
    "print(f\"X_unlabeled dimensions: {X_unlabeled.shape}\")"
   ]
  },
  {
   "cell_type": "code",
   "execution_count": 24,
   "id": "advisory-wayne",
   "metadata": {},
   "outputs": [
    {
     "data": {
      "text/plain": [
       "<AxesSubplot:>"
      ]
     },
     "execution_count": 24,
     "metadata": {},
     "output_type": "execute_result"
    },
    {
     "data": {
      "image/png": "[encoded data removed]",
      "text/plain": [
       "<Figure size 432x288 with 1 Axes>"
      ]
     },
     "metadata": {
      "needs_background": "light"
     },
     "output_type": "display_data"
    }
   ],
   "source": [
    "y_train.value_counts().plot(kind='bar')"
   ]
  },
  {
   "cell_type": "code",
   "execution_count": null,
   "id": "complimentary-malaysia",
   "metadata": {},
   "outputs": [],
   "source": [
    "# initial classifier on this data\n",
    "start_time = time.time()\n",
    "grid_rf3 = GridSearchCV(estimator=rf_clf, param_grid=param_grid_rf, n_jobs=-1)\n",
    "grid_rf3.fit(X_train, y_train)\n",
    "print(grid_rf3.best_estimator_)\n",
    "\n",
    "rf3_acc, rf3_f1, rf3_pp = model(grid_rf3.best_estimator_, X_train,X_test,y_train,y_test)"
   ]
  },
  {
   "cell_type": "code",
   "execution_count": null,
   "id": "former-series",
   "metadata": {},
   "outputs": [],
   "source": [
    "_,_ = plot_roc(y_test, rf3_pp)"
   ]
  },
  {
   "cell_type": "code",
   "execution_count": null,
   "id": "enclosed-hammer",
   "metadata": {},
   "outputs": [],
   "source": [
    "# Initiate iteration counter\n",
    "iterations = 0\n",
    "\n",
    "# Containers to hold f1_scores and # of pseudo-labels\n",
    "train_f1s = []\n",
    "test_f1s = []\n",
    "pseudo_labels = []\n",
    "\n",
    "# Assign value to initiate while loop\n",
    "high_prob = [1] \n",
    "\n",
    "# Loop will run until there are no more high-probability pseudo-labels\n",
    "while len(high_prob) > 0:\n",
    "        \n",
    "    # Fit classifier and make train/test predictions\n",
    "    clf = grid_rf3.best_estimator_\n",
    "    clf.fit(X_train, y_train)\n",
    "    y_pred = clf.predict(X_test)\n",
    "\n",
    "    # Calculate and print iteration # and f1 scores, and store f1 scores\n",
    "    test_f1, test_acc = get_scores(y_test, y_pred)\n",
    "    print(f\"Iteration {iterations}\")\n",
    "    print(f\"Accuracy : {test_acc}\\tF1 Score ; {test_f1}\")\n",
    "    test_f1s.append(test_f1)\n",
    "   \n",
    "    # Generate predictions and probabilities for unlabeled data\n",
    "    print(f\"Now predicting labels for unlabeled data...\")\n",
    "\n",
    "    pred_probs = clf.predict_proba(X_unlabeled)\n",
    "    preds = clf.predict(X_unlabeled)\n",
    "    prob_0 = pred_probs[:,0]\n",
    "    prob_1 = pred_probs[:,1]\n",
    "\n",
    "    # Store predictions and probabilities in dataframe\n",
    "    df_pred_prob = pd.DataFrame([])\n",
    "    df_pred_prob['preds'] = preds\n",
    "    df_pred_prob['prob_0'] = prob_0\n",
    "    df_pred_prob['prob_1'] = prob_1\n",
    "    df_pred_prob.index = X_unlabeled.index\n",
    "    \n",
    "    # Separate predictions with > 95% probability\n",
    "    high_prob = pd.concat([df_pred_prob.loc[df_pred_prob['prob_0'] > 0.98],\n",
    "                           df_pred_prob.loc[df_pred_prob['prob_1'] > 0.98]],\n",
    "                          axis=0)\n",
    "    \n",
    "    print(f\"{len(high_prob)} high-probability predictions added to training data.\")\n",
    "    \n",
    "    pseudo_labels.append(len(high_prob))\n",
    "\n",
    "    # Add pseudo-labeled data to training data\n",
    "    X_train = pd.concat([X_train, X_unlabeled.loc[high_prob.index]], axis=0)\n",
    "    y_train = pd.concat([y_train, high_prob.preds])      \n",
    "    \n",
    "    # Drop pseudo-labeled instances from unlabeled data\n",
    "    X_unlabeled = X_unlabeled.drop(index=high_prob.index)\n",
    "    print(f\"{len(X_unlabeled)} unlabeled instances remaining.\\n\")\n",
    "    \n",
    "    # Update iteration counter\n",
    "    iterations += 1\n",
    "end_time = time.time()"
   ]
  },
  {
   "cell_type": "code",
   "execution_count": null,
   "id": "agreed-adams",
   "metadata": {},
   "outputs": [],
   "source": [
    "plot_confusion_matrix(clf, X_test, y_test, cmap='Blues', normalize='true')"
   ]
  },
  {
   "cell_type": "code",
   "execution_count": null,
   "id": "sufficient-korea",
   "metadata": {},
   "outputs": [],
   "source": [
    "rf3_fpr, rf3_tpr = plot_roc(y_test, clf.predict_proba(X_test))"
   ]
  },
  {
   "cell_type": "code",
   "execution_count": null,
   "id": "interested-benchmark",
   "metadata": {},
   "outputs": [],
   "source": [
    "final_scores[('20% Unlabelled Data Accuracy', '20% Unlabelled Data F1 score')] = (test_acc, test_f1)\n",
    "time_elapsed[\"20% Unlabelled\"] = end_time-start_time\n",
    "print(f\"Time Elapsed, 20% Unlabelled Data : {end_time - start_time}\")"
   ]
  },
  {
   "cell_type": "markdown",
   "id": "instructional-division",
   "metadata": {},
   "source": [
    "#### 50% Unlabelled Data"
   ]
  },
  {
   "cell_type": "code",
   "execution_count": null,
   "id": "dirty-programming",
   "metadata": {},
   "outputs": [],
   "source": [
    "df = data.sample(frac=1, random_state=50)\n",
    "df.head()"
   ]
  },
  {
   "cell_type": "code",
   "execution_count": null,
   "id": "married-committee",
   "metadata": {},
   "outputs": [],
   "source": [
    "# generating the split indices and partition of data\n",
    "unlabelled_data_ind = round(len(df) * 0.50)\n",
    "train_ind = unlabelled_data_ind + round(len(df) * 0.35)\n",
    "test_ind = train_ind + round(len(df) * 0.15)\n",
    "\n",
    "unlabelled = df.iloc[:unlabelled_data_ind]\n",
    "train = df.iloc[unlabelled_data_ind:train_ind]\n",
    "test = df.iloc[train_ind:]\n",
    "\n",
    "# assigning the data to train, test and unlabelled sets\n",
    "X_train = train.drop('target', axis=1)\n",
    "y_train = train['target']\n",
    "\n",
    "X_test = test.drop('target', axis=1)\n",
    "y_test = test['target']\n",
    "\n",
    "X_unlabeled = unlabelled.drop('target', axis=1)\n",
    "\n",
    "\n",
    "# Check dimensions of data after splitting\n",
    "\n",
    "print(f\"X_train dimensions: {X_train.shape}\")\n",
    "print(f\"y_train dimensions: {y_train.shape}\\n\")\n",
    "\n",
    "print(f\"X_test dimensions: {X_test.shape}\")\n",
    "print(f\"y_test dimensions: {y_test.shape}\\n\")\n",
    "\n",
    "print(f\"X_unlabeled dimensions: {X_unlabeled.shape}\")"
   ]
  },
  {
   "cell_type": "code",
   "execution_count": null,
   "id": "invisible-friday",
   "metadata": {},
   "outputs": [],
   "source": [
    "y_train.value_counts().plot(kind='bar')"
   ]
  },
  {
   "cell_type": "code",
   "execution_count": null,
   "id": "joined-lancaster",
   "metadata": {},
   "outputs": [],
   "source": [
    "# initial classifier on this data\n",
    "start_time = time.time()\n",
    "grid_rf4 = GridSearchCV(estimator=rf_clf, param_grid=param_grid_rf, n_jobs=-1)\n",
    "grid_rf4.fit(X_train, y_train)\n",
    "print(grid_rf4.best_estimator_)\n",
    "\n",
    "rf4_acc, rf4_f1, rf4_pp = model(grid_rf4.best_estimator_, X_train,X_test,y_train,y_test)"
   ]
  },
  {
   "cell_type": "code",
   "execution_count": null,
   "id": "honest-wednesday",
   "metadata": {},
   "outputs": [],
   "source": [
    "_, _ = plot_roc(y_test, rf4_pp)"
   ]
  },
  {
   "cell_type": "code",
   "execution_count": null,
   "id": "awful-africa",
   "metadata": {},
   "outputs": [],
   "source": [
    "# Initiate iteration counter\n",
    "iterations = 0\n",
    "\n",
    "# Containers to hold f1_scores and # of pseudo-labels\n",
    "train_f1s = []\n",
    "test_f1s = []\n",
    "pseudo_labels = []\n",
    "\n",
    "# Assign value to initiate while loop\n",
    "high_prob = [1] \n",
    "\n",
    "# Loop will run until there are no more high-probability pseudo-labels\n",
    "while len(high_prob) > 0:\n",
    "        \n",
    "    # Fit classifier and make train/test predictions\n",
    "    clf = grid_rf4.best_estimator_\n",
    "    clf.fit(X_train, y_train)\n",
    "    y_pred = clf.predict(X_test)\n",
    "\n",
    "    # Calculate and print iteration # and f1 scores, and store f1 scores\n",
    "    test_f1, test_acc = get_scores(y_test, y_pred)\n",
    "    print(f\"Iteration {iterations}\")\n",
    "    print(f\"Accuracy : {test_acc}\\tF1 Score ; {test_f1}\")\n",
    "    test_f1s.append(test_f1)\n",
    "   \n",
    "    # Generate predictions and probabilities for unlabeled data\n",
    "    print(f\"Now predicting labels for unlabeled data...\")\n",
    "\n",
    "    pred_probs = clf.predict_proba(X_unlabeled)\n",
    "    preds = clf.predict(X_unlabeled)\n",
    "    prob_0 = pred_probs[:,0]\n",
    "    prob_1 = pred_probs[:,1]\n",
    "\n",
    "    # Store predictions and probabilities in dataframe\n",
    "    df_pred_prob = pd.DataFrame([])\n",
    "    df_pred_prob['preds'] = preds\n",
    "    df_pred_prob['prob_0'] = prob_0\n",
    "    df_pred_prob['prob_1'] = prob_1\n",
    "    df_pred_prob.index = X_unlabeled.index\n",
    "    \n",
    "    # Separate predictions with > 95% probability\n",
    "    high_prob = pd.concat([df_pred_prob.loc[df_pred_prob['prob_0'] > 0.98],\n",
    "                           df_pred_prob.loc[df_pred_prob['prob_1'] > 0.98]],\n",
    "                          axis=0)\n",
    "    \n",
    "    print(f\"{len(high_prob)} high-probability predictions added to training data.\")\n",
    "    \n",
    "    pseudo_labels.append(len(high_prob))\n",
    "\n",
    "    # Add pseudo-labeled data to training data\n",
    "    X_train = pd.concat([X_train, X_unlabeled.loc[high_prob.index]], axis=0)\n",
    "    y_train = pd.concat([y_train, high_prob.preds])      \n",
    "    \n",
    "    # Drop pseudo-labeled instances from unlabeled data\n",
    "    X_unlabeled = X_unlabeled.drop(index=high_prob.index)\n",
    "    print(f\"{len(X_unlabeled)} unlabeled instances remaining.\\n\")\n",
    "    \n",
    "    # Update iteration counter\n",
    "    iterations += 1\n",
    "end_time = time.time()"
   ]
  },
  {
   "cell_type": "code",
   "execution_count": null,
   "id": "collaborative-racing",
   "metadata": {},
   "outputs": [],
   "source": [
    "plot_confusion_matrix(clf, X_test, y_test, cmap='Blues', normalize='true')"
   ]
  },
  {
   "cell_type": "code",
   "execution_count": null,
   "id": "piano-portsmouth",
   "metadata": {},
   "outputs": [],
   "source": [
    "rf4_fpr, rf4_tpr = plot_roc(y_test, clf.predict_proba(X_test))"
   ]
  },
  {
   "cell_type": "code",
   "execution_count": null,
   "id": "worthy-oklahoma",
   "metadata": {},
   "outputs": [],
   "source": [
    "final_scores[('50% Unlabelled Data Accuracy', '50% Unlabelled Data F1 score')] = (test_acc, test_f1)\n",
    "time_elapsed[\"50% Unlabelled\"] = end_time-start_time\n",
    "print(f\"Time Elapsed, 50% Unlabelled Data : {end_time - start_time}\")"
   ]
  },
  {
   "cell_type": "markdown",
   "id": "rough-lithuania",
   "metadata": {},
   "source": [
    "#### 90% unlabelled data"
   ]
  },
  {
   "cell_type": "code",
   "execution_count": null,
   "id": "concerned-rugby",
   "metadata": {},
   "outputs": [],
   "source": [
    "df = data.sample(frac=1, random_state=50)\n",
    "df.head()"
   ]
  },
  {
   "cell_type": "code",
   "execution_count": null,
   "id": "occasional-myrtle",
   "metadata": {},
   "outputs": [],
   "source": [
    "# generating the split indices and partition of data\n",
    "unlabelled_data_ind = round(len(df) * 0.90)\n",
    "train_ind = unlabelled_data_ind + round(len(df) * 0.07)\n",
    "test_ind = train_ind + round(len(df) * 0.03)\n",
    "\n",
    "unlabelled = df.iloc[:unlabelled_data_ind]\n",
    "train = df.iloc[unlabelled_data_ind:train_ind]\n",
    "test = df.iloc[train_ind:]\n",
    "\n",
    "# assigning the data to train, test and unlabelled sets\n",
    "X_train = train.drop('target', axis=1)\n",
    "y_train = train['target']\n",
    "\n",
    "X_test = test.drop('target', axis=1)\n",
    "y_test = test['target']\n",
    "\n",
    "X_unlabeled = unlabelled.drop('target', axis=1)\n",
    "\n",
    "\n",
    "# Check dimensions of data after splitting\n",
    "\n",
    "print(f\"X_train dimensions: {X_train.shape}\")\n",
    "print(f\"y_train dimensions: {y_train.shape}\\n\")\n",
    "\n",
    "print(f\"X_test dimensions: {X_test.shape}\")\n",
    "print(f\"y_test dimensions: {y_test.shape}\\n\")\n",
    "\n",
    "print(f\"X_unlabeled dimensions: {X_unlabeled.shape}\")"
   ]
  },
  {
   "cell_type": "code",
   "execution_count": null,
   "id": "simple-chicago",
   "metadata": {},
   "outputs": [],
   "source": [
    "y_train.value_counts().plot(kind='bar')"
   ]
  },
  {
   "cell_type": "code",
   "execution_count": null,
   "id": "accurate-title",
   "metadata": {},
   "outputs": [],
   "source": [
    "# initial classifier on this data\n",
    "start_time = time.time()\n",
    "grid_rf5 = GridSearchCV(estimator=rf_clf, param_grid=param_grid_rf, n_jobs=-1)\n",
    "grid_rf5.fit(X_train, y_train)\n",
    "print(grid_rf5.best_estimator_)\n",
    "\n",
    "rf5_acc, rf5_f1, rf5_pp = model(grid_rf5.best_estimator_, X_train,X_test,y_train,y_test)"
   ]
  },
  {
   "cell_type": "code",
   "execution_count": null,
   "id": "necessary-swimming",
   "metadata": {},
   "outputs": [],
   "source": [
    "_,_ = plot_roc(y_test, rf5_pp)"
   ]
  },
  {
   "cell_type": "markdown",
   "id": "heard-council",
   "metadata": {},
   "source": [
    "Probability\n",
    "- 90%\n",
    "    - Accuracy : 0.835820895522388\tF1 Score ; 0.8196721311475409\n",
    "- 95%\n",
    "    - Accuracy : 0.835820895522388\tF1 Score ; 0.8196721311475409"
   ]
  },
  {
   "cell_type": "code",
   "execution_count": null,
   "id": "logical-treasury",
   "metadata": {},
   "outputs": [],
   "source": [
    "# Initiate iteration counter\n",
    "iterations = 0\n",
    "\n",
    "# Containers to hold f1_scores and # of pseudo-labels\n",
    "train_f1s = []\n",
    "test_f1s = []\n",
    "pseudo_labels = []\n",
    "\n",
    "# Assign value to initiate while loop\n",
    "high_prob = [1] \n",
    "\n",
    "# Loop will run until there are no more high-probability pseudo-labels\n",
    "while len(high_prob) > 0:\n",
    "        \n",
    "    # Fit classifier and make train/test predictions\n",
    "    clf = grid_rf5.best_estimator_\n",
    "    clf.fit(X_train, y_train)\n",
    "    y_pred = clf.predict(X_test)\n",
    "\n",
    "    # Calculate and print iteration # and f1 scores, and store f1 scores\n",
    "    test_f1, test_acc = get_scores(y_test, y_pred)\n",
    "    print(f\"Iteration {iterations}\")\n",
    "    print(f\"Accuracy : {test_acc}\\tF1 Score ; {test_f1}\")\n",
    "    test_f1s.append(test_f1)\n",
    "   \n",
    "    # Generate predictions and probabilities for unlabeled data\n",
    "    print(f\"Now predicting labels for unlabeled data...\")\n",
    "\n",
    "    pred_probs = clf.predict_proba(X_unlabeled)\n",
    "    preds = clf.predict(X_unlabeled)\n",
    "    prob_0 = pred_probs[:,0]\n",
    "    prob_1 = pred_probs[:,1]\n",
    "\n",
    "    # Store predictions and probabilities in dataframe\n",
    "    df_pred_prob = pd.DataFrame([])\n",
    "    df_pred_prob['preds'] = preds\n",
    "    df_pred_prob['prob_0'] = prob_0\n",
    "    df_pred_prob['prob_1'] = prob_1\n",
    "    df_pred_prob.index = X_unlabeled.index\n",
    "    \n",
    "    # Separate predictions with > 95% probability\n",
    "    high_prob = pd.concat([df_pred_prob.loc[df_pred_prob['prob_0'] > 0.98],\n",
    "                           df_pred_prob.loc[df_pred_prob['prob_1'] > 0.98]],\n",
    "                          axis=0)\n",
    "    \n",
    "    print(f\"{len(high_prob)} high-probability predictions added to training data.\")\n",
    "    \n",
    "    pseudo_labels.append(len(high_prob))\n",
    "\n",
    "    # Add pseudo-labeled data to training data\n",
    "    X_train = pd.concat([X_train, X_unlabeled.loc[high_prob.index]], axis=0)\n",
    "    y_train = pd.concat([y_train, high_prob.preds])      \n",
    "    \n",
    "    # Drop pseudo-labeled instances from unlabeled data\n",
    "    X_unlabeled = X_unlabeled.drop(index=high_prob.index)\n",
    "    print(f\"{len(X_unlabeled)} unlabeled instances remaining.\\n\")\n",
    "    \n",
    "    # Update iteration counter\n",
    "    iterations += 1\n",
    "end_time = time.time()    "
   ]
  },
  {
   "cell_type": "code",
   "execution_count": null,
   "id": "valid-packaging",
   "metadata": {},
   "outputs": [],
   "source": [
    "plot_confusion_matrix(clf, X_test, y_test, cmap='Blues', normalize='true')"
   ]
  },
  {
   "cell_type": "code",
   "execution_count": null,
   "id": "alone-hydrogen",
   "metadata": {},
   "outputs": [],
   "source": [
    "rf5_fpr, rf5_tpr = plot_roc(y_test, clf.predict_proba(X_test))"
   ]
  },
  {
   "cell_type": "code",
   "execution_count": null,
   "id": "buried-taste",
   "metadata": {},
   "outputs": [],
   "source": [
    "final_scores[('90% Unlabelled Data Accuracy', '90% Unlabelled Data F1 score')] = (test_acc, test_f1)\n",
    "time_elapsed[\"90% Unlabelled\"] = end_time-start_time\n",
    "print(f\"Time Elapsed, 90% Unlabelled Dataset : {end_time - start_time}\")"
   ]
  },
  {
   "cell_type": "markdown",
   "id": "laden-independence",
   "metadata": {},
   "source": [
    "#### 95% unlabelled data"
   ]
  },
  {
   "cell_type": "code",
   "execution_count": null,
   "id": "intimate-reality",
   "metadata": {},
   "outputs": [],
   "source": [
    "df = data.sample(frac=1, random_state=50)\n",
    "df.head()"
   ]
  },
  {
   "cell_type": "code",
   "execution_count": null,
   "id": "incredible-california",
   "metadata": {},
   "outputs": [],
   "source": [
    "# generating the split indices and partition of data\n",
    "unlabelled_data_ind = round(len(df) * 0.95)\n",
    "train_ind = unlabelled_data_ind + round(len(df) * 0.04)\n",
    "test_ind = train_ind + round(len(df) * 0.01)\n",
    "\n",
    "unlabelled = df.iloc[:unlabelled_data_ind]\n",
    "train = df.iloc[unlabelled_data_ind:train_ind]\n",
    "test = df.iloc[train_ind:]\n",
    "\n",
    "# assigning the data to train, test and unlabelled sets\n",
    "X_train = train.drop('target', axis=1)\n",
    "y_train = train['target']\n",
    "\n",
    "X_test = test.drop('target', axis=1)\n",
    "y_test = test['target']\n",
    "\n",
    "X_unlabeled = unlabelled.drop('target', axis=1)\n",
    "\n",
    "\n",
    "# Check dimensions of data after splitting\n",
    "\n",
    "print(f\"X_train dimensions: {X_train.shape}\")\n",
    "print(f\"y_train dimensions: {y_train.shape}\\n\")\n",
    "\n",
    "print(f\"X_test dimensions: {X_test.shape}\")\n",
    "print(f\"y_test dimensions: {y_test.shape}\\n\")\n",
    "\n",
    "print(f\"X_unlabeled dimensions: {X_unlabeled.shape}\")"
   ]
  },
  {
   "cell_type": "code",
   "execution_count": null,
   "id": "breeding-program",
   "metadata": {},
   "outputs": [],
   "source": [
    "y_train.value_counts().plot(kind='bar')"
   ]
  },
  {
   "cell_type": "code",
   "execution_count": null,
   "id": "organized-color",
   "metadata": {},
   "outputs": [],
   "source": [
    "# initial classifier on this data\n",
    "start_time = time.time()\n",
    "grid_rf6 = GridSearchCV(estimator=rf_clf, param_grid=param_grid_rf, n_jobs=-1)\n",
    "grid_rf6.fit(X_train, y_train)\n",
    "print(grid_rf6.best_estimator_)\n",
    "\n",
    "rf6_acc, rf6_f1, rf6_pp = model(grid_rf6.best_estimator_, X_train,X_test,y_train,y_test)"
   ]
  },
  {
   "cell_type": "code",
   "execution_count": null,
   "id": "killing-craps",
   "metadata": {},
   "outputs": [],
   "source": [
    "_, _ = plot_roc(y_test, rf6_pp)"
   ]
  },
  {
   "cell_type": "code",
   "execution_count": null,
   "id": "rocky-petroleum",
   "metadata": {},
   "outputs": [],
   "source": [
    "# Initiate iteration counter\n",
    "iterations = 0\n",
    "\n",
    "# Containers to hold f1_scores and # of pseudo-labels\n",
    "train_f1s = []\n",
    "test_f1s = []\n",
    "pseudo_labels = []\n",
    "\n",
    "# Assign value to initiate while loop\n",
    "high_prob = [1] \n",
    "\n",
    "# Loop will run until there are no more high-probability pseudo-labels\n",
    "while len(high_prob) > 0:\n",
    "        \n",
    "    # Fit classifier and make train/test predictions\n",
    "    clf = grid_rf6.best_estimator_\n",
    "    clf.fit(X_train, y_train)\n",
    "    y_pred = clf.predict(X_test)\n",
    "\n",
    "    # Calculate and print iteration # and f1 scores, and store f1 scores\n",
    "    test_f1, test_acc = get_scores(y_test, y_pred)\n",
    "    print(f\"Iteration {iterations}\")\n",
    "    print(f\"Accuracy : {test_acc}\\tF1 Score ; {test_f1}\")\n",
    "    test_f1s.append(test_f1)\n",
    "   \n",
    "    # Generate predictions and probabilities for unlabeled data\n",
    "    print(f\"Now predicting labels for unlabeled data...\")\n",
    "\n",
    "    pred_probs = clf.predict_proba(X_unlabeled)\n",
    "    preds = clf.predict(X_unlabeled)\n",
    "    prob_0 = pred_probs[:,0]\n",
    "    prob_1 = pred_probs[:,1]\n",
    "\n",
    "    # Store predictions and probabilities in dataframe\n",
    "    df_pred_prob = pd.DataFrame([])\n",
    "    df_pred_prob['preds'] = preds\n",
    "    df_pred_prob['prob_0'] = prob_0\n",
    "    df_pred_prob['prob_1'] = prob_1\n",
    "    df_pred_prob.index = X_unlabeled.index\n",
    "    \n",
    "    # Separate predictions with > 95% probability\n",
    "    high_prob = pd.concat([df_pred_prob.loc[df_pred_prob['prob_0'] > 0.98],\n",
    "                           df_pred_prob.loc[df_pred_prob['prob_1'] > 0.98]],\n",
    "                          axis=0)\n",
    "    \n",
    "    print(f\"{len(high_prob)} high-probability predictions added to training data.\")\n",
    "    \n",
    "    pseudo_labels.append(len(high_prob))\n",
    "\n",
    "    # Add pseudo-labeled data to training data\n",
    "    X_train = pd.concat([X_train, X_unlabeled.loc[high_prob.index]], axis=0)\n",
    "    y_train = pd.concat([y_train, high_prob.preds])      \n",
    "    \n",
    "    # Drop pseudo-labeled instances from unlabeled data\n",
    "    X_unlabeled = X_unlabeled.drop(index=high_prob.index)\n",
    "    print(f\"{len(X_unlabeled)} unlabeled instances remaining.\\n\")\n",
    "    \n",
    "    # Update iteration counter\n",
    "    iterations += 1\n",
    "end_time = time.time()"
   ]
  },
  {
   "cell_type": "code",
   "execution_count": null,
   "id": "speaking-barrel",
   "metadata": {},
   "outputs": [],
   "source": [
    "plot_confusion_matrix(clf, X_test, y_test, cmap='Blues', normalize='true')"
   ]
  },
  {
   "cell_type": "code",
   "execution_count": null,
   "id": "proof-nothing",
   "metadata": {},
   "outputs": [],
   "source": [
    "rf6_fpr, rf6_tpr = plot_roc(y_test, clf.predict_proba(X_test))"
   ]
  },
  {
   "cell_type": "code",
   "execution_count": null,
   "id": "artificial-clear",
   "metadata": {},
   "outputs": [],
   "source": [
    "final_scores[('95% Unlabelled Data Accuracy', '95% Unlabelled Data F1 score')] = (test_acc, test_f1)\n",
    "time_elapsed[\"95% Unlabelled\"] = end_time-start_time\n",
    "print(f\"Time elapsed, 95% Unlabelled Dataset : {end_time - start_time}\")"
   ]
  },
  {
   "cell_type": "markdown",
   "id": "weird-newman",
   "metadata": {},
   "source": [
    "#### FINAL RESULTS"
   ]
  },
  {
   "cell_type": "code",
   "execution_count": null,
   "id": "revised-jacob",
   "metadata": {},
   "outputs": [],
   "source": [
    "final_scores"
   ]
  },
  {
   "cell_type": "code",
   "execution_count": null,
   "id": "virgin-opinion",
   "metadata": {},
   "outputs": [],
   "source": [
    "final_scores_df = pd.DataFrame(data=['Nan'], index=[0])\n",
    "for key, value in final_scores.items():\n",
    "    final_scores_df[key[0]] = value[0]\n",
    "    final_scores_df[key[1]] = value[1]"
   ]
  },
  {
   "cell_type": "code",
   "execution_count": null,
   "id": "dominican-rochester",
   "metadata": {},
   "outputs": [],
   "source": [
    "final_scores_df.drop(columns=[final_scores_df.columns[0]], inplace=True)\n",
    "final_scores_df"
   ]
  },
  {
   "cell_type": "code",
   "execution_count": null,
   "id": "related-covering",
   "metadata": {},
   "outputs": [],
   "source": [
    "plt.plot(rf1_fpr, rf1_tpr,color=\"orange\", label=\"Fullysupervised\")\n",
    "plt.plot(rf2_fpr, rf2_tpr,color=\"blue\", label=\"10% Unlabelled Data\")\n",
    "plt.plot(rf3_fpr, rf3_tpr,color=\"green\", label=\"20% Unlabelled Data\")\n",
    "plt.plot(rf4_fpr, rf4_tpr,color=\"red\", label=\"50% Unlabelled Data\")\n",
    "plt.plot(rf5_fpr, rf5_tpr,color=\"yellow\", label=\"90% Unlabelled Data\")\n",
    "plt.plot(rf6_fpr, rf6_tpr,color=\"black\", label=\"95% Unlabelled Data\")\n",
    "plt.xlabel(\"False Positive Rate\")\n",
    "plt.ylabel(\"Ture Positive Rate\")\n",
    "plt.legend()"
   ]
  }
 ],
 "metadata": {
  "kernelspec": {
   "display_name": "Python 3 (ipykernel)",
   "language": "python",
   "name": "python3"
  },
  "language_info": {
   "codemirror_mode": {
    "name": "ipython",
    "version": 3
   },
   "file_extension": ".py",
   "mimetype": "text/x-python",
   "name": "python",
   "nbconvert_exporter": "python",
   "pygments_lexer": "ipython3",
   "version": "3.9.9"
  }
 },
 "nbformat": 4,
 "nbformat_minor": 5
}
