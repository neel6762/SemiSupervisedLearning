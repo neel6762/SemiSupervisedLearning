{
 "cells": [
  {
   "cell_type": "code",
   "execution_count": 1,
   "id": "8fae596d",
   "metadata": {},
   "outputs": [],
   "source": [
    "import pandas as pd\n",
    "import numpy as np\n",
    "import matplotlib.pyplot as plt\n",
    "\n",
    "import warnings, time\n",
    "warnings.filterwarnings('ignore')"
   ]
  },
  {
   "cell_type": "markdown",
   "id": "69632a0b",
   "metadata": {},
   "source": [
    "### Heart Disease Dataset"
   ]
  },
  {
   "cell_type": "code",
   "execution_count": 2,
   "id": "3a99bb60",
   "metadata": {},
   "outputs": [
    {
     "data": {
      "text/html": [
       "<div>\n",
       "<style scoped>\n",
       "    .dataframe tbody tr th:only-of-type {\n",
       "        vertical-align: middle;\n",
       "    }\n",
       "\n",
       "    .dataframe tbody tr th {\n",
       "        vertical-align: top;\n",
       "    }\n",
       "\n",
       "    .dataframe thead th {\n",
       "        text-align: right;\n",
       "    }\n",
       "</style>\n",
       "<table border=\"1\" class=\"dataframe\">\n",
       "  <thead>\n",
       "    <tr style=\"text-align: right;\">\n",
       "      <th></th>\n",
       "      <th>major_vessels_num_0</th>\n",
       "      <th>major_vessels_num_1</th>\n",
       "      <th>major_vessels_num_2</th>\n",
       "      <th>major_vessels_num_3</th>\n",
       "      <th>major_vessels_num_4</th>\n",
       "      <th>exercise_induced_angina_0</th>\n",
       "      <th>exercise_induced_angina_1</th>\n",
       "      <th>sex_0</th>\n",
       "      <th>sex_1</th>\n",
       "      <th>slope_st_0</th>\n",
       "      <th>...</th>\n",
       "      <th>thalassemia_1</th>\n",
       "      <th>thalassemia_2</th>\n",
       "      <th>thalassemia_3</th>\n",
       "      <th>maximum_heart_rate</th>\n",
       "      <th>oldpeak</th>\n",
       "      <th>chest_pain_0</th>\n",
       "      <th>chest_pain_1</th>\n",
       "      <th>chest_pain_2</th>\n",
       "      <th>chest_pain_3</th>\n",
       "      <th>target</th>\n",
       "    </tr>\n",
       "  </thead>\n",
       "  <tbody>\n",
       "    <tr>\n",
       "      <th>0</th>\n",
       "      <td>1</td>\n",
       "      <td>0</td>\n",
       "      <td>0</td>\n",
       "      <td>0</td>\n",
       "      <td>0</td>\n",
       "      <td>1</td>\n",
       "      <td>0</td>\n",
       "      <td>0</td>\n",
       "      <td>1</td>\n",
       "      <td>1</td>\n",
       "      <td>...</td>\n",
       "      <td>1</td>\n",
       "      <td>0</td>\n",
       "      <td>0</td>\n",
       "      <td>0.603053</td>\n",
       "      <td>0.370968</td>\n",
       "      <td>0</td>\n",
       "      <td>0</td>\n",
       "      <td>0</td>\n",
       "      <td>1</td>\n",
       "      <td>1</td>\n",
       "    </tr>\n",
       "    <tr>\n",
       "      <th>1</th>\n",
       "      <td>1</td>\n",
       "      <td>0</td>\n",
       "      <td>0</td>\n",
       "      <td>0</td>\n",
       "      <td>0</td>\n",
       "      <td>1</td>\n",
       "      <td>0</td>\n",
       "      <td>0</td>\n",
       "      <td>1</td>\n",
       "      <td>1</td>\n",
       "      <td>...</td>\n",
       "      <td>0</td>\n",
       "      <td>1</td>\n",
       "      <td>0</td>\n",
       "      <td>0.885496</td>\n",
       "      <td>0.564516</td>\n",
       "      <td>0</td>\n",
       "      <td>0</td>\n",
       "      <td>1</td>\n",
       "      <td>0</td>\n",
       "      <td>1</td>\n",
       "    </tr>\n",
       "    <tr>\n",
       "      <th>2</th>\n",
       "      <td>1</td>\n",
       "      <td>0</td>\n",
       "      <td>0</td>\n",
       "      <td>0</td>\n",
       "      <td>0</td>\n",
       "      <td>1</td>\n",
       "      <td>0</td>\n",
       "      <td>1</td>\n",
       "      <td>0</td>\n",
       "      <td>0</td>\n",
       "      <td>...</td>\n",
       "      <td>0</td>\n",
       "      <td>1</td>\n",
       "      <td>0</td>\n",
       "      <td>0.770992</td>\n",
       "      <td>0.225806</td>\n",
       "      <td>0</td>\n",
       "      <td>1</td>\n",
       "      <td>0</td>\n",
       "      <td>0</td>\n",
       "      <td>1</td>\n",
       "    </tr>\n",
       "    <tr>\n",
       "      <th>3</th>\n",
       "      <td>1</td>\n",
       "      <td>0</td>\n",
       "      <td>0</td>\n",
       "      <td>0</td>\n",
       "      <td>0</td>\n",
       "      <td>1</td>\n",
       "      <td>0</td>\n",
       "      <td>0</td>\n",
       "      <td>1</td>\n",
       "      <td>0</td>\n",
       "      <td>...</td>\n",
       "      <td>0</td>\n",
       "      <td>1</td>\n",
       "      <td>0</td>\n",
       "      <td>0.816794</td>\n",
       "      <td>0.129032</td>\n",
       "      <td>0</td>\n",
       "      <td>1</td>\n",
       "      <td>0</td>\n",
       "      <td>0</td>\n",
       "      <td>1</td>\n",
       "    </tr>\n",
       "    <tr>\n",
       "      <th>4</th>\n",
       "      <td>1</td>\n",
       "      <td>0</td>\n",
       "      <td>0</td>\n",
       "      <td>0</td>\n",
       "      <td>0</td>\n",
       "      <td>0</td>\n",
       "      <td>1</td>\n",
       "      <td>1</td>\n",
       "      <td>0</td>\n",
       "      <td>0</td>\n",
       "      <td>...</td>\n",
       "      <td>0</td>\n",
       "      <td>1</td>\n",
       "      <td>0</td>\n",
       "      <td>0.702290</td>\n",
       "      <td>0.096774</td>\n",
       "      <td>1</td>\n",
       "      <td>0</td>\n",
       "      <td>0</td>\n",
       "      <td>0</td>\n",
       "      <td>1</td>\n",
       "    </tr>\n",
       "    <tr>\n",
       "      <th>...</th>\n",
       "      <td>...</td>\n",
       "      <td>...</td>\n",
       "      <td>...</td>\n",
       "      <td>...</td>\n",
       "      <td>...</td>\n",
       "      <td>...</td>\n",
       "      <td>...</td>\n",
       "      <td>...</td>\n",
       "      <td>...</td>\n",
       "      <td>...</td>\n",
       "      <td>...</td>\n",
       "      <td>...</td>\n",
       "      <td>...</td>\n",
       "      <td>...</td>\n",
       "      <td>...</td>\n",
       "      <td>...</td>\n",
       "      <td>...</td>\n",
       "      <td>...</td>\n",
       "      <td>...</td>\n",
       "      <td>...</td>\n",
       "      <td>...</td>\n",
       "    </tr>\n",
       "    <tr>\n",
       "      <th>298</th>\n",
       "      <td>1</td>\n",
       "      <td>0</td>\n",
       "      <td>0</td>\n",
       "      <td>0</td>\n",
       "      <td>0</td>\n",
       "      <td>0</td>\n",
       "      <td>1</td>\n",
       "      <td>1</td>\n",
       "      <td>0</td>\n",
       "      <td>0</td>\n",
       "      <td>...</td>\n",
       "      <td>0</td>\n",
       "      <td>0</td>\n",
       "      <td>1</td>\n",
       "      <td>0.396947</td>\n",
       "      <td>0.032258</td>\n",
       "      <td>1</td>\n",
       "      <td>0</td>\n",
       "      <td>0</td>\n",
       "      <td>0</td>\n",
       "      <td>0</td>\n",
       "    </tr>\n",
       "    <tr>\n",
       "      <th>299</th>\n",
       "      <td>1</td>\n",
       "      <td>0</td>\n",
       "      <td>0</td>\n",
       "      <td>0</td>\n",
       "      <td>0</td>\n",
       "      <td>1</td>\n",
       "      <td>0</td>\n",
       "      <td>0</td>\n",
       "      <td>1</td>\n",
       "      <td>0</td>\n",
       "      <td>...</td>\n",
       "      <td>0</td>\n",
       "      <td>0</td>\n",
       "      <td>1</td>\n",
       "      <td>0.465649</td>\n",
       "      <td>0.193548</td>\n",
       "      <td>0</td>\n",
       "      <td>0</td>\n",
       "      <td>0</td>\n",
       "      <td>1</td>\n",
       "      <td>0</td>\n",
       "    </tr>\n",
       "    <tr>\n",
       "      <th>300</th>\n",
       "      <td>0</td>\n",
       "      <td>0</td>\n",
       "      <td>1</td>\n",
       "      <td>0</td>\n",
       "      <td>0</td>\n",
       "      <td>1</td>\n",
       "      <td>0</td>\n",
       "      <td>0</td>\n",
       "      <td>1</td>\n",
       "      <td>0</td>\n",
       "      <td>...</td>\n",
       "      <td>0</td>\n",
       "      <td>0</td>\n",
       "      <td>1</td>\n",
       "      <td>0.534351</td>\n",
       "      <td>0.548387</td>\n",
       "      <td>1</td>\n",
       "      <td>0</td>\n",
       "      <td>0</td>\n",
       "      <td>0</td>\n",
       "      <td>0</td>\n",
       "    </tr>\n",
       "    <tr>\n",
       "      <th>301</th>\n",
       "      <td>0</td>\n",
       "      <td>1</td>\n",
       "      <td>0</td>\n",
       "      <td>0</td>\n",
       "      <td>0</td>\n",
       "      <td>0</td>\n",
       "      <td>1</td>\n",
       "      <td>0</td>\n",
       "      <td>1</td>\n",
       "      <td>0</td>\n",
       "      <td>...</td>\n",
       "      <td>0</td>\n",
       "      <td>0</td>\n",
       "      <td>1</td>\n",
       "      <td>0.335878</td>\n",
       "      <td>0.193548</td>\n",
       "      <td>1</td>\n",
       "      <td>0</td>\n",
       "      <td>0</td>\n",
       "      <td>0</td>\n",
       "      <td>0</td>\n",
       "    </tr>\n",
       "    <tr>\n",
       "      <th>302</th>\n",
       "      <td>0</td>\n",
       "      <td>1</td>\n",
       "      <td>0</td>\n",
       "      <td>0</td>\n",
       "      <td>0</td>\n",
       "      <td>1</td>\n",
       "      <td>0</td>\n",
       "      <td>1</td>\n",
       "      <td>0</td>\n",
       "      <td>0</td>\n",
       "      <td>...</td>\n",
       "      <td>0</td>\n",
       "      <td>1</td>\n",
       "      <td>0</td>\n",
       "      <td>0.786260</td>\n",
       "      <td>0.000000</td>\n",
       "      <td>0</td>\n",
       "      <td>1</td>\n",
       "      <td>0</td>\n",
       "      <td>0</td>\n",
       "      <td>0</td>\n",
       "    </tr>\n",
       "  </tbody>\n",
       "</table>\n",
       "<p>303 rows × 23 columns</p>\n",
       "</div>"
      ],
      "text/plain": [
       "     major_vessels_num_0  major_vessels_num_1  major_vessels_num_2  \\\n",
       "0                      1                    0                    0   \n",
       "1                      1                    0                    0   \n",
       "2                      1                    0                    0   \n",
       "3                      1                    0                    0   \n",
       "4                      1                    0                    0   \n",
       "..                   ...                  ...                  ...   \n",
       "298                    1                    0                    0   \n",
       "299                    1                    0                    0   \n",
       "300                    0                    0                    1   \n",
       "301                    0                    1                    0   \n",
       "302                    0                    1                    0   \n",
       "\n",
       "     major_vessels_num_3  major_vessels_num_4  exercise_induced_angina_0  \\\n",
       "0                      0                    0                          1   \n",
       "1                      0                    0                          1   \n",
       "2                      0                    0                          1   \n",
       "3                      0                    0                          1   \n",
       "4                      0                    0                          0   \n",
       "..                   ...                  ...                        ...   \n",
       "298                    0                    0                          0   \n",
       "299                    0                    0                          1   \n",
       "300                    0                    0                          1   \n",
       "301                    0                    0                          0   \n",
       "302                    0                    0                          1   \n",
       "\n",
       "     exercise_induced_angina_1  sex_0  sex_1  slope_st_0  ...  thalassemia_1  \\\n",
       "0                            0      0      1           1  ...              1   \n",
       "1                            0      0      1           1  ...              0   \n",
       "2                            0      1      0           0  ...              0   \n",
       "3                            0      0      1           0  ...              0   \n",
       "4                            1      1      0           0  ...              0   \n",
       "..                         ...    ...    ...         ...  ...            ...   \n",
       "298                          1      1      0           0  ...              0   \n",
       "299                          0      0      1           0  ...              0   \n",
       "300                          0      0      1           0  ...              0   \n",
       "301                          1      0      1           0  ...              0   \n",
       "302                          0      1      0           0  ...              0   \n",
       "\n",
       "     thalassemia_2  thalassemia_3  maximum_heart_rate   oldpeak  chest_pain_0  \\\n",
       "0                0              0            0.603053  0.370968             0   \n",
       "1                1              0            0.885496  0.564516             0   \n",
       "2                1              0            0.770992  0.225806             0   \n",
       "3                1              0            0.816794  0.129032             0   \n",
       "4                1              0            0.702290  0.096774             1   \n",
       "..             ...            ...                 ...       ...           ...   \n",
       "298              0              1            0.396947  0.032258             1   \n",
       "299              0              1            0.465649  0.193548             0   \n",
       "300              0              1            0.534351  0.548387             1   \n",
       "301              0              1            0.335878  0.193548             1   \n",
       "302              1              0            0.786260  0.000000             0   \n",
       "\n",
       "     chest_pain_1  chest_pain_2  chest_pain_3  target  \n",
       "0               0             0             1       1  \n",
       "1               0             1             0       1  \n",
       "2               1             0             0       1  \n",
       "3               1             0             0       1  \n",
       "4               0             0             0       1  \n",
       "..            ...           ...           ...     ...  \n",
       "298             0             0             0       0  \n",
       "299             0             0             1       0  \n",
       "300             0             0             0       0  \n",
       "301             0             0             0       0  \n",
       "302             1             0             0       0  \n",
       "\n",
       "[303 rows x 23 columns]"
      ]
     },
     "execution_count": 2,
     "metadata": {},
     "output_type": "execute_result"
    }
   ],
   "source": [
    "# load the dataset from your prefered location and file format\n",
    "data = pd.read_pickle(\"./pickle_files/heart_data_pre_processed.pkl\")\n",
    "data"
   ]
  },
  {
   "cell_type": "code",
   "execution_count": 3,
   "id": "charming-renaissance",
   "metadata": {},
   "outputs": [],
   "source": [
    "X = data.drop(columns=['target'])\n",
    "y = data['target']"
   ]
  },
  {
   "cell_type": "markdown",
   "id": "e8dda9a6",
   "metadata": {},
   "source": [
    "### Applying the Voting Classifier on the Heart Disease Dataset"
   ]
  },
  {
   "cell_type": "code",
   "execution_count": 4,
   "id": "developmental-growth",
   "metadata": {},
   "outputs": [],
   "source": [
    "from sklearn.metrics import accuracy_score, precision_score, recall_score, f1_score,roc_curve, roc_auc_score,roc_auc_score\n",
    "from sklearn.metrics import plot_confusion_matrix\n",
    "from sklearn.model_selection import cross_val_score\n",
    "\n",
    "def get_scores(y_test, y_predictions):\n",
    "    \"\"\"returns the accuracy and the F1 score for the following predictions\"\"\"\n",
    "    f1_res = f1_score(y_test, y_predictions)\n",
    "    accuracy = accuracy_score(y_test, y_predictions)\n",
    "    return f1_res, accuracy"
   ]
  },
  {
   "cell_type": "code",
   "execution_count": 5,
   "id": "basic-security",
   "metadata": {},
   "outputs": [],
   "source": [
    "def model(clf,X_train,X_test,y_train,y_test):\n",
    "    \"\"\"\n",
    "    builds the model with the passed classifier,\n",
    "    predicts the test data,\n",
    "    prints the confusion matrix,\n",
    "    returns the f1 and accuracy score,\n",
    "    \"\"\"\n",
    "    \n",
    "    clf.fit(X_train, y_train)\n",
    "    \n",
    "    #predictions\n",
    "    prediction = clf.predict(X_test)\n",
    "    predict_proba_values = clf.predict_proba(X_test)\n",
    "    # f1 and accuracy scores\n",
    "    score_f1, score_acc = get_scores(y_test, prediction)\n",
    "    \n",
    "    print(\"-\"*60)\n",
    "    print(f\"Test Scores : {clf}\\nAccuracy:{score_acc}\\tF1 Score:{score_f1}\")\n",
    "    print(\"-\"*60)\n",
    "    print(plot_confusion_matrix(clf, X_test, y_test, cmap='Blues', normalize='true'))\n",
    "    \n",
    "    return score_acc, score_f1,predict_proba_values"
   ]
  },
  {
   "cell_type": "code",
   "execution_count": 6,
   "id": "empty-danish",
   "metadata": {},
   "outputs": [],
   "source": [
    "def plot_roc(y_test, predict_proba_value):\n",
    "    \"\"\"\n",
    "    plots the roc curve based on y_test and predcit_proba value\n",
    "    \"\"\"\n",
    "    fpr, tpr, _ = roc_curve(y_test, predict_proba_value[:,[1]])\n",
    "    plt.plot(fpr,tpr)\n",
    "    plt.xlabel(\"False Positive Rate\")\n",
    "    plt.ylabel(\"True Positive Rate\")\n",
    "    plt.show()\n",
    "    return fpr, tpr"
   ]
  },
  {
   "cell_type": "markdown",
   "id": "transsexual-aggregate",
   "metadata": {},
   "source": [
    "Dictionary that holds the final results"
   ]
  },
  {
   "cell_type": "code",
   "execution_count": 7,
   "id": "indonesian-madagascar",
   "metadata": {},
   "outputs": [],
   "source": [
    "final_scores = {}\n",
    "time_elapsed = {}"
   ]
  },
  {
   "cell_type": "markdown",
   "id": "fixed-spectacular",
   "metadata": {},
   "source": [
    "#### Fully Supervised"
   ]
  },
  {
   "cell_type": "code",
   "execution_count": 8,
   "id": "traditional-trick",
   "metadata": {},
   "outputs": [],
   "source": [
    "# Train-Test split\n",
    "from sklearn.model_selection import train_test_split\n",
    "X_train, X_test, y_train, y_test = train_test_split(X, y, test_size=0.33, random_state=42)"
   ]
  },
  {
   "cell_type": "code",
   "execution_count": 9,
   "id": "agreed-supplement",
   "metadata": {},
   "outputs": [
    {
     "name": "stdout",
     "output_type": "stream",
     "text": [
      "------------------------------------------------------------\n",
      "Test Scores : VotingClassifier(estimators=[('svm', SVC(probability=True, random_state=55)),\n",
      "                             ('rf',\n",
      "                              RandomForestClassifier(n_estimators=150, n_jobs=1,\n",
      "                                                     random_state=55)),\n",
      "                             ('knn', KNeighborsClassifier())],\n",
      "                 voting='soft', weights=[1, 1, 1])\n",
      "Accuracy:0.84\tF1 Score:0.8620689655172413\n",
      "------------------------------------------------------------\n",
      "<sklearn.metrics._plot.confusion_matrix.ConfusionMatrixDisplay object at 0x12ccc1730>\n"
     ]
    },
    {
     "data": {
      "image/png": "[encoded data removed]",
      "text/plain": [
       "<Figure size 432x288 with 2 Axes>"
      ]
     },
     "metadata": {
      "needs_background": "light"
     },
     "output_type": "display_data"
    }
   ],
   "source": [
    "from sklearn.ensemble import RandomForestClassifier, VotingClassifier\n",
    "from sklearn.svm import SVC\n",
    "from sklearn.neighbors import KNeighborsClassifier\n",
    "\n",
    "start_time = time.time()\n",
    "\n",
    "# various models that would combine to an ensemble\n",
    "# these base models can be hyptertuned to get desired results\n",
    "clf_rf = RandomForestClassifier(random_state=55, n_jobs=1, n_estimators = 150)\n",
    "clf_svm = SVC(random_state=55, probability=True)\n",
    "clf_knn = KNeighborsClassifier(n_neighbors=5)\n",
    "estimators = [clf_rf, clf_knn, clf_knn]\n",
    "\n",
    "# the parameter voting=soft, considers the average predicted probabilities to predict the class label\n",
    "ensemble = VotingClassifier(estimators=[('svm', clf_svm), ('rf', clf_rf), ('knn', clf_knn)],voting='soft', \n",
    "                            weights=[1,1,1])\n",
    "    \n",
    "\n",
    "en1_acc, en1_f1, en1_pp = model(ensemble, X_train,X_test,y_train,y_test)\n",
    "end_time = time.time()\n",
    "final_scores[(\"Fully Supervised Accuracy\", \"Fully Supervised F1 Score\")] = (en1_acc,en1_f1)"
   ]
  },
  {
   "cell_type": "code",
   "execution_count": 10,
   "id": "dominican-intent",
   "metadata": {},
   "outputs": [
    {
     "data": {
      "image/png": "[encoded data removed]",
      "text/plain": [
       "<Figure size 432x288 with 1 Axes>"
      ]
     },
     "metadata": {
      "needs_background": "light"
     },
     "output_type": "display_data"
    }
   ],
   "source": [
    "en1_fpr, en1_tpr = plot_roc(y_test, en1_pp)"
   ]
  },
  {
   "cell_type": "code",
   "execution_count": 11,
   "id": "0faf4f3a",
   "metadata": {},
   "outputs": [
    {
     "name": "stdout",
     "output_type": "stream",
     "text": [
      "Time Elapsed : 100% Supervised Data : 0.26567816734313965\n"
     ]
    }
   ],
   "source": [
    "time_elapsed[\"Fully Supervised\"] = end_time - start_time\n",
    "print(f\"Time Elapsed : 100% Supervised Data : {time_elapsed['Fully Supervised']}\")"
   ]
  },
  {
   "cell_type": "markdown",
   "id": "covered-microwave",
   "metadata": {},
   "source": [
    "#### 10% Unlabelled Data"
   ]
  },
  {
   "cell_type": "code",
   "execution_count": 12,
   "id": "cosmetic-graduation",
   "metadata": {},
   "outputs": [
    {
     "data": {
      "text/html": [
       "<div>\n",
       "<style scoped>\n",
       "    .dataframe tbody tr th:only-of-type {\n",
       "        vertical-align: middle;\n",
       "    }\n",
       "\n",
       "    .dataframe tbody tr th {\n",
       "        vertical-align: top;\n",
       "    }\n",
       "\n",
       "    .dataframe thead th {\n",
       "        text-align: right;\n",
       "    }\n",
       "</style>\n",
       "<table border=\"1\" class=\"dataframe\">\n",
       "  <thead>\n",
       "    <tr style=\"text-align: right;\">\n",
       "      <th></th>\n",
       "      <th>major_vessels_num_0</th>\n",
       "      <th>major_vessels_num_1</th>\n",
       "      <th>major_vessels_num_2</th>\n",
       "      <th>major_vessels_num_3</th>\n",
       "      <th>major_vessels_num_4</th>\n",
       "      <th>exercise_induced_angina_0</th>\n",
       "      <th>exercise_induced_angina_1</th>\n",
       "      <th>sex_0</th>\n",
       "      <th>sex_1</th>\n",
       "      <th>slope_st_0</th>\n",
       "      <th>...</th>\n",
       "      <th>thalassemia_1</th>\n",
       "      <th>thalassemia_2</th>\n",
       "      <th>thalassemia_3</th>\n",
       "      <th>maximum_heart_rate</th>\n",
       "      <th>oldpeak</th>\n",
       "      <th>chest_pain_0</th>\n",
       "      <th>chest_pain_1</th>\n",
       "      <th>chest_pain_2</th>\n",
       "      <th>chest_pain_3</th>\n",
       "      <th>target</th>\n",
       "    </tr>\n",
       "  </thead>\n",
       "  <tbody>\n",
       "    <tr>\n",
       "      <th>112</th>\n",
       "      <td>1</td>\n",
       "      <td>0</td>\n",
       "      <td>0</td>\n",
       "      <td>0</td>\n",
       "      <td>0</td>\n",
       "      <td>1</td>\n",
       "      <td>0</td>\n",
       "      <td>1</td>\n",
       "      <td>0</td>\n",
       "      <td>0</td>\n",
       "      <td>...</td>\n",
       "      <td>0</td>\n",
       "      <td>0</td>\n",
       "      <td>1</td>\n",
       "      <td>0.473282</td>\n",
       "      <td>0.032258</td>\n",
       "      <td>0</td>\n",
       "      <td>0</td>\n",
       "      <td>1</td>\n",
       "      <td>0</td>\n",
       "      <td>1</td>\n",
       "    </tr>\n",
       "    <tr>\n",
       "      <th>63</th>\n",
       "      <td>1</td>\n",
       "      <td>0</td>\n",
       "      <td>0</td>\n",
       "      <td>0</td>\n",
       "      <td>0</td>\n",
       "      <td>1</td>\n",
       "      <td>0</td>\n",
       "      <td>0</td>\n",
       "      <td>1</td>\n",
       "      <td>0</td>\n",
       "      <td>...</td>\n",
       "      <td>1</td>\n",
       "      <td>0</td>\n",
       "      <td>0</td>\n",
       "      <td>0.465649</td>\n",
       "      <td>0.000000</td>\n",
       "      <td>0</td>\n",
       "      <td>1</td>\n",
       "      <td>0</td>\n",
       "      <td>0</td>\n",
       "      <td>1</td>\n",
       "    </tr>\n",
       "    <tr>\n",
       "      <th>270</th>\n",
       "      <td>1</td>\n",
       "      <td>0</td>\n",
       "      <td>0</td>\n",
       "      <td>0</td>\n",
       "      <td>0</td>\n",
       "      <td>1</td>\n",
       "      <td>0</td>\n",
       "      <td>0</td>\n",
       "      <td>1</td>\n",
       "      <td>0</td>\n",
       "      <td>...</td>\n",
       "      <td>0</td>\n",
       "      <td>0</td>\n",
       "      <td>1</td>\n",
       "      <td>0.557252</td>\n",
       "      <td>0.129032</td>\n",
       "      <td>1</td>\n",
       "      <td>0</td>\n",
       "      <td>0</td>\n",
       "      <td>0</td>\n",
       "      <td>0</td>\n",
       "    </tr>\n",
       "    <tr>\n",
       "      <th>39</th>\n",
       "      <td>1</td>\n",
       "      <td>0</td>\n",
       "      <td>0</td>\n",
       "      <td>0</td>\n",
       "      <td>0</td>\n",
       "      <td>1</td>\n",
       "      <td>0</td>\n",
       "      <td>1</td>\n",
       "      <td>0</td>\n",
       "      <td>0</td>\n",
       "      <td>...</td>\n",
       "      <td>0</td>\n",
       "      <td>1</td>\n",
       "      <td>0</td>\n",
       "      <td>0.610687</td>\n",
       "      <td>0.129032</td>\n",
       "      <td>0</td>\n",
       "      <td>0</td>\n",
       "      <td>1</td>\n",
       "      <td>0</td>\n",
       "      <td>1</td>\n",
       "    </tr>\n",
       "    <tr>\n",
       "      <th>277</th>\n",
       "      <td>1</td>\n",
       "      <td>0</td>\n",
       "      <td>0</td>\n",
       "      <td>0</td>\n",
       "      <td>0</td>\n",
       "      <td>1</td>\n",
       "      <td>0</td>\n",
       "      <td>0</td>\n",
       "      <td>1</td>\n",
       "      <td>0</td>\n",
       "      <td>...</td>\n",
       "      <td>0</td>\n",
       "      <td>0</td>\n",
       "      <td>1</td>\n",
       "      <td>0.534351</td>\n",
       "      <td>0.048387</td>\n",
       "      <td>0</td>\n",
       "      <td>1</td>\n",
       "      <td>0</td>\n",
       "      <td>0</td>\n",
       "      <td>0</td>\n",
       "    </tr>\n",
       "  </tbody>\n",
       "</table>\n",
       "<p>5 rows × 23 columns</p>\n",
       "</div>"
      ],
      "text/plain": [
       "     major_vessels_num_0  major_vessels_num_1  major_vessels_num_2  \\\n",
       "112                    1                    0                    0   \n",
       "63                     1                    0                    0   \n",
       "270                    1                    0                    0   \n",
       "39                     1                    0                    0   \n",
       "277                    1                    0                    0   \n",
       "\n",
       "     major_vessels_num_3  major_vessels_num_4  exercise_induced_angina_0  \\\n",
       "112                    0                    0                          1   \n",
       "63                     0                    0                          1   \n",
       "270                    0                    0                          1   \n",
       "39                     0                    0                          1   \n",
       "277                    0                    0                          1   \n",
       "\n",
       "     exercise_induced_angina_1  sex_0  sex_1  slope_st_0  ...  thalassemia_1  \\\n",
       "112                          0      1      0           0  ...              0   \n",
       "63                           0      0      1           0  ...              1   \n",
       "270                          0      0      1           0  ...              0   \n",
       "39                           0      1      0           0  ...              0   \n",
       "277                          0      0      1           0  ...              0   \n",
       "\n",
       "     thalassemia_2  thalassemia_3  maximum_heart_rate   oldpeak  chest_pain_0  \\\n",
       "112              0              1            0.473282  0.032258             0   \n",
       "63               0              0            0.465649  0.000000             0   \n",
       "270              0              1            0.557252  0.129032             1   \n",
       "39               1              0            0.610687  0.129032             0   \n",
       "277              0              1            0.534351  0.048387             0   \n",
       "\n",
       "     chest_pain_1  chest_pain_2  chest_pain_3  target  \n",
       "112             0             1             0       1  \n",
       "63              1             0             0       1  \n",
       "270             0             0             0       0  \n",
       "39              0             1             0       1  \n",
       "277             1             0             0       0  \n",
       "\n",
       "[5 rows x 23 columns]"
      ]
     },
     "execution_count": 12,
     "metadata": {},
     "output_type": "execute_result"
    }
   ],
   "source": [
    "df = data.sample(frac=1, random_state=50)\n",
    "df.head()"
   ]
  },
  {
   "cell_type": "code",
   "execution_count": 13,
   "id": "incorporated-lewis",
   "metadata": {},
   "outputs": [
    {
     "name": "stdout",
     "output_type": "stream",
     "text": [
      "X_train dimensions: (182, 22)\n",
      "y_train dimensions: (182,)\n",
      "\n",
      "X_test dimensions: (91, 22)\n",
      "y_test dimensions: (91,)\n",
      "\n",
      "X_unlabeled dimensions: (30, 22)\n"
     ]
    }
   ],
   "source": [
    "# generating the split indices and partition of data\n",
    "unlabelled_data_ind = round(len(df) * 0.10)\n",
    "train_ind = unlabelled_data_ind + round(len(df) * 0.60)\n",
    "test_ind = train_ind + round(len(df) * 0.30)\n",
    "\n",
    "unlabelled = df.iloc[:unlabelled_data_ind]\n",
    "train = df.iloc[unlabelled_data_ind:train_ind]\n",
    "test = df.iloc[train_ind:]\n",
    "\n",
    "# assigning the data to train, test and unlabelled sets\n",
    "X_train = train.drop('target', axis=1)\n",
    "y_train = train['target']\n",
    "\n",
    "X_test = test.drop('target', axis=1)\n",
    "y_test = test['target']\n",
    "\n",
    "X_unlabeled = unlabelled.drop('target', axis=1)\n",
    "\n",
    "\n",
    "# Check dimensions of data after splitting\n",
    "\n",
    "print(f\"X_train dimensions: {X_train.shape}\")\n",
    "print(f\"y_train dimensions: {y_train.shape}\\n\")\n",
    "\n",
    "print(f\"X_test dimensions: {X_test.shape}\")\n",
    "print(f\"y_test dimensions: {y_test.shape}\\n\")\n",
    "\n",
    "print(f\"X_unlabeled dimensions: {X_unlabeled.shape}\")"
   ]
  },
  {
   "cell_type": "markdown",
   "id": "friendly-elevation",
   "metadata": {},
   "source": [
    "Class Distirbution; almost identical"
   ]
  },
  {
   "cell_type": "code",
   "execution_count": 14,
   "id": "little-representative",
   "metadata": {},
   "outputs": [
    {
     "data": {
      "text/plain": [
       "<AxesSubplot:>"
      ]
     },
     "execution_count": 14,
     "metadata": {},
     "output_type": "execute_result"
    },
    {
     "data": {
      "image/png": "[encoded data removed]",
      "text/plain": [
       "<Figure size 432x288 with 1 Axes>"
      ]
     },
     "metadata": {
      "needs_background": "light"
     },
     "output_type": "display_data"
    }
   ],
   "source": [
    "y_train.value_counts().plot(kind='bar')"
   ]
  },
  {
   "cell_type": "markdown",
   "id": "documented-direction",
   "metadata": {},
   "source": [
    "STEPS followed : \n",
    "- Train a Ensemble (with SVM, RF and KNN) Classifier on the labelled data\n",
    "- Use this classifier to predict labels for the unlabelled data, adopt pseudo-lables with prediction probability greater or equal to 95\n",
    "- Concatenate the ‘pseudo-labeled’ data with the labeled training data, and re-train the classifier on the concatenated data.\n",
    "- Use trained classifier to make predictions for the labeled test data, and evaluate the classifier.\n",
    "- Repeat these steps until no more predictions have a probability greater than 95"
   ]
  },
  {
   "cell_type": "code",
   "execution_count": 15,
   "id": "psychological-jumping",
   "metadata": {},
   "outputs": [
    {
     "name": "stdout",
     "output_type": "stream",
     "text": [
      "------------------------------------------------------------\n",
      "Test Scores : VotingClassifier(estimators=[('svm', SVC(probability=True, random_state=55)),\n",
      "                             ('rf',\n",
      "                              RandomForestClassifier(n_estimators=150, n_jobs=1,\n",
      "                                                     random_state=55)),\n",
      "                             ('knn', KNeighborsClassifier())],\n",
      "                 voting='soft', weights=[1, 1, 1])\n",
      "Accuracy:0.8241758241758241\tF1 Score:0.8545454545454546\n",
      "------------------------------------------------------------\n",
      "<sklearn.metrics._plot.confusion_matrix.ConfusionMatrixDisplay object at 0x12cccefd0>\n"
     ]
    },
    {
     "data": {
      "image/png": "[encoded data removed]",
      "text/plain": [
       "<Figure size 432x288 with 2 Axes>"
      ]
     },
     "metadata": {
      "needs_background": "light"
     },
     "output_type": "display_data"
    }
   ],
   "source": [
    "# initial classifier on this data\n",
    "start_time = time.time()\n",
    "en2_acc, en2_f1, en2_pp = model(ensemble, X_train,X_test,y_train,y_test)"
   ]
  },
  {
   "cell_type": "code",
   "execution_count": 16,
   "id": "capital-reynolds",
   "metadata": {},
   "outputs": [
    {
     "data": {
      "image/png": "[encoded data removed]",
      "text/plain": [
       "<Figure size 432x288 with 1 Axes>"
      ]
     },
     "metadata": {
      "needs_background": "light"
     },
     "output_type": "display_data"
    }
   ],
   "source": [
    "_, _ = plot_roc(y_test, en2_pp)"
   ]
  },
  {
   "cell_type": "code",
   "execution_count": 17,
   "id": "severe-bonus",
   "metadata": {},
   "outputs": [
    {
     "name": "stdout",
     "output_type": "stream",
     "text": [
      "Iteration 0\n",
      "Accuracy : 0.8241758241758241\tF1 Score ; 0.8545454545454546\n",
      "Now predicting labels for unlabeled data...\n",
      "3 high-probability predictions added to training data.\n",
      "27 unlabeled instances remaining.\n",
      "\n",
      "Iteration 1\n",
      "Accuracy : 0.8131868131868132\tF1 Score ; 0.8468468468468467\n",
      "Now predicting labels for unlabeled data...\n",
      "2 high-probability predictions added to training data.\n",
      "25 unlabeled instances remaining.\n",
      "\n",
      "Iteration 2\n",
      "Accuracy : 0.8241758241758241\tF1 Score ; 0.8545454545454546\n",
      "Now predicting labels for unlabeled data...\n",
      "0 high-probability predictions added to training data.\n",
      "25 unlabeled instances remaining.\n",
      "\n"
     ]
    }
   ],
   "source": [
    "# Initiate iteration counter\n",
    "iterations = 0\n",
    "\n",
    "# Containers to hold f1_scores and # of pseudo-labels\n",
    "train_f1s = []\n",
    "test_f1s = []\n",
    "pseudo_labels = []\n",
    "\n",
    "# Assign value to initiate while loop\n",
    "high_prob = [1] \n",
    "\n",
    "# Loop will run until there are no more high-probability pseudo-labels\n",
    "while len(high_prob) > 0:\n",
    "        \n",
    "    # Fit classifier and make train/test predictions\n",
    "    clf = ensemble\n",
    "    clf.fit(X_train, y_train)\n",
    "    y_pred = clf.predict(X_test)\n",
    "\n",
    "    # Calculate and print iteration # and f1 scores, and store f1 scores\n",
    "    test_f1, test_acc = get_scores(y_test, y_pred)\n",
    "    print(f\"Iteration {iterations}\")\n",
    "    print(f\"Accuracy : {test_acc}\\tF1 Score ; {test_f1}\")\n",
    "    test_f1s.append(test_f1)\n",
    "   \n",
    "    # Generate predictions and probabilities for unlabeled data\n",
    "    print(f\"Now predicting labels for unlabeled data...\")\n",
    "\n",
    "    pred_probs = clf.predict_proba(X_unlabeled)\n",
    "    preds = clf.predict(X_unlabeled)\n",
    "    prob_0 = pred_probs[:,0]\n",
    "    prob_1 = pred_probs[:,1]\n",
    "\n",
    "    # Store predictions and probabilities in dataframe\n",
    "    df_pred_prob = pd.DataFrame([])\n",
    "    df_pred_prob['preds'] = preds\n",
    "    df_pred_prob['prob_0'] = prob_0\n",
    "    df_pred_prob['prob_1'] = prob_1\n",
    "    df_pred_prob.index = X_unlabeled.index\n",
    "    \n",
    "    # Separate predictions with > 95% probability\n",
    "    high_prob = pd.concat([df_pred_prob.loc[df_pred_prob['prob_0'] > 0.98],\n",
    "                           df_pred_prob.loc[df_pred_prob['prob_1'] > 0.98]],\n",
    "                          axis=0)\n",
    "    \n",
    "    print(f\"{len(high_prob)} high-probability predictions added to training data.\")\n",
    "    \n",
    "    pseudo_labels.append(len(high_prob))\n",
    "\n",
    "    # Add pseudo-labeled data to training data\n",
    "    X_train = pd.concat([X_train, X_unlabeled.loc[high_prob.index]], axis=0)\n",
    "    y_train = pd.concat([y_train, high_prob.preds])      \n",
    "    \n",
    "    # Drop pseudo-labeled instances from unlabeled data\n",
    "    X_unlabeled = X_unlabeled.drop(index=high_prob.index)\n",
    "    print(f\"{len(X_unlabeled)} unlabeled instances remaining.\\n\")\n",
    "    \n",
    "    # Update iteration counter\n",
    "    iterations += 1\n",
    "\n",
    "end_time = time.time()"
   ]
  },
  {
   "cell_type": "code",
   "execution_count": 18,
   "id": "expensive-space",
   "metadata": {},
   "outputs": [
    {
     "data": {
      "text/plain": [
       "<sklearn.metrics._plot.confusion_matrix.ConfusionMatrixDisplay at 0x12ccd4220>"
      ]
     },
     "execution_count": 18,
     "metadata": {},
     "output_type": "execute_result"
    },
    {
     "data": {
      "image/png": "[encoded data removed]",
      "text/plain": [
       "<Figure size 432x288 with 2 Axes>"
      ]
     },
     "metadata": {
      "needs_background": "light"
     },
     "output_type": "display_data"
    }
   ],
   "source": [
    "plot_confusion_matrix(clf, X_test, y_test, cmap='Blues', normalize='true')"
   ]
  },
  {
   "cell_type": "code",
   "execution_count": 19,
   "id": "ethical-compatibility",
   "metadata": {},
   "outputs": [
    {
     "data": {
      "image/png": "[encoded data removed]",
      "text/plain": [
       "<Figure size 432x288 with 1 Axes>"
      ]
     },
     "metadata": {
      "needs_background": "light"
     },
     "output_type": "display_data"
    }
   ],
   "source": [
    "en2_fpr, en2_tpr = plot_roc(y_test, clf.predict_proba(X_test))"
   ]
  },
  {
   "cell_type": "code",
   "execution_count": 20,
   "id": "imported-contractor",
   "metadata": {},
   "outputs": [
    {
     "name": "stdout",
     "output_type": "stream",
     "text": [
      "Time Elapsed, 10% Unlabelled Data : 1.131263017654419\n"
     ]
    }
   ],
   "source": [
    "final_scores[('10% Unlabelled Data Accuracy', '10% Unlabelled Data F1 score')] = (test_acc, test_f1)\n",
    "time_elapsed[\"10% Unlabelled\"] = end_time - start_time\n",
    "print(f\"Time Elapsed, 10% Unlabelled Data : {time_elapsed['10% Unlabelled']}\")"
   ]
  },
  {
   "cell_type": "markdown",
   "id": "mysterious-nitrogen",
   "metadata": {},
   "source": [
    "#### 20% unlabelled data"
   ]
  },
  {
   "cell_type": "code",
   "execution_count": 21,
   "id": "drawn-tribute",
   "metadata": {},
   "outputs": [
    {
     "data": {
      "text/html": [
       "<div>\n",
       "<style scoped>\n",
       "    .dataframe tbody tr th:only-of-type {\n",
       "        vertical-align: middle;\n",
       "    }\n",
       "\n",
       "    .dataframe tbody tr th {\n",
       "        vertical-align: top;\n",
       "    }\n",
       "\n",
       "    .dataframe thead th {\n",
       "        text-align: right;\n",
       "    }\n",
       "</style>\n",
       "<table border=\"1\" class=\"dataframe\">\n",
       "  <thead>\n",
       "    <tr style=\"text-align: right;\">\n",
       "      <th></th>\n",
       "      <th>major_vessels_num_0</th>\n",
       "      <th>major_vessels_num_1</th>\n",
       "      <th>major_vessels_num_2</th>\n",
       "      <th>major_vessels_num_3</th>\n",
       "      <th>major_vessels_num_4</th>\n",
       "      <th>exercise_induced_angina_0</th>\n",
       "      <th>exercise_induced_angina_1</th>\n",
       "      <th>sex_0</th>\n",
       "      <th>sex_1</th>\n",
       "      <th>slope_st_0</th>\n",
       "      <th>...</th>\n",
       "      <th>thalassemia_1</th>\n",
       "      <th>thalassemia_2</th>\n",
       "      <th>thalassemia_3</th>\n",
       "      <th>maximum_heart_rate</th>\n",
       "      <th>oldpeak</th>\n",
       "      <th>chest_pain_0</th>\n",
       "      <th>chest_pain_1</th>\n",
       "      <th>chest_pain_2</th>\n",
       "      <th>chest_pain_3</th>\n",
       "      <th>target</th>\n",
       "    </tr>\n",
       "  </thead>\n",
       "  <tbody>\n",
       "    <tr>\n",
       "      <th>112</th>\n",
       "      <td>1</td>\n",
       "      <td>0</td>\n",
       "      <td>0</td>\n",
       "      <td>0</td>\n",
       "      <td>0</td>\n",
       "      <td>1</td>\n",
       "      <td>0</td>\n",
       "      <td>1</td>\n",
       "      <td>0</td>\n",
       "      <td>0</td>\n",
       "      <td>...</td>\n",
       "      <td>0</td>\n",
       "      <td>0</td>\n",
       "      <td>1</td>\n",
       "      <td>0.473282</td>\n",
       "      <td>0.032258</td>\n",
       "      <td>0</td>\n",
       "      <td>0</td>\n",
       "      <td>1</td>\n",
       "      <td>0</td>\n",
       "      <td>1</td>\n",
       "    </tr>\n",
       "    <tr>\n",
       "      <th>63</th>\n",
       "      <td>1</td>\n",
       "      <td>0</td>\n",
       "      <td>0</td>\n",
       "      <td>0</td>\n",
       "      <td>0</td>\n",
       "      <td>1</td>\n",
       "      <td>0</td>\n",
       "      <td>0</td>\n",
       "      <td>1</td>\n",
       "      <td>0</td>\n",
       "      <td>...</td>\n",
       "      <td>1</td>\n",
       "      <td>0</td>\n",
       "      <td>0</td>\n",
       "      <td>0.465649</td>\n",
       "      <td>0.000000</td>\n",
       "      <td>0</td>\n",
       "      <td>1</td>\n",
       "      <td>0</td>\n",
       "      <td>0</td>\n",
       "      <td>1</td>\n",
       "    </tr>\n",
       "    <tr>\n",
       "      <th>270</th>\n",
       "      <td>1</td>\n",
       "      <td>0</td>\n",
       "      <td>0</td>\n",
       "      <td>0</td>\n",
       "      <td>0</td>\n",
       "      <td>1</td>\n",
       "      <td>0</td>\n",
       "      <td>0</td>\n",
       "      <td>1</td>\n",
       "      <td>0</td>\n",
       "      <td>...</td>\n",
       "      <td>0</td>\n",
       "      <td>0</td>\n",
       "      <td>1</td>\n",
       "      <td>0.557252</td>\n",
       "      <td>0.129032</td>\n",
       "      <td>1</td>\n",
       "      <td>0</td>\n",
       "      <td>0</td>\n",
       "      <td>0</td>\n",
       "      <td>0</td>\n",
       "    </tr>\n",
       "    <tr>\n",
       "      <th>39</th>\n",
       "      <td>1</td>\n",
       "      <td>0</td>\n",
       "      <td>0</td>\n",
       "      <td>0</td>\n",
       "      <td>0</td>\n",
       "      <td>1</td>\n",
       "      <td>0</td>\n",
       "      <td>1</td>\n",
       "      <td>0</td>\n",
       "      <td>0</td>\n",
       "      <td>...</td>\n",
       "      <td>0</td>\n",
       "      <td>1</td>\n",
       "      <td>0</td>\n",
       "      <td>0.610687</td>\n",
       "      <td>0.129032</td>\n",
       "      <td>0</td>\n",
       "      <td>0</td>\n",
       "      <td>1</td>\n",
       "      <td>0</td>\n",
       "      <td>1</td>\n",
       "    </tr>\n",
       "    <tr>\n",
       "      <th>277</th>\n",
       "      <td>1</td>\n",
       "      <td>0</td>\n",
       "      <td>0</td>\n",
       "      <td>0</td>\n",
       "      <td>0</td>\n",
       "      <td>1</td>\n",
       "      <td>0</td>\n",
       "      <td>0</td>\n",
       "      <td>1</td>\n",
       "      <td>0</td>\n",
       "      <td>...</td>\n",
       "      <td>0</td>\n",
       "      <td>0</td>\n",
       "      <td>1</td>\n",
       "      <td>0.534351</td>\n",
       "      <td>0.048387</td>\n",
       "      <td>0</td>\n",
       "      <td>1</td>\n",
       "      <td>0</td>\n",
       "      <td>0</td>\n",
       "      <td>0</td>\n",
       "    </tr>\n",
       "  </tbody>\n",
       "</table>\n",
       "<p>5 rows × 23 columns</p>\n",
       "</div>"
      ],
      "text/plain": [
       "     major_vessels_num_0  major_vessels_num_1  major_vessels_num_2  \\\n",
       "112                    1                    0                    0   \n",
       "63                     1                    0                    0   \n",
       "270                    1                    0                    0   \n",
       "39                     1                    0                    0   \n",
       "277                    1                    0                    0   \n",
       "\n",
       "     major_vessels_num_3  major_vessels_num_4  exercise_induced_angina_0  \\\n",
       "112                    0                    0                          1   \n",
       "63                     0                    0                          1   \n",
       "270                    0                    0                          1   \n",
       "39                     0                    0                          1   \n",
       "277                    0                    0                          1   \n",
       "\n",
       "     exercise_induced_angina_1  sex_0  sex_1  slope_st_0  ...  thalassemia_1  \\\n",
       "112                          0      1      0           0  ...              0   \n",
       "63                           0      0      1           0  ...              1   \n",
       "270                          0      0      1           0  ...              0   \n",
       "39                           0      1      0           0  ...              0   \n",
       "277                          0      0      1           0  ...              0   \n",
       "\n",
       "     thalassemia_2  thalassemia_3  maximum_heart_rate   oldpeak  chest_pain_0  \\\n",
       "112              0              1            0.473282  0.032258             0   \n",
       "63               0              0            0.465649  0.000000             0   \n",
       "270              0              1            0.557252  0.129032             1   \n",
       "39               1              0            0.610687  0.129032             0   \n",
       "277              0              1            0.534351  0.048387             0   \n",
       "\n",
       "     chest_pain_1  chest_pain_2  chest_pain_3  target  \n",
       "112             0             1             0       1  \n",
       "63              1             0             0       1  \n",
       "270             0             0             0       0  \n",
       "39              0             1             0       1  \n",
       "277             1             0             0       0  \n",
       "\n",
       "[5 rows x 23 columns]"
      ]
     },
     "execution_count": 21,
     "metadata": {},
     "output_type": "execute_result"
    }
   ],
   "source": [
    "df = data.sample(frac=1, random_state=50)\n",
    "df.head()"
   ]
  },
  {
   "cell_type": "code",
   "execution_count": 22,
   "id": "electrical-anger",
   "metadata": {},
   "outputs": [
    {
     "name": "stdout",
     "output_type": "stream",
     "text": [
      "X_train dimensions: (182, 22)\n",
      "y_train dimensions: (182,)\n",
      "\n",
      "X_test dimensions: (60, 22)\n",
      "y_test dimensions: (60,)\n",
      "\n",
      "X_unlabeled dimensions: (61, 22)\n"
     ]
    }
   ],
   "source": [
    "# generating the split indices and partition of data\n",
    "unlabelled_data_ind = round(len(df) * 0.20)\n",
    "train_ind = unlabelled_data_ind + round(len(df) * 0.60)\n",
    "test_ind = train_ind + round(len(df) * 0.20)\n",
    "\n",
    "unlabelled = df.iloc[:unlabelled_data_ind]\n",
    "train = df.iloc[unlabelled_data_ind:train_ind]\n",
    "test = df.iloc[train_ind:]\n",
    "\n",
    "# assigning the data to train, test and unlabelled sets\n",
    "X_train = train.drop('target', axis=1)\n",
    "y_train = train['target']\n",
    "\n",
    "X_test = test.drop('target', axis=1)\n",
    "y_test = test['target']\n",
    "\n",
    "X_unlabeled = unlabelled.drop('target', axis=1)\n",
    "\n",
    "\n",
    "# Check dimensions of data after splitting\n",
    "\n",
    "print(f\"X_train dimensions: {X_train.shape}\")\n",
    "print(f\"y_train dimensions: {y_train.shape}\\n\")\n",
    "\n",
    "print(f\"X_test dimensions: {X_test.shape}\")\n",
    "print(f\"y_test dimensions: {y_test.shape}\\n\")\n",
    "\n",
    "print(f\"X_unlabeled dimensions: {X_unlabeled.shape}\")"
   ]
  },
  {
   "cell_type": "code",
   "execution_count": 23,
   "id": "advisory-wayne",
   "metadata": {},
   "outputs": [
    {
     "data": {
      "text/plain": [
       "<AxesSubplot:>"
      ]
     },
     "execution_count": 23,
     "metadata": {},
     "output_type": "execute_result"
    },
    {
     "data": {
      "image/png": "[encoded data removed]",
      "text/plain": [
       "<Figure size 432x288 with 1 Axes>"
      ]
     },
     "metadata": {
      "needs_background": "light"
     },
     "output_type": "display_data"
    }
   ],
   "source": [
    "y_train.value_counts().plot(kind='bar')"
   ]
  },
  {
   "cell_type": "code",
   "execution_count": 24,
   "id": "complimentary-malaysia",
   "metadata": {},
   "outputs": [
    {
     "name": "stdout",
     "output_type": "stream",
     "text": [
      "------------------------------------------------------------\n",
      "Test Scores : VotingClassifier(estimators=[('svm', SVC(probability=True, random_state=55)),\n",
      "                             ('rf',\n",
      "                              RandomForestClassifier(n_estimators=150, n_jobs=1,\n",
      "                                                     random_state=55)),\n",
      "                             ('knn', KNeighborsClassifier())],\n",
      "                 voting='soft', weights=[1, 1, 1])\n",
      "Accuracy:0.7666666666666667\tF1 Score:0.7941176470588236\n",
      "------------------------------------------------------------\n",
      "<sklearn.metrics._plot.confusion_matrix.ConfusionMatrixDisplay object at 0x12cfbc8b0>\n"
     ]
    },
    {
     "data": {
      "image/png": "[encoded data removed]",
      "text/plain": [
       "<Figure size 432x288 with 2 Axes>"
      ]
     },
     "metadata": {
      "needs_background": "light"
     },
     "output_type": "display_data"
    }
   ],
   "source": [
    "# initial classifier on this data\n",
    "start_time = time.time()\n",
    "\n",
    "en3_acc, en3_f1, en3_pp = model(ensemble, X_train,X_test,y_train,y_test)"
   ]
  },
  {
   "cell_type": "code",
   "execution_count": 25,
   "id": "former-series",
   "metadata": {},
   "outputs": [
    {
     "data": {
      "image/png": "[encoded data removed]",
      "text/plain": [
       "<Figure size 432x288 with 1 Axes>"
      ]
     },
     "metadata": {
      "needs_background": "light"
     },
     "output_type": "display_data"
    }
   ],
   "source": [
    "_,_ = plot_roc(y_test, en3_pp)"
   ]
  },
  {
   "cell_type": "code",
   "execution_count": 26,
   "id": "enclosed-hammer",
   "metadata": {},
   "outputs": [
    {
     "name": "stdout",
     "output_type": "stream",
     "text": [
      "Iteration 0\n",
      "Accuracy : 0.7666666666666667\tF1 Score ; 0.7941176470588236\n",
      "Now predicting labels for unlabeled data...\n",
      "11 high-probability predictions added to training data.\n",
      "50 unlabeled instances remaining.\n",
      "\n",
      "Iteration 1\n",
      "Accuracy : 0.7666666666666667\tF1 Score ; 0.7941176470588236\n",
      "Now predicting labels for unlabeled data...\n",
      "0 high-probability predictions added to training data.\n",
      "50 unlabeled instances remaining.\n",
      "\n"
     ]
    }
   ],
   "source": [
    "# Initiate iteration counter\n",
    "iterations = 0\n",
    "\n",
    "# Containers to hold f1_scores and # of pseudo-labels\n",
    "train_f1s = []\n",
    "test_f1s = []\n",
    "pseudo_labels = []\n",
    "\n",
    "# Assign value to initiate while loop\n",
    "high_prob = [1] \n",
    "\n",
    "# Loop will run until there are no more high-probability pseudo-labels\n",
    "while len(high_prob) > 0:\n",
    "        \n",
    "    # Fit classifier and make train/test predictions\n",
    "    clf = ensemble\n",
    "    clf.fit(X_train, y_train)\n",
    "    y_pred = clf.predict(X_test)\n",
    "\n",
    "    # Calculate and print iteration # and f1 scores, and store f1 scores\n",
    "    test_f1, test_acc = get_scores(y_test, y_pred)\n",
    "    print(f\"Iteration {iterations}\")\n",
    "    print(f\"Accuracy : {test_acc}\\tF1 Score ; {test_f1}\")\n",
    "    test_f1s.append(test_f1)\n",
    "   \n",
    "    # Generate predictions and probabilities for unlabeled data\n",
    "    print(f\"Now predicting labels for unlabeled data...\")\n",
    "\n",
    "    pred_probs = clf.predict_proba(X_unlabeled)\n",
    "    preds = clf.predict(X_unlabeled)\n",
    "    prob_0 = pred_probs[:,0]\n",
    "    prob_1 = pred_probs[:,1]\n",
    "\n",
    "    # Store predictions and probabilities in dataframe\n",
    "    df_pred_prob = pd.DataFrame([])\n",
    "    df_pred_prob['preds'] = preds\n",
    "    df_pred_prob['prob_0'] = prob_0\n",
    "    df_pred_prob['prob_1'] = prob_1\n",
    "    df_pred_prob.index = X_unlabeled.index\n",
    "    \n",
    "    # Separate predictions with > 95% probability\n",
    "    high_prob = pd.concat([df_pred_prob.loc[df_pred_prob['prob_0'] > 0.98],\n",
    "                           df_pred_prob.loc[df_pred_prob['prob_1'] > 0.98]],\n",
    "                          axis=0)\n",
    "    \n",
    "    print(f\"{len(high_prob)} high-probability predictions added to training data.\")\n",
    "    \n",
    "    pseudo_labels.append(len(high_prob))\n",
    "\n",
    "    # Add pseudo-labeled data to training data\n",
    "    X_train = pd.concat([X_train, X_unlabeled.loc[high_prob.index]], axis=0)\n",
    "    y_train = pd.concat([y_train, high_prob.preds])      \n",
    "    \n",
    "    # Drop pseudo-labeled instances from unlabeled data\n",
    "    X_unlabeled = X_unlabeled.drop(index=high_prob.index)\n",
    "    print(f\"{len(X_unlabeled)} unlabeled instances remaining.\\n\")\n",
    "    \n",
    "    # Update iteration counter\n",
    "    iterations += 1\n",
    "end_time = time.time()"
   ]
  },
  {
   "cell_type": "code",
   "execution_count": 27,
   "id": "agreed-adams",
   "metadata": {},
   "outputs": [
    {
     "data": {
      "text/plain": [
       "<sklearn.metrics._plot.confusion_matrix.ConfusionMatrixDisplay at 0x12d1b26d0>"
      ]
     },
     "execution_count": 27,
     "metadata": {},
     "output_type": "execute_result"
    },
    {
     "data": {
      "image/png": "[encoded data removed]",
      "text/plain": [
       "<Figure size 432x288 with 2 Axes>"
      ]
     },
     "metadata": {
      "needs_background": "light"
     },
     "output_type": "display_data"
    }
   ],
   "source": [
    "plot_confusion_matrix(clf, X_test, y_test, cmap='Blues', normalize='true')"
   ]
  },
  {
   "cell_type": "code",
   "execution_count": 28,
   "id": "sufficient-korea",
   "metadata": {},
   "outputs": [
    {
     "data": {
      "image/png": "[encoded data removed]",
      "text/plain": [
       "<Figure size 432x288 with 1 Axes>"
      ]
     },
     "metadata": {
      "needs_background": "light"
     },
     "output_type": "display_data"
    }
   ],
   "source": [
    "en3_fpr, en3_tpr = plot_roc(y_test, clf.predict_proba(X_test))"
   ]
  },
  {
   "cell_type": "code",
   "execution_count": 29,
   "id": "interested-benchmark",
   "metadata": {},
   "outputs": [
    {
     "name": "stdout",
     "output_type": "stream",
     "text": [
      "Time Elapsed, 20% Unlabelled Data : 0.8783721923828125\n"
     ]
    }
   ],
   "source": [
    "final_scores[('20% Unlabelled Data Accuracy', '20% Unlabelled Data F1 score')] = (test_acc, test_f1)\n",
    "time_elapsed[\"20% Unlabelled\"] = end_time - start_time\n",
    "print(f\"Time Elapsed, 20% Unlabelled Data : {time_elapsed['20% Unlabelled']}\")"
   ]
  },
  {
   "cell_type": "markdown",
   "id": "instructional-division",
   "metadata": {},
   "source": [
    "#### 50% Unlabelled Data"
   ]
  },
  {
   "cell_type": "code",
   "execution_count": 30,
   "id": "dirty-programming",
   "metadata": {},
   "outputs": [
    {
     "data": {
      "text/html": [
       "<div>\n",
       "<style scoped>\n",
       "    .dataframe tbody tr th:only-of-type {\n",
       "        vertical-align: middle;\n",
       "    }\n",
       "\n",
       "    .dataframe tbody tr th {\n",
       "        vertical-align: top;\n",
       "    }\n",
       "\n",
       "    .dataframe thead th {\n",
       "        text-align: right;\n",
       "    }\n",
       "</style>\n",
       "<table border=\"1\" class=\"dataframe\">\n",
       "  <thead>\n",
       "    <tr style=\"text-align: right;\">\n",
       "      <th></th>\n",
       "      <th>major_vessels_num_0</th>\n",
       "      <th>major_vessels_num_1</th>\n",
       "      <th>major_vessels_num_2</th>\n",
       "      <th>major_vessels_num_3</th>\n",
       "      <th>major_vessels_num_4</th>\n",
       "      <th>exercise_induced_angina_0</th>\n",
       "      <th>exercise_induced_angina_1</th>\n",
       "      <th>sex_0</th>\n",
       "      <th>sex_1</th>\n",
       "      <th>slope_st_0</th>\n",
       "      <th>...</th>\n",
       "      <th>thalassemia_1</th>\n",
       "      <th>thalassemia_2</th>\n",
       "      <th>thalassemia_3</th>\n",
       "      <th>maximum_heart_rate</th>\n",
       "      <th>oldpeak</th>\n",
       "      <th>chest_pain_0</th>\n",
       "      <th>chest_pain_1</th>\n",
       "      <th>chest_pain_2</th>\n",
       "      <th>chest_pain_3</th>\n",
       "      <th>target</th>\n",
       "    </tr>\n",
       "  </thead>\n",
       "  <tbody>\n",
       "    <tr>\n",
       "      <th>112</th>\n",
       "      <td>1</td>\n",
       "      <td>0</td>\n",
       "      <td>0</td>\n",
       "      <td>0</td>\n",
       "      <td>0</td>\n",
       "      <td>1</td>\n",
       "      <td>0</td>\n",
       "      <td>1</td>\n",
       "      <td>0</td>\n",
       "      <td>0</td>\n",
       "      <td>...</td>\n",
       "      <td>0</td>\n",
       "      <td>0</td>\n",
       "      <td>1</td>\n",
       "      <td>0.473282</td>\n",
       "      <td>0.032258</td>\n",
       "      <td>0</td>\n",
       "      <td>0</td>\n",
       "      <td>1</td>\n",
       "      <td>0</td>\n",
       "      <td>1</td>\n",
       "    </tr>\n",
       "    <tr>\n",
       "      <th>63</th>\n",
       "      <td>1</td>\n",
       "      <td>0</td>\n",
       "      <td>0</td>\n",
       "      <td>0</td>\n",
       "      <td>0</td>\n",
       "      <td>1</td>\n",
       "      <td>0</td>\n",
       "      <td>0</td>\n",
       "      <td>1</td>\n",
       "      <td>0</td>\n",
       "      <td>...</td>\n",
       "      <td>1</td>\n",
       "      <td>0</td>\n",
       "      <td>0</td>\n",
       "      <td>0.465649</td>\n",
       "      <td>0.000000</td>\n",
       "      <td>0</td>\n",
       "      <td>1</td>\n",
       "      <td>0</td>\n",
       "      <td>0</td>\n",
       "      <td>1</td>\n",
       "    </tr>\n",
       "    <tr>\n",
       "      <th>270</th>\n",
       "      <td>1</td>\n",
       "      <td>0</td>\n",
       "      <td>0</td>\n",
       "      <td>0</td>\n",
       "      <td>0</td>\n",
       "      <td>1</td>\n",
       "      <td>0</td>\n",
       "      <td>0</td>\n",
       "      <td>1</td>\n",
       "      <td>0</td>\n",
       "      <td>...</td>\n",
       "      <td>0</td>\n",
       "      <td>0</td>\n",
       "      <td>1</td>\n",
       "      <td>0.557252</td>\n",
       "      <td>0.129032</td>\n",
       "      <td>1</td>\n",
       "      <td>0</td>\n",
       "      <td>0</td>\n",
       "      <td>0</td>\n",
       "      <td>0</td>\n",
       "    </tr>\n",
       "    <tr>\n",
       "      <th>39</th>\n",
       "      <td>1</td>\n",
       "      <td>0</td>\n",
       "      <td>0</td>\n",
       "      <td>0</td>\n",
       "      <td>0</td>\n",
       "      <td>1</td>\n",
       "      <td>0</td>\n",
       "      <td>1</td>\n",
       "      <td>0</td>\n",
       "      <td>0</td>\n",
       "      <td>...</td>\n",
       "      <td>0</td>\n",
       "      <td>1</td>\n",
       "      <td>0</td>\n",
       "      <td>0.610687</td>\n",
       "      <td>0.129032</td>\n",
       "      <td>0</td>\n",
       "      <td>0</td>\n",
       "      <td>1</td>\n",
       "      <td>0</td>\n",
       "      <td>1</td>\n",
       "    </tr>\n",
       "    <tr>\n",
       "      <th>277</th>\n",
       "      <td>1</td>\n",
       "      <td>0</td>\n",
       "      <td>0</td>\n",
       "      <td>0</td>\n",
       "      <td>0</td>\n",
       "      <td>1</td>\n",
       "      <td>0</td>\n",
       "      <td>0</td>\n",
       "      <td>1</td>\n",
       "      <td>0</td>\n",
       "      <td>...</td>\n",
       "      <td>0</td>\n",
       "      <td>0</td>\n",
       "      <td>1</td>\n",
       "      <td>0.534351</td>\n",
       "      <td>0.048387</td>\n",
       "      <td>0</td>\n",
       "      <td>1</td>\n",
       "      <td>0</td>\n",
       "      <td>0</td>\n",
       "      <td>0</td>\n",
       "    </tr>\n",
       "  </tbody>\n",
       "</table>\n",
       "<p>5 rows × 23 columns</p>\n",
       "</div>"
      ],
      "text/plain": [
       "     major_vessels_num_0  major_vessels_num_1  major_vessels_num_2  \\\n",
       "112                    1                    0                    0   \n",
       "63                     1                    0                    0   \n",
       "270                    1                    0                    0   \n",
       "39                     1                    0                    0   \n",
       "277                    1                    0                    0   \n",
       "\n",
       "     major_vessels_num_3  major_vessels_num_4  exercise_induced_angina_0  \\\n",
       "112                    0                    0                          1   \n",
       "63                     0                    0                          1   \n",
       "270                    0                    0                          1   \n",
       "39                     0                    0                          1   \n",
       "277                    0                    0                          1   \n",
       "\n",
       "     exercise_induced_angina_1  sex_0  sex_1  slope_st_0  ...  thalassemia_1  \\\n",
       "112                          0      1      0           0  ...              0   \n",
       "63                           0      0      1           0  ...              1   \n",
       "270                          0      0      1           0  ...              0   \n",
       "39                           0      1      0           0  ...              0   \n",
       "277                          0      0      1           0  ...              0   \n",
       "\n",
       "     thalassemia_2  thalassemia_3  maximum_heart_rate   oldpeak  chest_pain_0  \\\n",
       "112              0              1            0.473282  0.032258             0   \n",
       "63               0              0            0.465649  0.000000             0   \n",
       "270              0              1            0.557252  0.129032             1   \n",
       "39               1              0            0.610687  0.129032             0   \n",
       "277              0              1            0.534351  0.048387             0   \n",
       "\n",
       "     chest_pain_1  chest_pain_2  chest_pain_3  target  \n",
       "112             0             1             0       1  \n",
       "63              1             0             0       1  \n",
       "270             0             0             0       0  \n",
       "39              0             1             0       1  \n",
       "277             1             0             0       0  \n",
       "\n",
       "[5 rows x 23 columns]"
      ]
     },
     "execution_count": 30,
     "metadata": {},
     "output_type": "execute_result"
    }
   ],
   "source": [
    "df = data.sample(frac=1, random_state=50)\n",
    "df.head()"
   ]
  },
  {
   "cell_type": "code",
   "execution_count": 31,
   "id": "married-committee",
   "metadata": {},
   "outputs": [
    {
     "name": "stdout",
     "output_type": "stream",
     "text": [
      "X_train dimensions: (106, 22)\n",
      "y_train dimensions: (106,)\n",
      "\n",
      "X_test dimensions: (45, 22)\n",
      "y_test dimensions: (45,)\n",
      "\n",
      "X_unlabeled dimensions: (152, 22)\n"
     ]
    }
   ],
   "source": [
    "# generating the split indices and partition of data\n",
    "unlabelled_data_ind = round(len(df) * 0.50)\n",
    "train_ind = unlabelled_data_ind + round(len(df) * 0.35)\n",
    "test_ind = train_ind + round(len(df) * 0.15)\n",
    "\n",
    "unlabelled = df.iloc[:unlabelled_data_ind]\n",
    "train = df.iloc[unlabelled_data_ind:train_ind]\n",
    "test = df.iloc[train_ind:]\n",
    "\n",
    "# assigning the data to train, test and unlabelled sets\n",
    "X_train = train.drop('target', axis=1)\n",
    "y_train = train['target']\n",
    "\n",
    "X_test = test.drop('target', axis=1)\n",
    "y_test = test['target']\n",
    "\n",
    "X_unlabeled = unlabelled.drop('target', axis=1)\n",
    "\n",
    "\n",
    "# Check dimensions of data after splitting\n",
    "\n",
    "print(f\"X_train dimensions: {X_train.shape}\")\n",
    "print(f\"y_train dimensions: {y_train.shape}\\n\")\n",
    "\n",
    "print(f\"X_test dimensions: {X_test.shape}\")\n",
    "print(f\"y_test dimensions: {y_test.shape}\\n\")\n",
    "\n",
    "print(f\"X_unlabeled dimensions: {X_unlabeled.shape}\")"
   ]
  },
  {
   "cell_type": "code",
   "execution_count": 32,
   "id": "invisible-friday",
   "metadata": {},
   "outputs": [
    {
     "data": {
      "text/plain": [
       "<AxesSubplot:>"
      ]
     },
     "execution_count": 32,
     "metadata": {},
     "output_type": "execute_result"
    },
    {
     "data": {
      "image/png": "[encoded data removed]",
      "text/plain": [
       "<Figure size 432x288 with 1 Axes>"
      ]
     },
     "metadata": {
      "needs_background": "light"
     },
     "output_type": "display_data"
    }
   ],
   "source": [
    "y_train.value_counts().plot(kind='bar')"
   ]
  },
  {
   "cell_type": "code",
   "execution_count": 33,
   "id": "joined-lancaster",
   "metadata": {},
   "outputs": [
    {
     "name": "stdout",
     "output_type": "stream",
     "text": [
      "------------------------------------------------------------\n",
      "Test Scores : VotingClassifier(estimators=[('svm', SVC(probability=True, random_state=55)),\n",
      "                             ('rf',\n",
      "                              RandomForestClassifier(n_estimators=150, n_jobs=1,\n",
      "                                                     random_state=55)),\n",
      "                             ('knn', KNeighborsClassifier())],\n",
      "                 voting='soft', weights=[1, 1, 1])\n",
      "Accuracy:0.7111111111111111\tF1 Score:0.7636363636363638\n",
      "------------------------------------------------------------\n",
      "<sklearn.metrics._plot.confusion_matrix.ConfusionMatrixDisplay object at 0x12d3558e0>\n"
     ]
    },
    {
     "data": {
      "image/png": "[encoded data removed]",
      "text/plain": [
       "<Figure size 432x288 with 2 Axes>"
      ]
     },
     "metadata": {
      "needs_background": "light"
     },
     "output_type": "display_data"
    }
   ],
   "source": [
    "# initial classifier on this data\n",
    "start_time = time.time()\n",
    "\n",
    "en4_acc, en4_f1, en4_pp = model(ensemble, X_train,X_test,y_train,y_test)"
   ]
  },
  {
   "cell_type": "code",
   "execution_count": 34,
   "id": "honest-wednesday",
   "metadata": {},
   "outputs": [
    {
     "data": {
      "image/png": "[encoded data removed]",
      "text/plain": [
       "<Figure size 432x288 with 1 Axes>"
      ]
     },
     "metadata": {
      "needs_background": "light"
     },
     "output_type": "display_data"
    }
   ],
   "source": [
    "_, _ = plot_roc(y_test, en4_pp)"
   ]
  },
  {
   "cell_type": "code",
   "execution_count": 35,
   "id": "awful-africa",
   "metadata": {},
   "outputs": [
    {
     "name": "stdout",
     "output_type": "stream",
     "text": [
      "Iteration 0\n",
      "Accuracy : 0.7111111111111111\tF1 Score ; 0.7636363636363638\n",
      "Now predicting labels for unlabeled data...\n",
      "17 high-probability predictions added to training data.\n",
      "135 unlabeled instances remaining.\n",
      "\n",
      "Iteration 1\n",
      "Accuracy : 0.7111111111111111\tF1 Score ; 0.7636363636363638\n",
      "Now predicting labels for unlabeled data...\n",
      "9 high-probability predictions added to training data.\n",
      "126 unlabeled instances remaining.\n",
      "\n",
      "Iteration 2\n",
      "Accuracy : 0.7333333333333333\tF1 Score ; 0.7857142857142857\n",
      "Now predicting labels for unlabeled data...\n",
      "7 high-probability predictions added to training data.\n",
      "119 unlabeled instances remaining.\n",
      "\n",
      "Iteration 3\n",
      "Accuracy : 0.7333333333333333\tF1 Score ; 0.7857142857142857\n",
      "Now predicting labels for unlabeled data...\n",
      "2 high-probability predictions added to training data.\n",
      "117 unlabeled instances remaining.\n",
      "\n",
      "Iteration 4\n",
      "Accuracy : 0.7333333333333333\tF1 Score ; 0.7857142857142857\n",
      "Now predicting labels for unlabeled data...\n",
      "1 high-probability predictions added to training data.\n",
      "116 unlabeled instances remaining.\n",
      "\n",
      "Iteration 5\n",
      "Accuracy : 0.7111111111111111\tF1 Score ; 0.7636363636363638\n",
      "Now predicting labels for unlabeled data...\n",
      "1 high-probability predictions added to training data.\n",
      "115 unlabeled instances remaining.\n",
      "\n",
      "Iteration 6\n",
      "Accuracy : 0.7111111111111111\tF1 Score ; 0.7636363636363638\n",
      "Now predicting labels for unlabeled data...\n",
      "0 high-probability predictions added to training data.\n",
      "115 unlabeled instances remaining.\n",
      "\n"
     ]
    }
   ],
   "source": [
    "# Initiate iteration counter\n",
    "iterations = 0\n",
    "\n",
    "# Containers to hold f1_scores and # of pseudo-labels\n",
    "train_f1s = []\n",
    "test_f1s = []\n",
    "pseudo_labels = []\n",
    "\n",
    "# Assign value to initiate while loop\n",
    "high_prob = [1] \n",
    "\n",
    "# Loop will run until there are no more high-probability pseudo-labels\n",
    "while len(high_prob) > 0:\n",
    "        \n",
    "    # Fit classifier and make train/test predictions\n",
    "    clf = ensemble\n",
    "    clf.fit(X_train, y_train)\n",
    "    y_pred = clf.predict(X_test)\n",
    "\n",
    "    # Calculate and print iteration # and f1 scores, and store f1 scores\n",
    "    test_f1, test_acc = get_scores(y_test, y_pred)\n",
    "    print(f\"Iteration {iterations}\")\n",
    "    print(f\"Accuracy : {test_acc}\\tF1 Score ; {test_f1}\")\n",
    "    test_f1s.append(test_f1)\n",
    "   \n",
    "    # Generate predictions and probabilities for unlabeled data\n",
    "    print(f\"Now predicting labels for unlabeled data...\")\n",
    "\n",
    "    pred_probs = clf.predict_proba(X_unlabeled)\n",
    "    preds = clf.predict(X_unlabeled)\n",
    "    prob_0 = pred_probs[:,0]\n",
    "    prob_1 = pred_probs[:,1]\n",
    "\n",
    "    # Store predictions and probabilities in dataframe\n",
    "    df_pred_prob = pd.DataFrame([])\n",
    "    df_pred_prob['preds'] = preds\n",
    "    df_pred_prob['prob_0'] = prob_0\n",
    "    df_pred_prob['prob_1'] = prob_1\n",
    "    df_pred_prob.index = X_unlabeled.index\n",
    "    \n",
    "    # Separate predictions with > 95% probability\n",
    "    high_prob = pd.concat([df_pred_prob.loc[df_pred_prob['prob_0'] > 0.98],\n",
    "                           df_pred_prob.loc[df_pred_prob['prob_1'] > 0.98]],\n",
    "                          axis=0)\n",
    "    \n",
    "    print(f\"{len(high_prob)} high-probability predictions added to training data.\")\n",
    "    \n",
    "    pseudo_labels.append(len(high_prob))\n",
    "\n",
    "    # Add pseudo-labeled data to training data\n",
    "    X_train = pd.concat([X_train, X_unlabeled.loc[high_prob.index]], axis=0)\n",
    "    y_train = pd.concat([y_train, high_prob.preds])      \n",
    "    \n",
    "    # Drop pseudo-labeled instances from unlabeled data\n",
    "    X_unlabeled = X_unlabeled.drop(index=high_prob.index)\n",
    "    print(f\"{len(X_unlabeled)} unlabeled instances remaining.\\n\")\n",
    "    \n",
    "    # Update iteration counter\n",
    "    iterations += 1\n",
    "end_time = time.time()"
   ]
  },
  {
   "cell_type": "code",
   "execution_count": 36,
   "id": "collaborative-racing",
   "metadata": {},
   "outputs": [
    {
     "data": {
      "text/plain": [
       "<sklearn.metrics._plot.confusion_matrix.ConfusionMatrixDisplay at 0x12d16c430>"
      ]
     },
     "execution_count": 36,
     "metadata": {},
     "output_type": "execute_result"
    },
    {
     "data": {
      "image/png": "[encoded data removed]",
      "text/plain": [
       "<Figure size 432x288 with 2 Axes>"
      ]
     },
     "metadata": {
      "needs_background": "light"
     },
     "output_type": "display_data"
    }
   ],
   "source": [
    "plot_confusion_matrix(clf, X_test, y_test, cmap='Blues', normalize='true')"
   ]
  },
  {
   "cell_type": "code",
   "execution_count": 37,
   "id": "piano-portsmouth",
   "metadata": {},
   "outputs": [
    {
     "data": {
      "image/png": "[encoded data removed]",
      "text/plain": [
       "<Figure size 432x288 with 1 Axes>"
      ]
     },
     "metadata": {
      "needs_background": "light"
     },
     "output_type": "display_data"
    }
   ],
   "source": [
    "en4_fpr, en4_tpr = plot_roc(y_test, clf.predict_proba(X_test))"
   ]
  },
  {
   "cell_type": "code",
   "execution_count": 38,
   "id": "worthy-oklahoma",
   "metadata": {},
   "outputs": [
    {
     "name": "stdout",
     "output_type": "stream",
     "text": [
      "Time Elapsed, 50% Unlabelled Data : 1.938384771347046\n"
     ]
    }
   ],
   "source": [
    "final_scores[('50% Unlabelled Data Accuracy', '50% Unlabelled Data F1 score')] = (test_acc, test_f1)\n",
    "time_elapsed[\"50% Unlabelled\"] = end_time - start_time\n",
    "print(f\"Time Elapsed, 50% Unlabelled Data : {time_elapsed['50% Unlabelled']}\")"
   ]
  },
  {
   "cell_type": "markdown",
   "id": "american-procurement",
   "metadata": {},
   "source": [
    "For the instance when the amount of unlabelled data was 50% the model was able to had the same accuracy score of 75% even after self training, it was also able to add 84 instances of data to the training set"
   ]
  },
  {
   "cell_type": "markdown",
   "id": "rough-lithuania",
   "metadata": {},
   "source": [
    "#### 90% unlabelled data"
   ]
  },
  {
   "cell_type": "code",
   "execution_count": 39,
   "id": "concerned-rugby",
   "metadata": {},
   "outputs": [
    {
     "data": {
      "text/html": [
       "<div>\n",
       "<style scoped>\n",
       "    .dataframe tbody tr th:only-of-type {\n",
       "        vertical-align: middle;\n",
       "    }\n",
       "\n",
       "    .dataframe tbody tr th {\n",
       "        vertical-align: top;\n",
       "    }\n",
       "\n",
       "    .dataframe thead th {\n",
       "        text-align: right;\n",
       "    }\n",
       "</style>\n",
       "<table border=\"1\" class=\"dataframe\">\n",
       "  <thead>\n",
       "    <tr style=\"text-align: right;\">\n",
       "      <th></th>\n",
       "      <th>major_vessels_num_0</th>\n",
       "      <th>major_vessels_num_1</th>\n",
       "      <th>major_vessels_num_2</th>\n",
       "      <th>major_vessels_num_3</th>\n",
       "      <th>major_vessels_num_4</th>\n",
       "      <th>exercise_induced_angina_0</th>\n",
       "      <th>exercise_induced_angina_1</th>\n",
       "      <th>sex_0</th>\n",
       "      <th>sex_1</th>\n",
       "      <th>slope_st_0</th>\n",
       "      <th>...</th>\n",
       "      <th>thalassemia_1</th>\n",
       "      <th>thalassemia_2</th>\n",
       "      <th>thalassemia_3</th>\n",
       "      <th>maximum_heart_rate</th>\n",
       "      <th>oldpeak</th>\n",
       "      <th>chest_pain_0</th>\n",
       "      <th>chest_pain_1</th>\n",
       "      <th>chest_pain_2</th>\n",
       "      <th>chest_pain_3</th>\n",
       "      <th>target</th>\n",
       "    </tr>\n",
       "  </thead>\n",
       "  <tbody>\n",
       "    <tr>\n",
       "      <th>112</th>\n",
       "      <td>1</td>\n",
       "      <td>0</td>\n",
       "      <td>0</td>\n",
       "      <td>0</td>\n",
       "      <td>0</td>\n",
       "      <td>1</td>\n",
       "      <td>0</td>\n",
       "      <td>1</td>\n",
       "      <td>0</td>\n",
       "      <td>0</td>\n",
       "      <td>...</td>\n",
       "      <td>0</td>\n",
       "      <td>0</td>\n",
       "      <td>1</td>\n",
       "      <td>0.473282</td>\n",
       "      <td>0.032258</td>\n",
       "      <td>0</td>\n",
       "      <td>0</td>\n",
       "      <td>1</td>\n",
       "      <td>0</td>\n",
       "      <td>1</td>\n",
       "    </tr>\n",
       "    <tr>\n",
       "      <th>63</th>\n",
       "      <td>1</td>\n",
       "      <td>0</td>\n",
       "      <td>0</td>\n",
       "      <td>0</td>\n",
       "      <td>0</td>\n",
       "      <td>1</td>\n",
       "      <td>0</td>\n",
       "      <td>0</td>\n",
       "      <td>1</td>\n",
       "      <td>0</td>\n",
       "      <td>...</td>\n",
       "      <td>1</td>\n",
       "      <td>0</td>\n",
       "      <td>0</td>\n",
       "      <td>0.465649</td>\n",
       "      <td>0.000000</td>\n",
       "      <td>0</td>\n",
       "      <td>1</td>\n",
       "      <td>0</td>\n",
       "      <td>0</td>\n",
       "      <td>1</td>\n",
       "    </tr>\n",
       "    <tr>\n",
       "      <th>270</th>\n",
       "      <td>1</td>\n",
       "      <td>0</td>\n",
       "      <td>0</td>\n",
       "      <td>0</td>\n",
       "      <td>0</td>\n",
       "      <td>1</td>\n",
       "      <td>0</td>\n",
       "      <td>0</td>\n",
       "      <td>1</td>\n",
       "      <td>0</td>\n",
       "      <td>...</td>\n",
       "      <td>0</td>\n",
       "      <td>0</td>\n",
       "      <td>1</td>\n",
       "      <td>0.557252</td>\n",
       "      <td>0.129032</td>\n",
       "      <td>1</td>\n",
       "      <td>0</td>\n",
       "      <td>0</td>\n",
       "      <td>0</td>\n",
       "      <td>0</td>\n",
       "    </tr>\n",
       "    <tr>\n",
       "      <th>39</th>\n",
       "      <td>1</td>\n",
       "      <td>0</td>\n",
       "      <td>0</td>\n",
       "      <td>0</td>\n",
       "      <td>0</td>\n",
       "      <td>1</td>\n",
       "      <td>0</td>\n",
       "      <td>1</td>\n",
       "      <td>0</td>\n",
       "      <td>0</td>\n",
       "      <td>...</td>\n",
       "      <td>0</td>\n",
       "      <td>1</td>\n",
       "      <td>0</td>\n",
       "      <td>0.610687</td>\n",
       "      <td>0.129032</td>\n",
       "      <td>0</td>\n",
       "      <td>0</td>\n",
       "      <td>1</td>\n",
       "      <td>0</td>\n",
       "      <td>1</td>\n",
       "    </tr>\n",
       "    <tr>\n",
       "      <th>277</th>\n",
       "      <td>1</td>\n",
       "      <td>0</td>\n",
       "      <td>0</td>\n",
       "      <td>0</td>\n",
       "      <td>0</td>\n",
       "      <td>1</td>\n",
       "      <td>0</td>\n",
       "      <td>0</td>\n",
       "      <td>1</td>\n",
       "      <td>0</td>\n",
       "      <td>...</td>\n",
       "      <td>0</td>\n",
       "      <td>0</td>\n",
       "      <td>1</td>\n",
       "      <td>0.534351</td>\n",
       "      <td>0.048387</td>\n",
       "      <td>0</td>\n",
       "      <td>1</td>\n",
       "      <td>0</td>\n",
       "      <td>0</td>\n",
       "      <td>0</td>\n",
       "    </tr>\n",
       "  </tbody>\n",
       "</table>\n",
       "<p>5 rows × 23 columns</p>\n",
       "</div>"
      ],
      "text/plain": [
       "     major_vessels_num_0  major_vessels_num_1  major_vessels_num_2  \\\n",
       "112                    1                    0                    0   \n",
       "63                     1                    0                    0   \n",
       "270                    1                    0                    0   \n",
       "39                     1                    0                    0   \n",
       "277                    1                    0                    0   \n",
       "\n",
       "     major_vessels_num_3  major_vessels_num_4  exercise_induced_angina_0  \\\n",
       "112                    0                    0                          1   \n",
       "63                     0                    0                          1   \n",
       "270                    0                    0                          1   \n",
       "39                     0                    0                          1   \n",
       "277                    0                    0                          1   \n",
       "\n",
       "     exercise_induced_angina_1  sex_0  sex_1  slope_st_0  ...  thalassemia_1  \\\n",
       "112                          0      1      0           0  ...              0   \n",
       "63                           0      0      1           0  ...              1   \n",
       "270                          0      0      1           0  ...              0   \n",
       "39                           0      1      0           0  ...              0   \n",
       "277                          0      0      1           0  ...              0   \n",
       "\n",
       "     thalassemia_2  thalassemia_3  maximum_heart_rate   oldpeak  chest_pain_0  \\\n",
       "112              0              1            0.473282  0.032258             0   \n",
       "63               0              0            0.465649  0.000000             0   \n",
       "270              0              1            0.557252  0.129032             1   \n",
       "39               1              0            0.610687  0.129032             0   \n",
       "277              0              1            0.534351  0.048387             0   \n",
       "\n",
       "     chest_pain_1  chest_pain_2  chest_pain_3  target  \n",
       "112             0             1             0       1  \n",
       "63              1             0             0       1  \n",
       "270             0             0             0       0  \n",
       "39              0             1             0       1  \n",
       "277             1             0             0       0  \n",
       "\n",
       "[5 rows x 23 columns]"
      ]
     },
     "execution_count": 39,
     "metadata": {},
     "output_type": "execute_result"
    }
   ],
   "source": [
    "df = data.sample(frac=1, random_state=50)\n",
    "df.head()"
   ]
  },
  {
   "cell_type": "code",
   "execution_count": 40,
   "id": "occasional-myrtle",
   "metadata": {},
   "outputs": [
    {
     "name": "stdout",
     "output_type": "stream",
     "text": [
      "X_train dimensions: (21, 22)\n",
      "y_train dimensions: (21,)\n",
      "\n",
      "X_test dimensions: (9, 22)\n",
      "y_test dimensions: (9,)\n",
      "\n",
      "X_unlabeled dimensions: (273, 22)\n"
     ]
    }
   ],
   "source": [
    "# generating the split indices and partition of data\n",
    "unlabelled_data_ind = round(len(df) * 0.90)\n",
    "train_ind = unlabelled_data_ind + round(len(df) * 0.07)\n",
    "test_ind = train_ind + round(len(df) * 0.03)\n",
    "\n",
    "unlabelled = df.iloc[:unlabelled_data_ind]\n",
    "train = df.iloc[unlabelled_data_ind:train_ind]\n",
    "test = df.iloc[train_ind:]\n",
    "\n",
    "# assigning the data to train, test and unlabelled sets\n",
    "X_train = train.drop('target', axis=1)\n",
    "y_train = train['target']\n",
    "\n",
    "X_test = test.drop('target', axis=1)\n",
    "y_test = test['target']\n",
    "\n",
    "X_unlabeled = unlabelled.drop('target', axis=1)\n",
    "\n",
    "\n",
    "# Check dimensions of data after splitting\n",
    "\n",
    "print(f\"X_train dimensions: {X_train.shape}\")\n",
    "print(f\"y_train dimensions: {y_train.shape}\\n\")\n",
    "\n",
    "print(f\"X_test dimensions: {X_test.shape}\")\n",
    "print(f\"y_test dimensions: {y_test.shape}\\n\")\n",
    "\n",
    "print(f\"X_unlabeled dimensions: {X_unlabeled.shape}\")"
   ]
  },
  {
   "cell_type": "code",
   "execution_count": 41,
   "id": "simple-chicago",
   "metadata": {},
   "outputs": [
    {
     "data": {
      "text/plain": [
       "<AxesSubplot:>"
      ]
     },
     "execution_count": 41,
     "metadata": {},
     "output_type": "execute_result"
    },
    {
     "data": {
      "image/png": "[encoded data removed]",
      "text/plain": [
       "<Figure size 432x288 with 1 Axes>"
      ]
     },
     "metadata": {
      "needs_background": "light"
     },
     "output_type": "display_data"
    }
   ],
   "source": [
    "y_train.value_counts().plot(kind='bar')"
   ]
  },
  {
   "cell_type": "code",
   "execution_count": 42,
   "id": "accurate-title",
   "metadata": {},
   "outputs": [
    {
     "name": "stdout",
     "output_type": "stream",
     "text": [
      "------------------------------------------------------------\n",
      "Test Scores : VotingClassifier(estimators=[('svm', SVC(probability=True, random_state=55)),\n",
      "                             ('rf',\n",
      "                              RandomForestClassifier(n_estimators=150, n_jobs=1,\n",
      "                                                     random_state=55)),\n",
      "                             ('knn', KNeighborsClassifier())],\n",
      "                 voting='soft', weights=[1, 1, 1])\n",
      "Accuracy:0.5555555555555556\tF1 Score:0.6\n",
      "------------------------------------------------------------\n",
      "<sklearn.metrics._plot.confusion_matrix.ConfusionMatrixDisplay object at 0x12d08e7c0>\n"
     ]
    },
    {
     "data": {
      "image/png": "[encoded data removed]",
      "text/plain": [
       "<Figure size 432x288 with 2 Axes>"
      ]
     },
     "metadata": {
      "needs_background": "light"
     },
     "output_type": "display_data"
    }
   ],
   "source": [
    "# initial classifier on this data\n",
    "start_time = time.time()\n",
    "\n",
    "en5_acc, en5_f1, en5_pp = model(ensemble, X_train,X_test,y_train,y_test)"
   ]
  },
  {
   "cell_type": "code",
   "execution_count": 43,
   "id": "necessary-swimming",
   "metadata": {},
   "outputs": [
    {
     "data": {
      "image/png": "[encoded data removed]",
      "text/plain": [
       "<Figure size 432x288 with 1 Axes>"
      ]
     },
     "metadata": {
      "needs_background": "light"
     },
     "output_type": "display_data"
    }
   ],
   "source": [
    "_,_ = plot_roc(y_test, en5_pp)"
   ]
  },
  {
   "cell_type": "code",
   "execution_count": 44,
   "id": "logical-treasury",
   "metadata": {},
   "outputs": [
    {
     "name": "stdout",
     "output_type": "stream",
     "text": [
      "Iteration 0\n",
      "Accuracy : 0.5555555555555556\tF1 Score ; 0.6\n",
      "Now predicting labels for unlabeled data...\n",
      "45 high-probability predictions added to training data.\n",
      "228 unlabeled instances remaining.\n",
      "\n",
      "Iteration 1\n",
      "Accuracy : 0.6666666666666666\tF1 Score ; 0.6666666666666666\n",
      "Now predicting labels for unlabeled data...\n",
      "24 high-probability predictions added to training data.\n",
      "204 unlabeled instances remaining.\n",
      "\n",
      "Iteration 2\n",
      "Accuracy : 0.6666666666666666\tF1 Score ; 0.6666666666666666\n",
      "Now predicting labels for unlabeled data...\n",
      "7 high-probability predictions added to training data.\n",
      "197 unlabeled instances remaining.\n",
      "\n",
      "Iteration 3\n",
      "Accuracy : 0.6666666666666666\tF1 Score ; 0.6666666666666666\n",
      "Now predicting labels for unlabeled data...\n",
      "3 high-probability predictions added to training data.\n",
      "194 unlabeled instances remaining.\n",
      "\n",
      "Iteration 4\n",
      "Accuracy : 0.6666666666666666\tF1 Score ; 0.6666666666666666\n",
      "Now predicting labels for unlabeled data...\n",
      "0 high-probability predictions added to training data.\n",
      "194 unlabeled instances remaining.\n",
      "\n"
     ]
    }
   ],
   "source": [
    "# Initiate iteration counter\n",
    "iterations = 0\n",
    "\n",
    "# Containers to hold f1_scores and # of pseudo-labels\n",
    "train_f1s = []\n",
    "test_f1s = []\n",
    "pseudo_labels = []\n",
    "\n",
    "# Assign value to initiate while loop\n",
    "high_prob = [1] \n",
    "\n",
    "# Loop will run until there are no more high-probability pseudo-labels\n",
    "while len(high_prob) > 0:\n",
    "        \n",
    "    # Fit classifier and make train/test predictions\n",
    "    clf = ensemble\n",
    "    clf.fit(X_train, y_train)\n",
    "    y_pred = clf.predict(X_test)\n",
    "\n",
    "    # Calculate and print iteration # and f1 scores, and store f1 scores\n",
    "    test_f1, test_acc = get_scores(y_test, y_pred)\n",
    "    print(f\"Iteration {iterations}\")\n",
    "    print(f\"Accuracy : {test_acc}\\tF1 Score ; {test_f1}\")\n",
    "    test_f1s.append(test_f1)\n",
    "   \n",
    "    # Generate predictions and probabilities for unlabeled data\n",
    "    print(f\"Now predicting labels for unlabeled data...\")\n",
    "\n",
    "    pred_probs = clf.predict_proba(X_unlabeled)\n",
    "    preds = clf.predict(X_unlabeled)\n",
    "    prob_0 = pred_probs[:,0]\n",
    "    prob_1 = pred_probs[:,1]\n",
    "\n",
    "    # Store predictions and probabilities in dataframe\n",
    "    df_pred_prob = pd.DataFrame([])\n",
    "    df_pred_prob['preds'] = preds\n",
    "    df_pred_prob['prob_0'] = prob_0\n",
    "    df_pred_prob['prob_1'] = prob_1\n",
    "    df_pred_prob.index = X_unlabeled.index\n",
    "    \n",
    "    # Separate predictions with > 95% probability\n",
    "    high_prob = pd.concat([df_pred_prob.loc[df_pred_prob['prob_0'] > 0.98],\n",
    "                           df_pred_prob.loc[df_pred_prob['prob_1'] > 0.98]],\n",
    "                          axis=0)\n",
    "    \n",
    "    print(f\"{len(high_prob)} high-probability predictions added to training data.\")\n",
    "    \n",
    "    pseudo_labels.append(len(high_prob))\n",
    "\n",
    "    # Add pseudo-labeled data to training data\n",
    "    X_train = pd.concat([X_train, X_unlabeled.loc[high_prob.index]], axis=0)\n",
    "    y_train = pd.concat([y_train, high_prob.preds])      \n",
    "    \n",
    "    # Drop pseudo-labeled instances from unlabeled data\n",
    "    X_unlabeled = X_unlabeled.drop(index=high_prob.index)\n",
    "    print(f\"{len(X_unlabeled)} unlabeled instances remaining.\\n\")\n",
    "    \n",
    "    # Update iteration counter\n",
    "    iterations += 1\n",
    "end_time = time.time()    "
   ]
  },
  {
   "cell_type": "code",
   "execution_count": 45,
   "id": "valid-packaging",
   "metadata": {},
   "outputs": [
    {
     "data": {
      "text/plain": [
       "<sklearn.metrics._plot.confusion_matrix.ConfusionMatrixDisplay at 0x12cf1d160>"
      ]
     },
     "execution_count": 45,
     "metadata": {},
     "output_type": "execute_result"
    },
    {
     "data": {
      "image/png": "[encoded data removed]",
      "text/plain": [
       "<Figure size 432x288 with 2 Axes>"
      ]
     },
     "metadata": {
      "needs_background": "light"
     },
     "output_type": "display_data"
    }
   ],
   "source": [
    "plot_confusion_matrix(clf, X_test, y_test, cmap='Blues', normalize='true')"
   ]
  },
  {
   "cell_type": "code",
   "execution_count": 46,
   "id": "alone-hydrogen",
   "metadata": {},
   "outputs": [
    {
     "data": {
      "image/png": "[encoded data removed]",
      "text/plain": [
       "<Figure size 432x288 with 1 Axes>"
      ]
     },
     "metadata": {
      "needs_background": "light"
     },
     "output_type": "display_data"
    }
   ],
   "source": [
    "en5_fpr, en5_tpr = plot_roc(y_test, clf.predict_proba(X_test))"
   ]
  },
  {
   "cell_type": "code",
   "execution_count": 47,
   "id": "buried-taste",
   "metadata": {},
   "outputs": [
    {
     "name": "stdout",
     "output_type": "stream",
     "text": [
      "Time Elapsed, 90% Unlabelled Dataset : 1.804123878479004\n"
     ]
    }
   ],
   "source": [
    "final_scores[('90% Unlabelled Data Accuracy', '90% Unlabelled Data F1 score')] = (test_acc, test_f1)\n",
    "time_elapsed[\"90% Unlabelled\"] = end_time - start_time\n",
    "print(f\"Time Elapsed, 90% Unlabelled Dataset : {time_elapsed['90% Unlabelled']}\")"
   ]
  },
  {
   "cell_type": "markdown",
   "id": "laden-independence",
   "metadata": {},
   "source": [
    "#### 95% unlabelled data"
   ]
  },
  {
   "cell_type": "code",
   "execution_count": 48,
   "id": "intimate-reality",
   "metadata": {},
   "outputs": [
    {
     "data": {
      "text/html": [
       "<div>\n",
       "<style scoped>\n",
       "    .dataframe tbody tr th:only-of-type {\n",
       "        vertical-align: middle;\n",
       "    }\n",
       "\n",
       "    .dataframe tbody tr th {\n",
       "        vertical-align: top;\n",
       "    }\n",
       "\n",
       "    .dataframe thead th {\n",
       "        text-align: right;\n",
       "    }\n",
       "</style>\n",
       "<table border=\"1\" class=\"dataframe\">\n",
       "  <thead>\n",
       "    <tr style=\"text-align: right;\">\n",
       "      <th></th>\n",
       "      <th>major_vessels_num_0</th>\n",
       "      <th>major_vessels_num_1</th>\n",
       "      <th>major_vessels_num_2</th>\n",
       "      <th>major_vessels_num_3</th>\n",
       "      <th>major_vessels_num_4</th>\n",
       "      <th>exercise_induced_angina_0</th>\n",
       "      <th>exercise_induced_angina_1</th>\n",
       "      <th>sex_0</th>\n",
       "      <th>sex_1</th>\n",
       "      <th>slope_st_0</th>\n",
       "      <th>...</th>\n",
       "      <th>thalassemia_1</th>\n",
       "      <th>thalassemia_2</th>\n",
       "      <th>thalassemia_3</th>\n",
       "      <th>maximum_heart_rate</th>\n",
       "      <th>oldpeak</th>\n",
       "      <th>chest_pain_0</th>\n",
       "      <th>chest_pain_1</th>\n",
       "      <th>chest_pain_2</th>\n",
       "      <th>chest_pain_3</th>\n",
       "      <th>target</th>\n",
       "    </tr>\n",
       "  </thead>\n",
       "  <tbody>\n",
       "    <tr>\n",
       "      <th>112</th>\n",
       "      <td>1</td>\n",
       "      <td>0</td>\n",
       "      <td>0</td>\n",
       "      <td>0</td>\n",
       "      <td>0</td>\n",
       "      <td>1</td>\n",
       "      <td>0</td>\n",
       "      <td>1</td>\n",
       "      <td>0</td>\n",
       "      <td>0</td>\n",
       "      <td>...</td>\n",
       "      <td>0</td>\n",
       "      <td>0</td>\n",
       "      <td>1</td>\n",
       "      <td>0.473282</td>\n",
       "      <td>0.032258</td>\n",
       "      <td>0</td>\n",
       "      <td>0</td>\n",
       "      <td>1</td>\n",
       "      <td>0</td>\n",
       "      <td>1</td>\n",
       "    </tr>\n",
       "    <tr>\n",
       "      <th>63</th>\n",
       "      <td>1</td>\n",
       "      <td>0</td>\n",
       "      <td>0</td>\n",
       "      <td>0</td>\n",
       "      <td>0</td>\n",
       "      <td>1</td>\n",
       "      <td>0</td>\n",
       "      <td>0</td>\n",
       "      <td>1</td>\n",
       "      <td>0</td>\n",
       "      <td>...</td>\n",
       "      <td>1</td>\n",
       "      <td>0</td>\n",
       "      <td>0</td>\n",
       "      <td>0.465649</td>\n",
       "      <td>0.000000</td>\n",
       "      <td>0</td>\n",
       "      <td>1</td>\n",
       "      <td>0</td>\n",
       "      <td>0</td>\n",
       "      <td>1</td>\n",
       "    </tr>\n",
       "    <tr>\n",
       "      <th>270</th>\n",
       "      <td>1</td>\n",
       "      <td>0</td>\n",
       "      <td>0</td>\n",
       "      <td>0</td>\n",
       "      <td>0</td>\n",
       "      <td>1</td>\n",
       "      <td>0</td>\n",
       "      <td>0</td>\n",
       "      <td>1</td>\n",
       "      <td>0</td>\n",
       "      <td>...</td>\n",
       "      <td>0</td>\n",
       "      <td>0</td>\n",
       "      <td>1</td>\n",
       "      <td>0.557252</td>\n",
       "      <td>0.129032</td>\n",
       "      <td>1</td>\n",
       "      <td>0</td>\n",
       "      <td>0</td>\n",
       "      <td>0</td>\n",
       "      <td>0</td>\n",
       "    </tr>\n",
       "    <tr>\n",
       "      <th>39</th>\n",
       "      <td>1</td>\n",
       "      <td>0</td>\n",
       "      <td>0</td>\n",
       "      <td>0</td>\n",
       "      <td>0</td>\n",
       "      <td>1</td>\n",
       "      <td>0</td>\n",
       "      <td>1</td>\n",
       "      <td>0</td>\n",
       "      <td>0</td>\n",
       "      <td>...</td>\n",
       "      <td>0</td>\n",
       "      <td>1</td>\n",
       "      <td>0</td>\n",
       "      <td>0.610687</td>\n",
       "      <td>0.129032</td>\n",
       "      <td>0</td>\n",
       "      <td>0</td>\n",
       "      <td>1</td>\n",
       "      <td>0</td>\n",
       "      <td>1</td>\n",
       "    </tr>\n",
       "    <tr>\n",
       "      <th>277</th>\n",
       "      <td>1</td>\n",
       "      <td>0</td>\n",
       "      <td>0</td>\n",
       "      <td>0</td>\n",
       "      <td>0</td>\n",
       "      <td>1</td>\n",
       "      <td>0</td>\n",
       "      <td>0</td>\n",
       "      <td>1</td>\n",
       "      <td>0</td>\n",
       "      <td>...</td>\n",
       "      <td>0</td>\n",
       "      <td>0</td>\n",
       "      <td>1</td>\n",
       "      <td>0.534351</td>\n",
       "      <td>0.048387</td>\n",
       "      <td>0</td>\n",
       "      <td>1</td>\n",
       "      <td>0</td>\n",
       "      <td>0</td>\n",
       "      <td>0</td>\n",
       "    </tr>\n",
       "  </tbody>\n",
       "</table>\n",
       "<p>5 rows × 23 columns</p>\n",
       "</div>"
      ],
      "text/plain": [
       "     major_vessels_num_0  major_vessels_num_1  major_vessels_num_2  \\\n",
       "112                    1                    0                    0   \n",
       "63                     1                    0                    0   \n",
       "270                    1                    0                    0   \n",
       "39                     1                    0                    0   \n",
       "277                    1                    0                    0   \n",
       "\n",
       "     major_vessels_num_3  major_vessels_num_4  exercise_induced_angina_0  \\\n",
       "112                    0                    0                          1   \n",
       "63                     0                    0                          1   \n",
       "270                    0                    0                          1   \n",
       "39                     0                    0                          1   \n",
       "277                    0                    0                          1   \n",
       "\n",
       "     exercise_induced_angina_1  sex_0  sex_1  slope_st_0  ...  thalassemia_1  \\\n",
       "112                          0      1      0           0  ...              0   \n",
       "63                           0      0      1           0  ...              1   \n",
       "270                          0      0      1           0  ...              0   \n",
       "39                           0      1      0           0  ...              0   \n",
       "277                          0      0      1           0  ...              0   \n",
       "\n",
       "     thalassemia_2  thalassemia_3  maximum_heart_rate   oldpeak  chest_pain_0  \\\n",
       "112              0              1            0.473282  0.032258             0   \n",
       "63               0              0            0.465649  0.000000             0   \n",
       "270              0              1            0.557252  0.129032             1   \n",
       "39               1              0            0.610687  0.129032             0   \n",
       "277              0              1            0.534351  0.048387             0   \n",
       "\n",
       "     chest_pain_1  chest_pain_2  chest_pain_3  target  \n",
       "112             0             1             0       1  \n",
       "63              1             0             0       1  \n",
       "270             0             0             0       0  \n",
       "39              0             1             0       1  \n",
       "277             1             0             0       0  \n",
       "\n",
       "[5 rows x 23 columns]"
      ]
     },
     "execution_count": 48,
     "metadata": {},
     "output_type": "execute_result"
    }
   ],
   "source": [
    "df = data.sample(frac=1, random_state=50)\n",
    "df.head()"
   ]
  },
  {
   "cell_type": "code",
   "execution_count": 49,
   "id": "incredible-california",
   "metadata": {},
   "outputs": [
    {
     "name": "stdout",
     "output_type": "stream",
     "text": [
      "X_train dimensions: (12, 22)\n",
      "y_train dimensions: (12,)\n",
      "\n",
      "X_test dimensions: (3, 22)\n",
      "y_test dimensions: (3,)\n",
      "\n",
      "X_unlabeled dimensions: (288, 22)\n"
     ]
    }
   ],
   "source": [
    "# generating the split indices and partition of data\n",
    "unlabelled_data_ind = round(len(df) * 0.95)\n",
    "train_ind = unlabelled_data_ind + round(len(df) * 0.04)\n",
    "test_ind = train_ind + round(len(df) * 0.01)\n",
    "\n",
    "unlabelled = df.iloc[:unlabelled_data_ind]\n",
    "train = df.iloc[unlabelled_data_ind:train_ind]\n",
    "test = df.iloc[train_ind:]\n",
    "\n",
    "# assigning the data to train, test and unlabelled sets\n",
    "X_train = train.drop('target', axis=1)\n",
    "y_train = train['target']\n",
    "\n",
    "X_test = test.drop('target', axis=1)\n",
    "y_test = test['target']\n",
    "\n",
    "X_unlabeled = unlabelled.drop('target', axis=1)\n",
    "\n",
    "\n",
    "# Check dimensions of data after splitting\n",
    "\n",
    "print(f\"X_train dimensions: {X_train.shape}\")\n",
    "print(f\"y_train dimensions: {y_train.shape}\\n\")\n",
    "\n",
    "print(f\"X_test dimensions: {X_test.shape}\")\n",
    "print(f\"y_test dimensions: {y_test.shape}\\n\")\n",
    "\n",
    "print(f\"X_unlabeled dimensions: {X_unlabeled.shape}\")"
   ]
  },
  {
   "cell_type": "code",
   "execution_count": 50,
   "id": "breeding-program",
   "metadata": {},
   "outputs": [
    {
     "data": {
      "text/plain": [
       "<AxesSubplot:>"
      ]
     },
     "execution_count": 50,
     "metadata": {},
     "output_type": "execute_result"
    },
    {
     "data": {
      "image/png": "[encoded data removed]",
      "text/plain": [
       "<Figure size 432x288 with 1 Axes>"
      ]
     },
     "metadata": {
      "needs_background": "light"
     },
     "output_type": "display_data"
    }
   ],
   "source": [
    "y_train.value_counts().plot(kind='bar')"
   ]
  },
  {
   "cell_type": "code",
   "execution_count": 51,
   "id": "organized-color",
   "metadata": {},
   "outputs": [
    {
     "name": "stdout",
     "output_type": "stream",
     "text": [
      "------------------------------------------------------------\n",
      "Test Scores : VotingClassifier(estimators=[('svm', SVC(probability=True, random_state=55)),\n",
      "                             ('rf',\n",
      "                              RandomForestClassifier(n_estimators=150, n_jobs=1,\n",
      "                                                     random_state=55)),\n",
      "                             ('knn', KNeighborsClassifier())],\n",
      "                 voting='soft', weights=[1, 1, 1])\n",
      "Accuracy:1.0\tF1 Score:1.0\n",
      "------------------------------------------------------------\n",
      "<sklearn.metrics._plot.confusion_matrix.ConfusionMatrixDisplay object at 0x11f00c9a0>\n"
     ]
    },
    {
     "data": {
      "image/png": "[encoded data removed]",
      "text/plain": [
       "<Figure size 432x288 with 2 Axes>"
      ]
     },
     "metadata": {
      "needs_background": "light"
     },
     "output_type": "display_data"
    }
   ],
   "source": [
    "# initial classifier on this data\n",
    "start_time = time.time()\n",
    "\n",
    "en6_acc, en6_f1, en6_pp = model(ensemble, X_train,X_test,y_train,y_test)"
   ]
  },
  {
   "cell_type": "code",
   "execution_count": 52,
   "id": "killing-craps",
   "metadata": {},
   "outputs": [
    {
     "data": {
      "image/png": "[encoded data removed]",
      "text/plain": [
       "<Figure size 432x288 with 1 Axes>"
      ]
     },
     "metadata": {
      "needs_background": "light"
     },
     "output_type": "display_data"
    }
   ],
   "source": [
    "_, _ = plot_roc(y_test, en6_pp)"
   ]
  },
  {
   "cell_type": "code",
   "execution_count": 53,
   "id": "rocky-petroleum",
   "metadata": {},
   "outputs": [
    {
     "name": "stdout",
     "output_type": "stream",
     "text": [
      "Iteration 0\n",
      "Accuracy : 1.0\tF1 Score ; 1.0\n",
      "Now predicting labels for unlabeled data...\n",
      "0 high-probability predictions added to training data.\n",
      "288 unlabeled instances remaining.\n",
      "\n"
     ]
    }
   ],
   "source": [
    "# Initiate iteration counter\n",
    "iterations = 0\n",
    "\n",
    "# Containers to hold f1_scores and # of pseudo-labels\n",
    "train_f1s = []\n",
    "test_f1s = []\n",
    "pseudo_labels = []\n",
    "\n",
    "# Assign value to initiate while loop\n",
    "high_prob = [1] \n",
    "\n",
    "# Loop will run until there are no more high-probability pseudo-labels\n",
    "while len(high_prob) > 0:\n",
    "        \n",
    "    # Fit classifier and make train/test predictions\n",
    "    clf = ensemble\n",
    "    clf.fit(X_train, y_train)\n",
    "    y_pred = clf.predict(X_test)\n",
    "\n",
    "    # Calculate and print iteration # and f1 scores, and store f1 scores\n",
    "    test_f1, test_acc = get_scores(y_test, y_pred)\n",
    "    print(f\"Iteration {iterations}\")\n",
    "    print(f\"Accuracy : {test_acc}\\tF1 Score ; {test_f1}\")\n",
    "    test_f1s.append(test_f1)\n",
    "   \n",
    "    # Generate predictions and probabilities for unlabeled data\n",
    "    print(f\"Now predicting labels for unlabeled data...\")\n",
    "\n",
    "    pred_probs = clf.predict_proba(X_unlabeled)\n",
    "    preds = clf.predict(X_unlabeled)\n",
    "    prob_0 = pred_probs[:,0]\n",
    "    prob_1 = pred_probs[:,1]\n",
    "\n",
    "    # Store predictions and probabilities in dataframe\n",
    "    df_pred_prob = pd.DataFrame([])\n",
    "    df_pred_prob['preds'] = preds\n",
    "    df_pred_prob['prob_0'] = prob_0\n",
    "    df_pred_prob['prob_1'] = prob_1\n",
    "    df_pred_prob.index = X_unlabeled.index\n",
    "    \n",
    "    # Separate predictions with > 95% probability\n",
    "    high_prob = pd.concat([df_pred_prob.loc[df_pred_prob['prob_0'] > 0.98],\n",
    "                           df_pred_prob.loc[df_pred_prob['prob_1'] > 0.98]],\n",
    "                          axis=0)\n",
    "    \n",
    "    print(f\"{len(high_prob)} high-probability predictions added to training data.\")\n",
    "    \n",
    "    pseudo_labels.append(len(high_prob))\n",
    "\n",
    "    # Add pseudo-labeled data to training data\n",
    "    X_train = pd.concat([X_train, X_unlabeled.loc[high_prob.index]], axis=0)\n",
    "    y_train = pd.concat([y_train, high_prob.preds])      \n",
    "    \n",
    "    # Drop pseudo-labeled instances from unlabeled data\n",
    "    X_unlabeled = X_unlabeled.drop(index=high_prob.index)\n",
    "    print(f\"{len(X_unlabeled)} unlabeled instances remaining.\\n\")\n",
    "    \n",
    "    # Update iteration counter\n",
    "    iterations += 1\n",
    "end_time = time.time()"
   ]
  },
  {
   "cell_type": "code",
   "execution_count": 54,
   "id": "speaking-barrel",
   "metadata": {},
   "outputs": [
    {
     "data": {
      "text/plain": [
       "<sklearn.metrics._plot.confusion_matrix.ConfusionMatrixDisplay at 0x12cf1a4f0>"
      ]
     },
     "execution_count": 54,
     "metadata": {},
     "output_type": "execute_result"
    },
    {
     "data": {
      "image/png": "[encoded data removed]",
      "text/plain": [
       "<Figure size 432x288 with 2 Axes>"
      ]
     },
     "metadata": {
      "needs_background": "light"
     },
     "output_type": "display_data"
    }
   ],
   "source": [
    "plot_confusion_matrix(clf, X_test, y_test, cmap='Blues', normalize='true')"
   ]
  },
  {
   "cell_type": "code",
   "execution_count": 55,
   "id": "proof-nothing",
   "metadata": {},
   "outputs": [
    {
     "data": {
      "image/png": "[encoded data removed]",
      "text/plain": [
       "<Figure size 432x288 with 1 Axes>"
      ]
     },
     "metadata": {
      "needs_background": "light"
     },
     "output_type": "display_data"
    }
   ],
   "source": [
    "en6_fpr, en6_tpr = plot_roc(y_test, clf.predict_proba(X_test))"
   ]
  },
  {
   "cell_type": "code",
   "execution_count": 56,
   "id": "artificial-clear",
   "metadata": {},
   "outputs": [
    {
     "name": "stdout",
     "output_type": "stream",
     "text": [
      "Time elapsed, 95% Unlabelled Dataset : 0.764631986618042\n"
     ]
    }
   ],
   "source": [
    "final_scores[('95% Unlabelled Data Accuracy', '95% Unlabelled Data F1 score')] = (test_acc, test_f1)\n",
    "time_elapsed[\"95% Unlabelled\"] = end_time - start_time\n",
    "print(f\"Time elapsed, 95% Unlabelled Dataset : {time_elapsed['95% Unlabelled']}\")"
   ]
  },
  {
   "cell_type": "markdown",
   "id": "weird-newman",
   "metadata": {},
   "source": [
    "#### FINAL RESULTS"
   ]
  },
  {
   "cell_type": "code",
   "execution_count": 57,
   "id": "revised-jacob",
   "metadata": {},
   "outputs": [
    {
     "data": {
      "text/plain": [
       "{('Fully Supervised Accuracy', 'Fully Supervised F1 Score'): (0.84,\n",
       "  0.8620689655172413),\n",
       " ('10% Unlabelled Data Accuracy',\n",
       "  '10% Unlabelled Data F1 score'): (0.8241758241758241, 0.8545454545454546),\n",
       " ('20% Unlabelled Data Accuracy',\n",
       "  '20% Unlabelled Data F1 score'): (0.7666666666666667, 0.7941176470588236),\n",
       " ('50% Unlabelled Data Accuracy',\n",
       "  '50% Unlabelled Data F1 score'): (0.7111111111111111, 0.7636363636363638),\n",
       " ('90% Unlabelled Data Accuracy',\n",
       "  '90% Unlabelled Data F1 score'): (0.6666666666666666, 0.6666666666666666),\n",
       " ('95% Unlabelled Data Accuracy', '95% Unlabelled Data F1 score'): (1.0, 1.0)}"
      ]
     },
     "execution_count": 57,
     "metadata": {},
     "output_type": "execute_result"
    }
   ],
   "source": [
    "final_scores"
   ]
  },
  {
   "cell_type": "code",
   "execution_count": 58,
   "id": "virgin-opinion",
   "metadata": {},
   "outputs": [],
   "source": [
    "final_scores_df = pd.DataFrame(data=['Nan'], index=[0])\n",
    "for key, value in final_scores.items():\n",
    "    final_scores_df[key[0]] = value[0]\n",
    "    final_scores_df[key[1]] = value[1]"
   ]
  },
  {
   "cell_type": "code",
   "execution_count": 59,
   "id": "dominican-rochester",
   "metadata": {},
   "outputs": [
    {
     "data": {
      "text/html": [
       "<div>\n",
       "<style scoped>\n",
       "    .dataframe tbody tr th:only-of-type {\n",
       "        vertical-align: middle;\n",
       "    }\n",
       "\n",
       "    .dataframe tbody tr th {\n",
       "        vertical-align: top;\n",
       "    }\n",
       "\n",
       "    .dataframe thead th {\n",
       "        text-align: right;\n",
       "    }\n",
       "</style>\n",
       "<table border=\"1\" class=\"dataframe\">\n",
       "  <thead>\n",
       "    <tr style=\"text-align: right;\">\n",
       "      <th></th>\n",
       "      <th>Fully Supervised Accuracy</th>\n",
       "      <th>Fully Supervised F1 Score</th>\n",
       "      <th>10% Unlabelled Data Accuracy</th>\n",
       "      <th>10% Unlabelled Data F1 score</th>\n",
       "      <th>20% Unlabelled Data Accuracy</th>\n",
       "      <th>20% Unlabelled Data F1 score</th>\n",
       "      <th>50% Unlabelled Data Accuracy</th>\n",
       "      <th>50% Unlabelled Data F1 score</th>\n",
       "      <th>90% Unlabelled Data Accuracy</th>\n",
       "      <th>90% Unlabelled Data F1 score</th>\n",
       "      <th>95% Unlabelled Data Accuracy</th>\n",
       "      <th>95% Unlabelled Data F1 score</th>\n",
       "    </tr>\n",
       "  </thead>\n",
       "  <tbody>\n",
       "    <tr>\n",
       "      <th>0</th>\n",
       "      <td>0.84</td>\n",
       "      <td>0.862069</td>\n",
       "      <td>0.824176</td>\n",
       "      <td>0.854545</td>\n",
       "      <td>0.766667</td>\n",
       "      <td>0.794118</td>\n",
       "      <td>0.711111</td>\n",
       "      <td>0.763636</td>\n",
       "      <td>0.666667</td>\n",
       "      <td>0.666667</td>\n",
       "      <td>1.0</td>\n",
       "      <td>1.0</td>\n",
       "    </tr>\n",
       "  </tbody>\n",
       "</table>\n",
       "</div>"
      ],
      "text/plain": [
       "   Fully Supervised Accuracy  Fully Supervised F1 Score  \\\n",
       "0                       0.84                   0.862069   \n",
       "\n",
       "   10% Unlabelled Data Accuracy  10% Unlabelled Data F1 score  \\\n",
       "0                      0.824176                      0.854545   \n",
       "\n",
       "   20% Unlabelled Data Accuracy  20% Unlabelled Data F1 score  \\\n",
       "0                      0.766667                      0.794118   \n",
       "\n",
       "   50% Unlabelled Data Accuracy  50% Unlabelled Data F1 score  \\\n",
       "0                      0.711111                      0.763636   \n",
       "\n",
       "   90% Unlabelled Data Accuracy  90% Unlabelled Data F1 score  \\\n",
       "0                      0.666667                      0.666667   \n",
       "\n",
       "   95% Unlabelled Data Accuracy  95% Unlabelled Data F1 score  \n",
       "0                           1.0                           1.0  "
      ]
     },
     "execution_count": 59,
     "metadata": {},
     "output_type": "execute_result"
    }
   ],
   "source": [
    "final_scores_df.drop(columns=[final_scores_df.columns[0]], inplace=True)\n",
    "final_scores_df"
   ]
  },
  {
   "cell_type": "code",
   "execution_count": null,
   "id": "related-covering",
   "metadata": {},
   "outputs": [],
   "source": [
    "plt.plot(en1_fpr, en1_tpr,color=\"orange\", label=\"Fullysupervised\")\n",
    "plt.plot(en2_fpr, en2_tpr,color=\"blue\", label=\"10% Unlabelled Data\")\n",
    "plt.plot(en3_fpr, en3_tpr,color=\"green\", label=\"20% Unlabelled Data\")\n",
    "plt.plot(en4_fpr, en4_tpr,color=\"red\", label=\"50% Unlabelled Data\")\n",
    "plt.plot(en5_fpr, en5_tpr,color=\"yellow\", label=\"90% Unlabelled Data\")\n",
    "plt.plot(en6_fpr, en6_tpr,color=\"black\", label=\"95% Unlabelled Data\")\n",
    "plt.xlabel(\"False Positive Rate\")\n",
    "plt.ylabel(\"Ture Positive Rate\")\n",
    "plt.legend()"
   ]
  }
 ],
 "metadata": {
  "kernelspec": {
   "display_name": "Python 3 (ipykernel)",
   "language": "python",
   "name": "python3"
  },
  "language_info": {
   "codemirror_mode": {
    "name": "ipython",
    "version": 3
   },
   "file_extension": ".py",
   "mimetype": "text/x-python",
   "name": "python",
   "nbconvert_exporter": "python",
   "pygments_lexer": "ipython3",
   "version": "3.9.9"
  }
 },
 "nbformat": 4,
 "nbformat_minor": 5
}
